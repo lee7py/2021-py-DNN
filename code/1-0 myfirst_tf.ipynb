{
  "nbformat": 4,
  "nbformat_minor": 5,
  "metadata": {
    "kernelspec": {
      "display_name": "tf2.5",
      "language": "python",
      "name": "tfdnn"
    },
    "language_info": {
      "codemirror_mode": {
        "name": "ipython",
        "version": 3
      },
      "file_extension": ".py",
      "mimetype": "text/x-python",
      "name": "python",
      "nbconvert_exporter": "python",
      "pygments_lexer": "ipython3",
      "version": "3.9.5"
    },
    "colab": {
      "name": "1-0 myfirst-tf.ipynb",
      "provenance": [],
      "include_colab_link": true
    }
  },
  "cells": [
    {
      "cell_type": "markdown",
      "metadata": {
        "id": "view-in-github",
        "colab_type": "text"
      },
      "source": [
        "<a href=\"https://colab.research.google.com/github/lee7py/2021-py-DNN/blob/main/code/1-0%20myfirst_tf.ipynb\" target=\"_parent\"><img src=\"https://colab.research.google.com/assets/colab-badge.svg\" alt=\"Open In Colab\"/></a>"
      ]
    },
    {
      "cell_type": "code",
      "metadata": {
        "id": "e973cced",
        "outputId": "968b16ab-de81-4d03-c470-77064c1b7355"
      },
      "source": [
        "import tensorflow as tf\n",
        "tf.__version__"
      ],
      "id": "e973cced",
      "execution_count": null,
      "outputs": [
        {
          "output_type": "execute_result",
          "data": {
            "text/plain": [
              "'2.5.0'"
            ]
          },
          "metadata": {
            "tags": []
          },
          "execution_count": 1
        }
      ]
    },
    {
      "cell_type": "code",
      "metadata": {
        "id": "8273ba4c",
        "outputId": "d76f7cca-ddb4-44ae-8c7a-665ca5bdc3cd"
      },
      "source": [
        "import sklearn as sk\n",
        "sk.__version__"
      ],
      "id": "8273ba4c",
      "execution_count": null,
      "outputs": [
        {
          "output_type": "execute_result",
          "data": {
            "text/plain": [
              "'0.24.2'"
            ]
          },
          "metadata": {
            "tags": []
          },
          "execution_count": 2
        }
      ]
    },
    {
      "cell_type": "code",
      "metadata": {
        "id": "ffb95350",
        "outputId": "dd2ec080-5079-47a0-e63c-83faeea1e5ac"
      },
      "source": [
        "import site\n",
        "site.getsitepackages()"
      ],
      "id": "ffb95350",
      "execution_count": null,
      "outputs": [
        {
          "output_type": "execute_result",
          "data": {
            "text/plain": [
              "['C:\\\\Anaconda3\\\\envs\\\\aidnn',\n",
              " 'C:\\\\Anaconda3\\\\envs\\\\aidnn\\\\lib\\\\site-packages']"
            ]
          },
          "metadata": {
            "tags": []
          },
          "execution_count": 3
        }
      ]
    },
    {
      "cell_type": "code",
      "metadata": {
        "id": "c2775ec2"
      },
      "source": [
        "a, b = 10, 20"
      ],
      "id": "c2775ec2",
      "execution_count": null,
      "outputs": []
    },
    {
      "cell_type": "code",
      "metadata": {
        "id": "2609ee4c",
        "outputId": "7e4a3f08-8239-4b77-cae0-73a0cc1b1ef8"
      },
      "source": [
        "a + b"
      ],
      "id": "2609ee4c",
      "execution_count": null,
      "outputs": [
        {
          "output_type": "execute_result",
          "data": {
            "text/plain": [
              "30"
            ]
          },
          "metadata": {
            "tags": []
          },
          "execution_count": 5
        }
      ]
    },
    {
      "cell_type": "code",
      "metadata": {
        "id": "67421aa6",
        "outputId": "8d44dd03-00a7-47af-c68b-6e059d680c79"
      },
      "source": [
        "x = tf.constant(10)\n",
        "x"
      ],
      "id": "67421aa6",
      "execution_count": null,
      "outputs": [
        {
          "output_type": "execute_result",
          "data": {
            "text/plain": [
              "<tf.Tensor: shape=(), dtype=int32, numpy=10>"
            ]
          },
          "metadata": {
            "tags": []
          },
          "execution_count": 6
        }
      ]
    },
    {
      "cell_type": "code",
      "metadata": {
        "id": "77b80b87",
        "outputId": "5ced2f34-43ed-41db-9e39-a168a59e4951"
      },
      "source": [
        "x"
      ],
      "id": "77b80b87",
      "execution_count": null,
      "outputs": [
        {
          "output_type": "execute_result",
          "data": {
            "text/plain": [
              "<tf.Tensor: shape=(), dtype=int32, numpy=10>"
            ]
          },
          "metadata": {
            "tags": []
          },
          "execution_count": 7
        }
      ]
    },
    {
      "cell_type": "code",
      "metadata": {
        "id": "175d29c6",
        "outputId": "09b95b28-68f1-4278-acd1-00c2157693b8"
      },
      "source": [
        "x.numpy()"
      ],
      "id": "175d29c6",
      "execution_count": null,
      "outputs": [
        {
          "output_type": "execute_result",
          "data": {
            "text/plain": [
              "10"
            ]
          },
          "metadata": {
            "tags": []
          },
          "execution_count": 8
        }
      ]
    },
    {
      "cell_type": "code",
      "metadata": {
        "id": "10e521de",
        "outputId": "c3737767-9777-4a40-9ec6-fbe7536cfaed"
      },
      "source": [
        "y = tf.constant(20)\n",
        "y"
      ],
      "id": "10e521de",
      "execution_count": null,
      "outputs": [
        {
          "output_type": "execute_result",
          "data": {
            "text/plain": [
              "<tf.Tensor: shape=(), dtype=int32, numpy=20>"
            ]
          },
          "metadata": {
            "tags": []
          },
          "execution_count": 9
        }
      ]
    },
    {
      "cell_type": "code",
      "metadata": {
        "id": "f67efb3d",
        "outputId": "61de0efc-592b-4a0f-bfa4-c83f799c4dfa"
      },
      "source": [
        "y.numpy()"
      ],
      "id": "f67efb3d",
      "execution_count": null,
      "outputs": [
        {
          "output_type": "execute_result",
          "data": {
            "text/plain": [
              "20"
            ]
          },
          "metadata": {
            "tags": []
          },
          "execution_count": 10
        }
      ]
    },
    {
      "cell_type": "code",
      "metadata": {
        "id": "0f1a69d6",
        "outputId": "2dcf2c96-017c-4cb0-e191-d078f009f88b"
      },
      "source": [
        "x + y"
      ],
      "id": "0f1a69d6",
      "execution_count": null,
      "outputs": [
        {
          "output_type": "execute_result",
          "data": {
            "text/plain": [
              "<tf.Tensor: shape=(), dtype=int32, numpy=30>"
            ]
          },
          "metadata": {
            "tags": []
          },
          "execution_count": 11
        }
      ]
    },
    {
      "cell_type": "code",
      "metadata": {
        "id": "ca487abc",
        "outputId": "5e9c628e-9b53-42ea-f6ec-da39f236d2cf"
      },
      "source": [
        "z = x + y\n",
        "z"
      ],
      "id": "ca487abc",
      "execution_count": null,
      "outputs": [
        {
          "output_type": "execute_result",
          "data": {
            "text/plain": [
              "<tf.Tensor: shape=(), dtype=int32, numpy=30>"
            ]
          },
          "metadata": {
            "tags": []
          },
          "execution_count": 12
        }
      ]
    },
    {
      "cell_type": "code",
      "metadata": {
        "id": "0256cd6a",
        "outputId": "1c2a7e24-9558-4fcd-a615-985bda86ead7"
      },
      "source": [
        "z.numpy()"
      ],
      "id": "0256cd6a",
      "execution_count": null,
      "outputs": [
        {
          "output_type": "execute_result",
          "data": {
            "text/plain": [
              "30"
            ]
          },
          "metadata": {
            "tags": []
          },
          "execution_count": 13
        }
      ]
    },
    {
      "cell_type": "code",
      "metadata": {
        "id": "56572a63",
        "outputId": "fd089a62-4243-46d3-eb97-58654440a041"
      },
      "source": [
        "z.shape"
      ],
      "id": "56572a63",
      "execution_count": null,
      "outputs": [
        {
          "output_type": "execute_result",
          "data": {
            "text/plain": [
              "TensorShape([])"
            ]
          },
          "metadata": {
            "tags": []
          },
          "execution_count": 14
        }
      ]
    },
    {
      "cell_type": "code",
      "metadata": {
        "id": "5bde6eca",
        "outputId": "34cd5eb3-8cbd-4022-afaa-8774ce7aec89"
      },
      "source": [
        "m = tf.constant([1, 2, 3])\n",
        "m"
      ],
      "id": "5bde6eca",
      "execution_count": null,
      "outputs": [
        {
          "output_type": "execute_result",
          "data": {
            "text/plain": [
              "<tf.Tensor: shape=(3,), dtype=int32, numpy=array([1, 2, 3])>"
            ]
          },
          "metadata": {
            "tags": []
          },
          "execution_count": 15
        }
      ]
    },
    {
      "cell_type": "code",
      "metadata": {
        "id": "ed954d4f",
        "outputId": "2d698338-1ff0-4007-b47b-f446ed5248ea"
      },
      "source": [
        "m.numpy()"
      ],
      "id": "ed954d4f",
      "execution_count": null,
      "outputs": [
        {
          "output_type": "execute_result",
          "data": {
            "text/plain": [
              "array([1, 2, 3])"
            ]
          },
          "metadata": {
            "tags": []
          },
          "execution_count": 16
        }
      ]
    },
    {
      "cell_type": "code",
      "metadata": {
        "id": "5e3508db",
        "outputId": "48c2e6b0-d11a-4e8f-d2a4-0942c31a3399"
      },
      "source": [
        "tf.executing_eagerly()"
      ],
      "id": "5e3508db",
      "execution_count": null,
      "outputs": [
        {
          "output_type": "execute_result",
          "data": {
            "text/plain": [
              "True"
            ]
          },
          "metadata": {
            "tags": []
          },
          "execution_count": 17
        }
      ]
    },
    {
      "cell_type": "code",
      "metadata": {
        "id": "6f198ef2"
      },
      "source": [
        ""
      ],
      "id": "6f198ef2",
      "execution_count": null,
      "outputs": []
    }
  ]
}