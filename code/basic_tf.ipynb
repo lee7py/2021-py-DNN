{
 "cells": [
  {
   "cell_type": "markdown",
   "metadata": {
    "colab_type": "text",
    "id": "zOmbjzxfw5Vl"
   },
   "source": [
    "# Tensor Manipulation"
   ]
  },
  {
   "cell_type": "code",
   "execution_count": 1,
   "metadata": {
    "colab": {
     "base_uri": "https://localhost:8080/",
     "height": 34
    },
    "colab_type": "code",
    "executionInfo": {
     "elapsed": 956,
     "status": "ok",
     "timestamp": 1594855158346,
     "user": {
      "displayName": "이공계",
      "photoUrl": "",
      "userId": "03204957189173030334"
     },
     "user_tz": -540
    },
    "id": "bczyMb_hw5Vm",
    "outputId": "554875eb-0d03-4a75-8f6d-17a1c2db3b04"
   },
   "outputs": [
    {
     "name": "stdout",
     "output_type": "stream",
     "text": [
      "2.5.0\n"
     ]
    }
   ],
   "source": [
    "import tensorflow as tf\n",
    "import numpy as np\n",
    "import pprint\n",
    "\n",
    "pp = pprint.PrettyPrinter(indent=4)\n",
    "print(tf.__version__)"
   ]
  },
  {
   "cell_type": "markdown",
   "metadata": {
    "colab_type": "text",
    "id": "_6WICTpUw5Vp"
   },
   "source": [
    "## Simple Array"
   ]
  },
  {
   "cell_type": "code",
   "execution_count": 5,
   "metadata": {
    "colab": {
     "base_uri": "https://localhost:8080/",
     "height": 118
    },
    "colab_type": "code",
    "executionInfo": {
     "elapsed": 1009,
     "status": "ok",
     "timestamp": 1594855186706,
     "user": {
      "displayName": "이공계",
      "photoUrl": "",
      "userId": "03204957189173030334"
     },
     "user_tz": -540
    },
    "id": "Z6Dk6knvw5Vp",
    "outputId": "de609ef4-821f-47d2-b4b4-7d4ac4fe1b6a"
   },
   "outputs": [
    {
     "name": "stdout",
     "output_type": "stream",
     "text": [
      "[0. 1. 2. 3. 4. 5. 6.]\n",
      "1\n",
      "(7,)\n",
      "0.0 1.0 6.0\n",
      "[2. 3. 4.] [4. 5.]\n",
      "[0. 1.] [3. 4. 5. 6.]\n"
     ]
    }
   ],
   "source": [
    "t = np.array([0., 1., 2., 3., 4., 5., 6.])\n",
    "print(t)\n",
    "print(t.ndim) # rank\n",
    "print(t.shape) # shape\n",
    "print(t[0], t[1], t[-1])\n",
    "print(t[2:5], t[4:-1])\n",
    "print(t[:2], t[3:])"
   ]
  },
  {
   "cell_type": "markdown",
   "metadata": {
    "colab_type": "text",
    "id": "cp5Cbw3vw5Vs"
   },
   "source": [
    "# 2D Array"
   ]
  },
  {
   "cell_type": "code",
   "execution_count": 7,
   "metadata": {
    "colab": {
     "base_uri": "https://localhost:8080/",
     "height": 185
    },
    "colab_type": "code",
    "executionInfo": {
     "elapsed": 986,
     "status": "ok",
     "timestamp": 1594855226415,
     "user": {
      "displayName": "이공계",
      "photoUrl": "",
      "userId": "03204957189173030334"
     },
     "user_tz": -540
    },
    "id": "lLK3T-0dw5Vs",
    "outputId": "3d5ba4bb-7b03-40a2-c5e6-1fcbe66fdfc5"
   },
   "outputs": [
    {
     "name": "stdout",
     "output_type": "stream",
     "text": [
      "array([[ 1.,  2.,  3.],\n",
      "       [ 4.,  5.,  6.],\n",
      "       [ 7.,  8.,  9.],\n",
      "       [10., 11., 12.]])\n",
      "[[ 1.  2.  3.]\n",
      " [ 4.  5.  6.]\n",
      " [ 7.  8.  9.]\n",
      " [10. 11. 12.]]\n",
      "2\n",
      "(4, 3)\n"
     ]
    }
   ],
   "source": [
    "t = np.array([[1., 2., 3.], [4., 5., 6.], [7., 8., 9.], [10., 11., 12.]])\n",
    "pp.pprint(t)\n",
    "print(t)\n",
    "print(t.ndim) # rank\n",
    "print(t.shape) # shape"
   ]
  },
  {
   "cell_type": "markdown",
   "metadata": {
    "colab_type": "text",
    "id": "ooKzZFm7w5Vu"
   },
   "source": [
    "## Shape, Rank, Axis"
   ]
  },
  {
   "cell_type": "code",
   "execution_count": 10,
   "metadata": {
    "colab": {
     "base_uri": "https://localhost:8080/",
     "height": 34
    },
    "colab_type": "code",
    "executionInfo": {
     "elapsed": 928,
     "status": "ok",
     "timestamp": 1594855299419,
     "user": {
      "displayName": "이공계",
      "photoUrl": "",
      "userId": "03204957189173030334"
     },
     "user_tz": -540
    },
    "id": "vb-fENDXw5Vu",
    "outputId": "d117f6b5-195a-499d-82b4-774c1b781657"
   },
   "outputs": [
    {
     "data": {
      "text/plain": [
       "array([4], dtype=int32)"
      ]
     },
     "execution_count": 10,
     "metadata": {
      "tags": []
     },
     "output_type": "execute_result"
    }
   ],
   "source": [
    "t = tf.constant([1,2,3,4])\n",
    "tf.shape(t).numpy()"
   ]
  },
  {
   "cell_type": "code",
   "execution_count": 9,
   "metadata": {
    "colab": {
     "base_uri": "https://localhost:8080/",
     "height": 34
    },
    "colab_type": "code",
    "executionInfo": {
     "elapsed": 752,
     "status": "ok",
     "timestamp": 1594855289947,
     "user": {
      "displayName": "이공계",
      "photoUrl": "",
      "userId": "03204957189173030334"
     },
     "user_tz": -540
    },
    "id": "COUATio0w5Vw",
    "outputId": "db849501-e7c5-4896-e61c-eb643513fe11"
   },
   "outputs": [
    {
     "data": {
      "text/plain": [
       "array([2, 2], dtype=int32)"
      ]
     },
     "execution_count": 9,
     "metadata": {
      "tags": []
     },
     "output_type": "execute_result"
    }
   ],
   "source": [
    "t = tf.constant([[1,2],\n",
    "                 [3,4]])\n",
    "tf.shape(t).numpy()"
   ]
  },
  {
   "cell_type": "code",
   "execution_count": 13,
   "metadata": {
    "colab": {
     "base_uri": "https://localhost:8080/",
     "height": 168
    },
    "colab_type": "code",
    "executionInfo": {
     "elapsed": 794,
     "status": "ok",
     "timestamp": 1594855330914,
     "user": {
      "displayName": "이공계",
      "photoUrl": "",
      "userId": "03204957189173030334"
     },
     "user_tz": -540
    },
    "id": "7rn1sicEw5Vy",
    "outputId": "b60ce788-6892-4fa4-f091-6a757a1b68d6"
   },
   "outputs": [
    {
     "name": "stdout",
     "output_type": "stream",
     "text": [
      "tf.Tensor(\n",
      "[[[[ 1  2  3  4]\n",
      "   [ 5  6  7  8]\n",
      "   [ 9 10 11 12]]\n",
      "\n",
      "  [[13 14 15 16]\n",
      "   [17 18 19 20]\n",
      "   [21 22 23 24]]]], shape=(1, 2, 3, 4), dtype=int32)\n"
     ]
    },
    {
     "data": {
      "text/plain": [
       "array([1, 2, 3, 4], dtype=int32)"
      ]
     },
     "execution_count": 13,
     "metadata": {
      "tags": []
     },
     "output_type": "execute_result"
    }
   ],
   "source": [
    "t = tf.constant([[[[1, 2, 3, 4], [5, 6, 7, 8], [9, 10, 11, 12]],[[13, 14, 15, 16], [17, 18, 19, 20], [21, 22, 23, 24]]]])\n",
    "print(t)\n",
    "tf.shape(t).numpy()"
   ]
  },
  {
   "cell_type": "code",
   "execution_count": 11,
   "metadata": {
    "colab": {
     "base_uri": "https://localhost:8080/",
     "height": 50
    },
    "colab_type": "code",
    "executionInfo": {
     "elapsed": 974,
     "status": "ok",
     "timestamp": 1594855375093,
     "user": {
      "displayName": "이공계",
      "photoUrl": "",
      "userId": "03204957189173030334"
     },
     "user_tz": -540
    },
    "id": "-0HaCfnjw5V1",
    "outputId": "49ff4818-04c0-414d-8d3b-66a7e31190db"
   },
   "outputs": [
    {
     "data": {
      "text/plain": [
       "[[[[1, 2, 3, 4], [5, 6, 7, 8], [9, 10, 11, 12]],\n",
       "  [[13, 14, 15, 16], [17, 18, 19, 20], [21, 22, 23, 24]]]]"
      ]
     },
     "execution_count": 11,
     "metadata": {},
     "output_type": "execute_result"
    }
   ],
   "source": [
    "a = [\n",
    "    [\n",
    "        [\n",
    "            [1,2,3,4], \n",
    "            [5,6,7,8],\n",
    "            [9,10,11,12]\n",
    "        ],\n",
    "        [\n",
    "            [13,14,15,16],\n",
    "            [17,18,19,20], \n",
    "            [21,22,23,24]\n",
    "        ]\n",
    "    ]\n",
    "]\n",
    "a"
   ]
  },
  {
   "cell_type": "code",
   "execution_count": 13,
   "metadata": {},
   "outputs": [
    {
     "name": "stdout",
     "output_type": "stream",
     "text": [
      "[   [   [[1, 2, 3, 4], [5, 6, 7, 8], [9, 10, 11, 12]],\n",
      "        [[13, 14, 15, 16], [17, 18, 19, 20], [21, 22, 23, 24]]]]\n"
     ]
    }
   ],
   "source": [
    "pp.pprint(a)"
   ]
  },
  {
   "cell_type": "code",
   "execution_count": 14,
   "metadata": {},
   "outputs": [
    {
     "name": "stdout",
     "output_type": "stream",
     "text": [
      "[[[[1, 2, 3, 4], [5, 6, 7, 8], [9, 10, 11, 12]], [[13, 14, 15, 16], [17, 18, 19, 20], [21, 22, 23, 24]]]]\n"
     ]
    }
   ],
   "source": [
    "print(a)"
   ]
  },
  {
   "cell_type": "markdown",
   "metadata": {
    "colab_type": "text",
    "id": "EAGs0d9Qw5V3"
   },
   "source": [
    "## Matmul VS multiply"
   ]
  },
  {
   "cell_type": "code",
   "execution_count": 15,
   "metadata": {
    "colab": {
     "base_uri": "https://localhost:8080/",
     "height": 34
    },
    "colab_type": "code",
    "executionInfo": {
     "elapsed": 660,
     "status": "ok",
     "timestamp": 1594855387367,
     "user": {
      "displayName": "이공계",
      "photoUrl": "",
      "userId": "03204957189173030334"
     },
     "user_tz": -540
    },
    "id": "LdNW6HKXw5V3",
    "outputId": "1b31128e-7835-4004-899d-371cbe6ed87d"
   },
   "outputs": [
    {
     "data": {
      "text/plain": [
       "array([[12.]], dtype=float32)"
      ]
     },
     "execution_count": 15,
     "metadata": {
      "tags": []
     },
     "output_type": "execute_result"
    }
   ],
   "source": [
    "matrix1 = tf.constant([[3., 3.]])\n",
    "matrix2 = tf.constant([[2.],[2.]])\n",
    "tf.matmul(matrix1, matrix2).numpy()"
   ]
  },
  {
   "cell_type": "code",
   "execution_count": 16,
   "metadata": {
    "colab": {
     "base_uri": "https://localhost:8080/",
     "height": 50
    },
    "colab_type": "code",
    "executionInfo": {
     "elapsed": 776,
     "status": "ok",
     "timestamp": 1594855395110,
     "user": {
      "displayName": "이공계",
      "photoUrl": "",
      "userId": "03204957189173030334"
     },
     "user_tz": -540
    },
    "id": "hErD-dRrw5V5",
    "outputId": "45d93f77-f04f-4657-e864-f4791df84d20"
   },
   "outputs": [
    {
     "data": {
      "text/plain": [
       "array([[6., 6.],\n",
       "       [6., 6.]], dtype=float32)"
      ]
     },
     "execution_count": 16,
     "metadata": {
      "tags": []
     },
     "output_type": "execute_result"
    }
   ],
   "source": [
    "(matrix1*matrix2).numpy()"
   ]
  },
  {
   "cell_type": "markdown",
   "metadata": {
    "colab_type": "text",
    "id": "b2obYv9Zw5V7"
   },
   "source": [
    "## Watch out broadcasting"
   ]
  },
  {
   "cell_type": "code",
   "execution_count": 17,
   "metadata": {
    "colab": {
     "base_uri": "https://localhost:8080/",
     "height": 50
    },
    "colab_type": "code",
    "executionInfo": {
     "elapsed": 1002,
     "status": "ok",
     "timestamp": 1594855422868,
     "user": {
      "displayName": "이공계",
      "photoUrl": "",
      "userId": "03204957189173030334"
     },
     "user_tz": -540
    },
    "id": "yYvbIgGDw5V7",
    "outputId": "f718da6f-03fa-4913-bdb0-79ae6f4accd2"
   },
   "outputs": [
    {
     "data": {
      "text/plain": [
       "array([[5., 5.],\n",
       "       [5., 5.]], dtype=float32)"
      ]
     },
     "execution_count": 17,
     "metadata": {
      "tags": []
     },
     "output_type": "execute_result"
    }
   ],
   "source": [
    "matrix1 = tf.constant([[3., 3.]])\n",
    "matrix2 = tf.constant([[2.],[2.]])\n",
    "(matrix1+matrix2).numpy()"
   ]
  },
  {
   "cell_type": "code",
   "execution_count": 18,
   "metadata": {
    "colab": {
     "base_uri": "https://localhost:8080/",
     "height": 34
    },
    "colab_type": "code",
    "executionInfo": {
     "elapsed": 725,
     "status": "ok",
     "timestamp": 1594855430251,
     "user": {
      "displayName": "이공계",
      "photoUrl": "",
      "userId": "03204957189173030334"
     },
     "user_tz": -540
    },
    "id": "n5WC3j8Xw5V9",
    "outputId": "3b8c14ab-dc31-48e9-c96b-950ffd9eaa77"
   },
   "outputs": [
    {
     "data": {
      "text/plain": [
       "array([[5., 5.]], dtype=float32)"
      ]
     },
     "execution_count": 18,
     "metadata": {
      "tags": []
     },
     "output_type": "execute_result"
    }
   ],
   "source": [
    "matrix1 = tf.constant([[3., 3.]])\n",
    "matrix2 = tf.constant([[2., 2.]])\n",
    "(matrix1+matrix2).numpy()"
   ]
  },
  {
   "cell_type": "markdown",
   "metadata": {
    "colab_type": "text",
    "id": "mcv7zOtOw5V_"
   },
   "source": [
    "## Random values for variable initializations "
   ]
  },
  {
   "cell_type": "code",
   "execution_count": 20,
   "metadata": {
    "colab": {
     "base_uri": "https://localhost:8080/",
     "height": 34
    },
    "colab_type": "code",
    "executionInfo": {
     "elapsed": 1002,
     "status": "ok",
     "timestamp": 1594855457649,
     "user": {
      "displayName": "이공계",
      "photoUrl": "",
      "userId": "03204957189173030334"
     },
     "user_tz": -540
    },
    "id": "xkj2E3Xsw5V_",
    "outputId": "3cdf9a1a-8d02-4b9a-abfd-2064ba8ccdd9",
    "scrolled": true
   },
   "outputs": [
    {
     "data": {
      "text/plain": [
       "array([ 0.04901903, -0.66172516, -1.2745273 ], dtype=float32)"
      ]
     },
     "execution_count": 20,
     "metadata": {
      "tags": []
     },
     "output_type": "execute_result"
    }
   ],
   "source": [
    "tf.random.normal([3]).numpy()"
   ]
  },
  {
   "cell_type": "code",
   "execution_count": 22,
   "metadata": {
    "colab": {
     "base_uri": "https://localhost:8080/",
     "height": 34
    },
    "colab_type": "code",
    "executionInfo": {
     "elapsed": 771,
     "status": "ok",
     "timestamp": 1594855470539,
     "user": {
      "displayName": "이공계",
      "photoUrl": "",
      "userId": "03204957189173030334"
     },
     "user_tz": -540
    },
    "id": "rf72av-ww5WB",
    "outputId": "2246fdb6-7a66-4352-9743-268c1c6f902b"
   },
   "outputs": [
    {
     "data": {
      "text/plain": [
       "array([0.52828526, 0.6470866 ], dtype=float32)"
      ]
     },
     "execution_count": 22,
     "metadata": {
      "tags": []
     },
     "output_type": "execute_result"
    }
   ],
   "source": [
    "tf.random.uniform([2]).numpy()"
   ]
  },
  {
   "cell_type": "code",
   "execution_count": 24,
   "metadata": {
    "colab": {
     "base_uri": "https://localhost:8080/",
     "height": 50
    },
    "colab_type": "code",
    "executionInfo": {
     "elapsed": 959,
     "status": "ok",
     "timestamp": 1594855490388,
     "user": {
      "displayName": "이공계",
      "photoUrl": "",
      "userId": "03204957189173030334"
     },
     "user_tz": -540
    },
    "id": "ZjI7zmxFw5WC",
    "outputId": "56e374f1-fc8d-47b0-9695-a9ef361f7fb8"
   },
   "outputs": [
    {
     "data": {
      "text/plain": [
       "array([[0.43309867, 0.34124565, 0.7277243 ],\n",
       "       [0.4310335 , 0.89200866, 0.01839352]], dtype=float32)"
      ]
     },
     "execution_count": 24,
     "metadata": {
      "tags": []
     },
     "output_type": "execute_result"
    }
   ],
   "source": [
    "tf.random.uniform([2, 3]).numpy()"
   ]
  },
  {
   "cell_type": "markdown",
   "metadata": {
    "colab_type": "text",
    "id": "U4_kJ_fPw5WE"
   },
   "source": [
    "## Reduce Mean/Sum"
   ]
  },
  {
   "cell_type": "code",
   "execution_count": 27,
   "metadata": {
    "colab": {
     "base_uri": "https://localhost:8080/",
     "height": 34
    },
    "colab_type": "code",
    "executionInfo": {
     "elapsed": 957,
     "status": "ok",
     "timestamp": 1594855628483,
     "user": {
      "displayName": "이공계",
      "photoUrl": "",
      "userId": "03204957189173030334"
     },
     "user_tz": -540
    },
    "id": "32x1JEObw5WF",
    "outputId": "1387bc7d-bd20-4777-87b1-25348c9d2122"
   },
   "outputs": [
    {
     "data": {
      "text/plain": [
       "1"
      ]
     },
     "execution_count": 27,
     "metadata": {
      "tags": []
     },
     "output_type": "execute_result"
    }
   ],
   "source": [
    "tf.reduce_mean([1, 2], axis=0).numpy()"
   ]
  },
  {
   "cell_type": "code",
   "execution_count": 28,
   "metadata": {
    "colab": {
     "base_uri": "https://localhost:8080/",
     "height": 34
    },
    "colab_type": "code",
    "executionInfo": {
     "elapsed": 760,
     "status": "ok",
     "timestamp": 1594855631518,
     "user": {
      "displayName": "이공계",
      "photoUrl": "",
      "userId": "03204957189173030334"
     },
     "user_tz": -540
    },
    "id": "-INwi2y7zYdK",
    "outputId": "0fc34638-afed-445f-f54b-37e0ce0f6bbe"
   },
   "outputs": [
    {
     "data": {
      "text/plain": [
       "1.5"
      ]
     },
     "execution_count": 28,
     "metadata": {
      "tags": []
     },
     "output_type": "execute_result"
    }
   ],
   "source": [
    "tf.reduce_mean([1., 2.], axis=0).numpy()"
   ]
  },
  {
   "cell_type": "code",
   "execution_count": 29,
   "metadata": {
    "colab": {
     "base_uri": "https://localhost:8080/",
     "height": 34
    },
    "colab_type": "code",
    "executionInfo": {
     "elapsed": 948,
     "status": "ok",
     "timestamp": 1594855635530,
     "user": {
      "displayName": "이공계",
      "photoUrl": "",
      "userId": "03204957189173030334"
     },
     "user_tz": -540
    },
    "id": "q-FFQdebw5WG",
    "outputId": "228201fb-1541-493c-a8a0-3813dfdf2960"
   },
   "outputs": [
    {
     "data": {
      "text/plain": [
       "2.5"
      ]
     },
     "execution_count": 29,
     "metadata": {
      "tags": []
     },
     "output_type": "execute_result"
    }
   ],
   "source": [
    "x = [[1., 2.],\n",
    "     [3., 4.]]\n",
    "\n",
    "tf.reduce_mean(x).numpy()"
   ]
  },
  {
   "cell_type": "code",
   "execution_count": 30,
   "metadata": {
    "colab": {
     "base_uri": "https://localhost:8080/",
     "height": 34
    },
    "colab_type": "code",
    "executionInfo": {
     "elapsed": 745,
     "status": "ok",
     "timestamp": 1594855639501,
     "user": {
      "displayName": "이공계",
      "photoUrl": "",
      "userId": "03204957189173030334"
     },
     "user_tz": -540
    },
    "id": "-A8ji2iuw5WI",
    "outputId": "9eb02de2-f98b-4148-b0f7-c55ff65455c7"
   },
   "outputs": [
    {
     "data": {
      "text/plain": [
       "array([2., 3.], dtype=float32)"
      ]
     },
     "execution_count": 30,
     "metadata": {
      "tags": []
     },
     "output_type": "execute_result"
    }
   ],
   "source": [
    "tf.reduce_mean(x, axis=0).numpy()"
   ]
  },
  {
   "cell_type": "code",
   "execution_count": 31,
   "metadata": {
    "colab": {
     "base_uri": "https://localhost:8080/",
     "height": 34
    },
    "colab_type": "code",
    "executionInfo": {
     "elapsed": 954,
     "status": "ok",
     "timestamp": 1594855643414,
     "user": {
      "displayName": "이공계",
      "photoUrl": "",
      "userId": "03204957189173030334"
     },
     "user_tz": -540
    },
    "id": "xITLYDoDw5WK",
    "outputId": "d67cd2ab-a253-45c2-8fac-0a0bce186821"
   },
   "outputs": [
    {
     "data": {
      "text/plain": [
       "array([1.5, 3.5], dtype=float32)"
      ]
     },
     "execution_count": 31,
     "metadata": {
      "tags": []
     },
     "output_type": "execute_result"
    }
   ],
   "source": [
    "tf.reduce_mean(x, axis=1).numpy()"
   ]
  },
  {
   "cell_type": "code",
   "execution_count": 35,
   "metadata": {
    "colab": {
     "base_uri": "https://localhost:8080/",
     "height": 34
    },
    "colab_type": "code",
    "executionInfo": {
     "elapsed": 747,
     "status": "ok",
     "timestamp": 1594856092782,
     "user": {
      "displayName": "이공계",
      "photoUrl": "",
      "userId": "03204957189173030334"
     },
     "user_tz": -540
    },
    "id": "W-nS3Onrw5WL",
    "outputId": "d2734baa-4dfe-4538-f940-4b8692b7353a"
   },
   "outputs": [
    {
     "data": {
      "text/plain": [
       "array([1.5, 3.5], dtype=float32)"
      ]
     },
     "execution_count": 35,
     "metadata": {
      "tags": []
     },
     "output_type": "execute_result"
    }
   ],
   "source": [
    "tf.reduce_mean(x, axis=-1).numpy()"
   ]
  },
  {
   "cell_type": "code",
   "execution_count": 36,
   "metadata": {
    "colab": {
     "base_uri": "https://localhost:8080/",
     "height": 34
    },
    "colab_type": "code",
    "executionInfo": {
     "elapsed": 978,
     "status": "ok",
     "timestamp": 1594856095673,
     "user": {
      "displayName": "이공계",
      "photoUrl": "",
      "userId": "03204957189173030334"
     },
     "user_tz": -540
    },
    "id": "sBxs19zIw5WN",
    "outputId": "16b3f1f4-ce3d-4d38-f619-bd212cfc35e7"
   },
   "outputs": [
    {
     "data": {
      "text/plain": [
       "10.0"
      ]
     },
     "execution_count": 36,
     "metadata": {
      "tags": []
     },
     "output_type": "execute_result"
    }
   ],
   "source": [
    "x = [[1., 2.],\n",
    "     [3., 4.]]\n",
    "\n",
    "tf.reduce_sum(x).numpy()"
   ]
  },
  {
   "cell_type": "code",
   "execution_count": 37,
   "metadata": {
    "colab": {
     "base_uri": "https://localhost:8080/",
     "height": 34
    },
    "colab_type": "code",
    "executionInfo": {
     "elapsed": 997,
     "status": "ok",
     "timestamp": 1594856100540,
     "user": {
      "displayName": "이공계",
      "photoUrl": "",
      "userId": "03204957189173030334"
     },
     "user_tz": -540
    },
    "id": "ayMBtJMEw5WP",
    "outputId": "69f3f02a-94db-4568-db6b-1db105dd574c"
   },
   "outputs": [
    {
     "data": {
      "text/plain": [
       "array([4., 6.], dtype=float32)"
      ]
     },
     "execution_count": 37,
     "metadata": {
      "tags": []
     },
     "output_type": "execute_result"
    }
   ],
   "source": [
    "tf.reduce_sum(x, axis=0).numpy()"
   ]
  },
  {
   "cell_type": "code",
   "execution_count": 38,
   "metadata": {
    "colab": {
     "base_uri": "https://localhost:8080/",
     "height": 34
    },
    "colab_type": "code",
    "executionInfo": {
     "elapsed": 756,
     "status": "ok",
     "timestamp": 1594856162137,
     "user": {
      "displayName": "이공계",
      "photoUrl": "",
      "userId": "03204957189173030334"
     },
     "user_tz": -540
    },
    "id": "Gcxo_Unnw5WQ",
    "outputId": "d4f2f444-5fff-48f0-d3b6-84b62e5dfd5f"
   },
   "outputs": [
    {
     "data": {
      "text/plain": [
       "array([3., 7.], dtype=float32)"
      ]
     },
     "execution_count": 38,
     "metadata": {
      "tags": []
     },
     "output_type": "execute_result"
    }
   ],
   "source": [
    "tf.reduce_sum(x, axis=1).numpy()"
   ]
  },
  {
   "cell_type": "code",
   "execution_count": 39,
   "metadata": {
    "colab": {
     "base_uri": "https://localhost:8080/",
     "height": 34
    },
    "colab_type": "code",
    "executionInfo": {
     "elapsed": 789,
     "status": "ok",
     "timestamp": 1594856165140,
     "user": {
      "displayName": "이공계",
      "photoUrl": "",
      "userId": "03204957189173030334"
     },
     "user_tz": -540
    },
    "id": "QS9ikl8K1ZtK",
    "outputId": "3ad714eb-7a4a-4c00-bb60-fb0399235189"
   },
   "outputs": [
    {
     "data": {
      "text/plain": [
       "array([3., 7.], dtype=float32)"
      ]
     },
     "execution_count": 39,
     "metadata": {
      "tags": []
     },
     "output_type": "execute_result"
    }
   ],
   "source": [
    "tf.reduce_sum(x, axis=-1).numpy()"
   ]
  },
  {
   "cell_type": "code",
   "execution_count": 40,
   "metadata": {
    "colab": {
     "base_uri": "https://localhost:8080/",
     "height": 34
    },
    "colab_type": "code",
    "executionInfo": {
     "elapsed": 860,
     "status": "ok",
     "timestamp": 1594856170536,
     "user": {
      "displayName": "이공계",
      "photoUrl": "",
      "userId": "03204957189173030334"
     },
     "user_tz": -540
    },
    "id": "oqx8HdJqw5WT",
    "outputId": "451edd03-6880-4c1a-c4aa-22150be33908"
   },
   "outputs": [
    {
     "data": {
      "text/plain": [
       "5.0"
      ]
     },
     "execution_count": 40,
     "metadata": {
      "tags": []
     },
     "output_type": "execute_result"
    }
   ],
   "source": [
    "tf.reduce_mean(tf.reduce_sum(x, axis=-1)).numpy()"
   ]
  },
  {
   "cell_type": "markdown",
   "metadata": {
    "colab_type": "text",
    "id": "zNLCsFVSw5WV"
   },
   "source": [
    "## Argmax with axis"
   ]
  },
  {
   "cell_type": "code",
   "execution_count": 41,
   "metadata": {
    "colab": {
     "base_uri": "https://localhost:8080/",
     "height": 34
    },
    "colab_type": "code",
    "executionInfo": {
     "elapsed": 742,
     "status": "ok",
     "timestamp": 1594856177987,
     "user": {
      "displayName": "이공계",
      "photoUrl": "",
      "userId": "03204957189173030334"
     },
     "user_tz": -540
    },
    "id": "4JJ4Mpu7w5WV",
    "outputId": "62ff9842-2427-4dc8-ec80-13fe43e3f3dd"
   },
   "outputs": [
    {
     "data": {
      "text/plain": [
       "array([1, 0, 0])"
      ]
     },
     "execution_count": 41,
     "metadata": {
      "tags": []
     },
     "output_type": "execute_result"
    }
   ],
   "source": [
    "x = [[0, 1, 2],\n",
    "     [2, 1, 0]]\n",
    "tf.argmax(x, axis=0).numpy()"
   ]
  },
  {
   "cell_type": "code",
   "execution_count": 42,
   "metadata": {
    "colab": {
     "base_uri": "https://localhost:8080/",
     "height": 34
    },
    "colab_type": "code",
    "executionInfo": {
     "elapsed": 753,
     "status": "ok",
     "timestamp": 1594856180494,
     "user": {
      "displayName": "이공계",
      "photoUrl": "",
      "userId": "03204957189173030334"
     },
     "user_tz": -540
    },
    "id": "fFnOKTVxw5WX",
    "outputId": "ca159e50-743f-419c-e920-e942bb5867b7"
   },
   "outputs": [
    {
     "data": {
      "text/plain": [
       "array([2, 0])"
      ]
     },
     "execution_count": 42,
     "metadata": {
      "tags": []
     },
     "output_type": "execute_result"
    }
   ],
   "source": [
    "tf.argmax(x, axis=1).numpy()"
   ]
  },
  {
   "cell_type": "code",
   "execution_count": 43,
   "metadata": {
    "colab": {
     "base_uri": "https://localhost:8080/",
     "height": 34
    },
    "colab_type": "code",
    "executionInfo": {
     "elapsed": 770,
     "status": "ok",
     "timestamp": 1594856183309,
     "user": {
      "displayName": "이공계",
      "photoUrl": "",
      "userId": "03204957189173030334"
     },
     "user_tz": -540
    },
    "id": "7sycX0A4w5WZ",
    "outputId": "d164d5d1-7f16-4ad1-dac4-da7ac0364d92"
   },
   "outputs": [
    {
     "data": {
      "text/plain": [
       "array([2, 0])"
      ]
     },
     "execution_count": 43,
     "metadata": {
      "tags": []
     },
     "output_type": "execute_result"
    }
   ],
   "source": [
    "tf.argmax(x, axis=-1).numpy()"
   ]
  },
  {
   "cell_type": "markdown",
   "metadata": {
    "colab_type": "text",
    "id": "aizMh9qgw5Wb"
   },
   "source": [
    "## Reshape, squeeze, expand_dims"
   ]
  },
  {
   "cell_type": "code",
   "execution_count": 44,
   "metadata": {
    "colab": {
     "base_uri": "https://localhost:8080/",
     "height": 34
    },
    "colab_type": "code",
    "executionInfo": {
     "elapsed": 931,
     "status": "ok",
     "timestamp": 1594856190929,
     "user": {
      "displayName": "이공계",
      "photoUrl": "",
      "userId": "03204957189173030334"
     },
     "user_tz": -540
    },
    "id": "FNfMfpGOw5Wb",
    "outputId": "9d33dfa1-afc0-47d8-8390-d9909a03f649"
   },
   "outputs": [
    {
     "data": {
      "text/plain": [
       "(2, 2, 3)"
      ]
     },
     "execution_count": 44,
     "metadata": {
      "tags": []
     },
     "output_type": "execute_result"
    }
   ],
   "source": [
    "t = np.array([[[0, 1, 2], \n",
    "               [3, 4, 5]],\n",
    "              \n",
    "              [[6, 7, 8], \n",
    "               [9, 10, 11]]])\n",
    "t.shape"
   ]
  },
  {
   "cell_type": "code",
   "execution_count": 45,
   "metadata": {
    "colab": {
     "base_uri": "https://localhost:8080/",
     "height": 84
    },
    "colab_type": "code",
    "executionInfo": {
     "elapsed": 749,
     "status": "ok",
     "timestamp": 1594856201254,
     "user": {
      "displayName": "이공계",
      "photoUrl": "",
      "userId": "03204957189173030334"
     },
     "user_tz": -540
    },
    "id": "0gky2aOvw5Wd",
    "outputId": "30a22e3f-0e74-434c-834e-f8f702ae78cb"
   },
   "outputs": [
    {
     "data": {
      "text/plain": [
       "array([[ 0,  1,  2],\n",
       "       [ 3,  4,  5],\n",
       "       [ 6,  7,  8],\n",
       "       [ 9, 10, 11]])"
      ]
     },
     "execution_count": 45,
     "metadata": {
      "tags": []
     },
     "output_type": "execute_result"
    }
   ],
   "source": [
    "tf.reshape(t, shape=[-1, 3]).numpy()"
   ]
  },
  {
   "cell_type": "code",
   "execution_count": 46,
   "metadata": {
    "colab": {
     "base_uri": "https://localhost:8080/",
     "height": 134
    },
    "colab_type": "code",
    "executionInfo": {
     "elapsed": 758,
     "status": "ok",
     "timestamp": 1594856203762,
     "user": {
      "displayName": "이공계",
      "photoUrl": "",
      "userId": "03204957189173030334"
     },
     "user_tz": -540
    },
    "id": "rkCRT9cXw5We",
    "outputId": "46265cdf-68d2-4738-c78d-90b3d2fc025d"
   },
   "outputs": [
    {
     "data": {
      "text/plain": [
       "array([[[ 0,  1,  2]],\n",
       "\n",
       "       [[ 3,  4,  5]],\n",
       "\n",
       "       [[ 6,  7,  8]],\n",
       "\n",
       "       [[ 9, 10, 11]]])"
      ]
     },
     "execution_count": 46,
     "metadata": {
      "tags": []
     },
     "output_type": "execute_result"
    }
   ],
   "source": [
    "tf.reshape(t, shape=[-1, 1, 3]).numpy()"
   ]
  },
  {
   "cell_type": "code",
   "execution_count": 50,
   "metadata": {
    "colab": {
     "base_uri": "https://localhost:8080/",
     "height": 67
    },
    "colab_type": "code",
    "executionInfo": {
     "elapsed": 769,
     "status": "ok",
     "timestamp": 1594856346678,
     "user": {
      "displayName": "이공계",
      "photoUrl": "",
      "userId": "03204957189173030334"
     },
     "user_tz": -540
    },
    "id": "9xQc48YNw5Wg",
    "outputId": "0e925b4f-bc19-470c-9934-5ff76f3a247d"
   },
   "outputs": [
    {
     "name": "stdout",
     "output_type": "stream",
     "text": [
      "(3, 1)\n",
      "(3,)\n"
     ]
    },
    {
     "data": {
      "text/plain": [
       "array([0, 1, 2])"
      ]
     },
     "execution_count": 50,
     "metadata": {
      "tags": []
     },
     "output_type": "execute_result"
    }
   ],
   "source": [
    "a = np.array([[0], [1], [2]])\n",
    "print(a.shape)\n",
    "b = tf.squeeze(a)\n",
    "print(b.shape)\n",
    "b.numpy()"
   ]
  },
  {
   "cell_type": "code",
   "execution_count": 51,
   "metadata": {
    "colab": {
     "base_uri": "https://localhost:8080/",
     "height": 84
    },
    "colab_type": "code",
    "executionInfo": {
     "elapsed": 1096,
     "status": "ok",
     "timestamp": 1594856455268,
     "user": {
      "displayName": "이공계",
      "photoUrl": "",
      "userId": "03204957189173030334"
     },
     "user_tz": -540
    },
    "id": "guN7wAA72YsB",
    "outputId": "e0d84b7e-5ce3-4657-b93a-25b4db8a34fa"
   },
   "outputs": [
    {
     "name": "stdout",
     "output_type": "stream",
     "text": [
      "(1, 2, 2)\n",
      "(2, 2)\n"
     ]
    },
    {
     "data": {
      "text/plain": [
       "array([[0, 1],\n",
       "       [2, 3]])"
      ]
     },
     "execution_count": 51,
     "metadata": {
      "tags": []
     },
     "output_type": "execute_result"
    }
   ],
   "source": [
    "a = np.array([[[0, 1], [2, 3]]])\n",
    "print(a.shape)\n",
    "b = tf.squeeze(a)\n",
    "print(b.shape)\n",
    "b.numpy()"
   ]
  },
  {
   "cell_type": "code",
   "execution_count": 52,
   "metadata": {
    "colab": {
     "base_uri": "https://localhost:8080/",
     "height": 84
    },
    "colab_type": "code",
    "executionInfo": {
     "elapsed": 760,
     "status": "ok",
     "timestamp": 1594856566348,
     "user": {
      "displayName": "이공계",
      "photoUrl": "",
      "userId": "03204957189173030334"
     },
     "user_tz": -540
    },
    "id": "73cjSkMh2xiF",
    "outputId": "ff54b49e-6f3e-461c-8bd8-e89dedabc1da"
   },
   "outputs": [
    {
     "name": "stdout",
     "output_type": "stream",
     "text": [
      "(2, 1, 2)\n",
      "(2, 2)\n"
     ]
    },
    {
     "data": {
      "text/plain": [
       "array([[0, 1],\n",
       "       [2, 3]])"
      ]
     },
     "execution_count": 52,
     "metadata": {
      "tags": []
     },
     "output_type": "execute_result"
    }
   ],
   "source": [
    "a = np.array([[[0, 1]], [[2, 3]]])\n",
    "print(a.shape)\n",
    "b = tf.squeeze(a)\n",
    "print(b.shape)\n",
    "b.numpy()"
   ]
  },
  {
   "cell_type": "code",
   "execution_count": 56,
   "metadata": {
    "colab": {
     "base_uri": "https://localhost:8080/",
     "height": 67
    },
    "colab_type": "code",
    "executionInfo": {
     "elapsed": 733,
     "status": "ok",
     "timestamp": 1594856769735,
     "user": {
      "displayName": "이공계",
      "photoUrl": "",
      "userId": "03204957189173030334"
     },
     "user_tz": -540
    },
    "id": "ic2gfZQHw5Wh",
    "outputId": "f8a21911-4816-47cc-b086-981fbff17525"
   },
   "outputs": [
    {
     "name": "stdout",
     "output_type": "stream",
     "text": [
      "(3,)\n",
      "(1, 3)\n"
     ]
    },
    {
     "data": {
      "text/plain": [
       "array([[0, 1, 2]])"
      ]
     },
     "execution_count": 56,
     "metadata": {
      "tags": []
     },
     "output_type": "execute_result"
    }
   ],
   "source": [
    "a = np.array([0, 1, 2])\n",
    "print(a.shape)\n",
    "b = tf.expand_dims(a, 0)\n",
    "print(b.shape)\n",
    "b.numpy()"
   ]
  },
  {
   "cell_type": "code",
   "execution_count": 57,
   "metadata": {
    "colab": {
     "base_uri": "https://localhost:8080/",
     "height": 101
    },
    "colab_type": "code",
    "executionInfo": {
     "elapsed": 758,
     "status": "ok",
     "timestamp": 1594856795718,
     "user": {
      "displayName": "이공계",
      "photoUrl": "",
      "userId": "03204957189173030334"
     },
     "user_tz": -540
    },
    "id": "uZEOD7S33JD8",
    "outputId": "278411ac-a588-433f-f194-052c3dba83a1"
   },
   "outputs": [
    {
     "name": "stdout",
     "output_type": "stream",
     "text": [
      "(3,)\n",
      "(3, 1)\n"
     ]
    },
    {
     "data": {
      "text/plain": [
       "array([[0],\n",
       "       [1],\n",
       "       [2]])"
      ]
     },
     "execution_count": 57,
     "metadata": {
      "tags": []
     },
     "output_type": "execute_result"
    }
   ],
   "source": [
    "a = np.array([0, 1, 2])\n",
    "print(a.shape)\n",
    "b = tf.expand_dims(a, 1)\n",
    "print(b.shape)\n",
    "b.numpy()"
   ]
  },
  {
   "cell_type": "markdown",
   "metadata": {
    "colab_type": "text",
    "id": "s2atizPpw5Wj"
   },
   "source": [
    "## One hot"
   ]
  },
  {
   "cell_type": "code",
   "execution_count": 63,
   "metadata": {
    "colab": {
     "base_uri": "https://localhost:8080/",
     "height": 134
    },
    "colab_type": "code",
    "executionInfo": {
     "elapsed": 988,
     "status": "ok",
     "timestamp": 1594857114969,
     "user": {
      "displayName": "이공계",
      "photoUrl": "",
      "userId": "03204957189173030334"
     },
     "user_tz": -540
    },
    "id": "gOEycKAgw5Wk",
    "outputId": "9e229f64-072a-47c4-9114-ed5a56e63987"
   },
   "outputs": [
    {
     "data": {
      "text/plain": [
       "array([[[1., 0., 0.]],\n",
       "\n",
       "       [[0., 1., 0.]],\n",
       "\n",
       "       [[0., 0., 1.]],\n",
       "\n",
       "       [[1., 0., 0.]]], dtype=float32)"
      ]
     },
     "execution_count": 63,
     "metadata": {
      "tags": []
     },
     "output_type": "execute_result"
    }
   ],
   "source": [
    "# 차수가 하나 늘어나며, depth는 유형 종류의 수\n",
    "tf.one_hot([[0], [1], [2], [0]], depth=3).numpy()"
   ]
  },
  {
   "cell_type": "code",
   "execution_count": 64,
   "metadata": {
    "colab": {
     "base_uri": "https://localhost:8080/",
     "height": 134
    },
    "colab_type": "code",
    "executionInfo": {
     "elapsed": 482,
     "status": "ok",
     "timestamp": 1594857117575,
     "user": {
      "displayName": "이공계",
      "photoUrl": "",
      "userId": "03204957189173030334"
     },
     "user_tz": -540
    },
    "id": "mgFtlber4-b7",
    "outputId": "97758091-afa8-406e-8461-b953fd63113a"
   },
   "outputs": [
    {
     "data": {
      "text/plain": [
       "array([[[1., 0., 0., 0.]],\n",
       "\n",
       "       [[0., 1., 0., 0.]],\n",
       "\n",
       "       [[0., 0., 1., 0.]],\n",
       "\n",
       "       [[1., 0., 0., 0.]]], dtype=float32)"
      ]
     },
     "execution_count": 64,
     "metadata": {
      "tags": []
     },
     "output_type": "execute_result"
    }
   ],
   "source": [
    "tf.one_hot([[0], [1], [2], [0]], depth=4).numpy()"
   ]
  },
  {
   "cell_type": "code",
   "execution_count": 65,
   "metadata": {
    "colab": {
     "base_uri": "https://localhost:8080/",
     "height": 134
    },
    "colab_type": "code",
    "executionInfo": {
     "elapsed": 766,
     "status": "ok",
     "timestamp": 1594857120812,
     "user": {
      "displayName": "이공계",
      "photoUrl": "",
      "userId": "03204957189173030334"
     },
     "user_tz": -540
    },
    "id": "Y4QLKLul5A3j",
    "outputId": "45780761-3be4-4d21-8496-e692e3f18ee2"
   },
   "outputs": [
    {
     "data": {
      "text/plain": [
       "array([[[1., 0., 0., 0., 0.]],\n",
       "\n",
       "       [[0., 1., 0., 0., 0.]],\n",
       "\n",
       "       [[0., 0., 1., 0., 0.]],\n",
       "\n",
       "       [[1., 0., 0., 0., 0.]]], dtype=float32)"
      ]
     },
     "execution_count": 65,
     "metadata": {
      "tags": []
     },
     "output_type": "execute_result"
    }
   ],
   "source": [
    "tf.one_hot([[0], [1], [2], [0]], depth=5).numpy()"
   ]
  },
  {
   "cell_type": "code",
   "execution_count": 70,
   "metadata": {
    "colab": {
     "base_uri": "https://localhost:8080/",
     "height": 202
    },
    "colab_type": "code",
    "executionInfo": {
     "elapsed": 797,
     "status": "ok",
     "timestamp": 1594857299990,
     "user": {
      "displayName": "이공계",
      "photoUrl": "",
      "userId": "03204957189173030334"
     },
     "user_tz": -540
    },
    "id": "TsHgYhvfw5Wl",
    "outputId": "9e31a9e3-195f-4c11-c554-73a619deb39c"
   },
   "outputs": [
    {
     "name": "stdout",
     "output_type": "stream",
     "text": [
      "[[[1. 0. 0.]]\n",
      "\n",
      " [[0. 1. 0.]]\n",
      "\n",
      " [[0. 0. 1.]]\n",
      "\n",
      " [[1. 0. 0.]]]\n"
     ]
    },
    {
     "data": {
      "text/plain": [
       "array([[1., 0., 0.],\n",
       "       [0., 1., 0.],\n",
       "       [0., 0., 1.],\n",
       "       [1., 0., 0.]], dtype=float32)"
      ]
     },
     "execution_count": 70,
     "metadata": {
      "tags": []
     },
     "output_type": "execute_result"
    }
   ],
   "source": [
    "t = tf.one_hot([[0], [1], [2], [0]], depth=3)\n",
    "print(t.numpy())\n",
    "tf.reshape(t, shape=[-1, 3]).numpy()"
   ]
  },
  {
   "cell_type": "markdown",
   "metadata": {
    "colab_type": "text",
    "id": "qEGZfgOyw5Wn"
   },
   "source": [
    "## casting"
   ]
  },
  {
   "cell_type": "code",
   "execution_count": 71,
   "metadata": {
    "colab": {
     "base_uri": "https://localhost:8080/",
     "height": 34
    },
    "colab_type": "code",
    "executionInfo": {
     "elapsed": 759,
     "status": "ok",
     "timestamp": 1594857333175,
     "user": {
      "displayName": "이공계",
      "photoUrl": "",
      "userId": "03204957189173030334"
     },
     "user_tz": -540
    },
    "id": "fWUJycEPw5Wn",
    "outputId": "8db13006-7935-425a-c3b5-24d064e3788c"
   },
   "outputs": [
    {
     "data": {
      "text/plain": [
       "array([1, 2, 3, 4], dtype=int32)"
      ]
     },
     "execution_count": 71,
     "metadata": {
      "tags": []
     },
     "output_type": "execute_result"
    }
   ],
   "source": [
    "tf.cast([1.8, 2.2, 3.3, 4.9], tf.int32).numpy()"
   ]
  },
  {
   "cell_type": "code",
   "execution_count": 72,
   "metadata": {
    "colab": {
     "base_uri": "https://localhost:8080/",
     "height": 34
    },
    "colab_type": "code",
    "executionInfo": {
     "elapsed": 1112,
     "status": "ok",
     "timestamp": 1594857348070,
     "user": {
      "displayName": "이공계",
      "photoUrl": "",
      "userId": "03204957189173030334"
     },
     "user_tz": -540
    },
    "id": "jJWkYRh3w5Wq",
    "outputId": "25d65f39-4da6-4dab-ddcb-ba7b80242b13"
   },
   "outputs": [
    {
     "data": {
      "text/plain": [
       "array([1, 0, 1, 0], dtype=int32)"
      ]
     },
     "execution_count": 72,
     "metadata": {
      "tags": []
     },
     "output_type": "execute_result"
    }
   ],
   "source": [
    "tf.cast([True, False, 1 == 1, 0 == 1], tf.int32).numpy()"
   ]
  },
  {
   "cell_type": "markdown",
   "metadata": {
    "colab_type": "text",
    "id": "MX-Vy7oww5Ws"
   },
   "source": [
    "## Stack"
   ]
  },
  {
   "cell_type": "code",
   "execution_count": 73,
   "metadata": {
    "colab": {
     "base_uri": "https://localhost:8080/",
     "height": 67
    },
    "colab_type": "code",
    "executionInfo": {
     "elapsed": 949,
     "status": "ok",
     "timestamp": 1594857355587,
     "user": {
      "displayName": "이공계",
      "photoUrl": "",
      "userId": "03204957189173030334"
     },
     "user_tz": -540
    },
    "id": "tZsNXyIMw5Ws",
    "outputId": "09f73ced-54de-4627-8188-c82ce900537b"
   },
   "outputs": [
    {
     "data": {
      "text/plain": [
       "array([[1, 4],\n",
       "       [2, 5],\n",
       "       [3, 6]], dtype=int32)"
      ]
     },
     "execution_count": 73,
     "metadata": {
      "tags": []
     },
     "output_type": "execute_result"
    }
   ],
   "source": [
    "x = [1, 4]\n",
    "y = [2, 5]\n",
    "z = [3, 6]\n",
    "\n",
    "# Pack along first dim.\n",
    "tf.stack([x, y, z]).numpy()"
   ]
  },
  {
   "cell_type": "code",
   "execution_count": 74,
   "metadata": {
    "colab": {
     "base_uri": "https://localhost:8080/",
     "height": 50
    },
    "colab_type": "code",
    "executionInfo": {
     "elapsed": 707,
     "status": "ok",
     "timestamp": 1594857359613,
     "user": {
      "displayName": "이공계",
      "photoUrl": "",
      "userId": "03204957189173030334"
     },
     "user_tz": -540
    },
    "id": "BBy88Jk_w5Wu",
    "outputId": "cc9105b8-5bb8-466a-dbf4-ca80b28f396c"
   },
   "outputs": [
    {
     "data": {
      "text/plain": [
       "array([[1, 2, 3],\n",
       "       [4, 5, 6]], dtype=int32)"
      ]
     },
     "execution_count": 74,
     "metadata": {
      "tags": []
     },
     "output_type": "execute_result"
    }
   ],
   "source": [
    "tf.stack([x, y, z], axis=1).numpy()"
   ]
  },
  {
   "cell_type": "markdown",
   "metadata": {
    "colab_type": "text",
    "id": "rNv3NeeVw5Wv"
   },
   "source": [
    "## Ones like and Zeros like"
   ]
  },
  {
   "cell_type": "code",
   "execution_count": 75,
   "metadata": {
    "colab": {
     "base_uri": "https://localhost:8080/",
     "height": 50
    },
    "colab_type": "code",
    "executionInfo": {
     "elapsed": 962,
     "status": "ok",
     "timestamp": 1594857367773,
     "user": {
      "displayName": "이공계",
      "photoUrl": "",
      "userId": "03204957189173030334"
     },
     "user_tz": -540
    },
    "id": "hRA8OSDDw5Ww",
    "outputId": "a2f0605a-4773-4ee3-fbba-810cbcdbc943"
   },
   "outputs": [
    {
     "data": {
      "text/plain": [
       "array([[1, 1, 1],\n",
       "       [1, 1, 1]], dtype=int32)"
      ]
     },
     "execution_count": 75,
     "metadata": {
      "tags": []
     },
     "output_type": "execute_result"
    }
   ],
   "source": [
    "x = [[0, 1, 2],\n",
    "     [2, 1, 0]]\n",
    "\n",
    "tf.ones_like(x).numpy()"
   ]
  },
  {
   "cell_type": "code",
   "execution_count": 76,
   "metadata": {
    "colab": {
     "base_uri": "https://localhost:8080/",
     "height": 50
    },
    "colab_type": "code",
    "executionInfo": {
     "elapsed": 734,
     "status": "ok",
     "timestamp": 1594857376741,
     "user": {
      "displayName": "이공계",
      "photoUrl": "",
      "userId": "03204957189173030334"
     },
     "user_tz": -540
    },
    "id": "MpFW6fUTw5Wy",
    "outputId": "4b1a3bf5-9c58-4537-9cc8-1d35399aa95b"
   },
   "outputs": [
    {
     "data": {
      "text/plain": [
       "array([[0, 0, 0],\n",
       "       [0, 0, 0]], dtype=int32)"
      ]
     },
     "execution_count": 76,
     "metadata": {
      "tags": []
     },
     "output_type": "execute_result"
    }
   ],
   "source": [
    "tf.zeros_like(x).numpy()"
   ]
  },
  {
   "cell_type": "markdown",
   "metadata": {
    "colab_type": "text",
    "id": "DUgxOhfiw5W1"
   },
   "source": [
    "## Zip\n"
   ]
  },
  {
   "cell_type": "code",
   "execution_count": 77,
   "metadata": {
    "colab": {
     "base_uri": "https://localhost:8080/",
     "height": 67
    },
    "colab_type": "code",
    "executionInfo": {
     "elapsed": 954,
     "status": "ok",
     "timestamp": 1594857380655,
     "user": {
      "displayName": "이공계",
      "photoUrl": "",
      "userId": "03204957189173030334"
     },
     "user_tz": -540
    },
    "id": "exBsY-Puw5W1",
    "outputId": "f1265490-783a-4fa2-b1fd-08f5f10ca9d7"
   },
   "outputs": [
    {
     "name": "stdout",
     "output_type": "stream",
     "text": [
      "1 4\n",
      "2 5\n",
      "3 6\n"
     ]
    }
   ],
   "source": [
    "for x, y in zip([1, 2, 3], [4, 5, 6]):\n",
    "    print(x, y)"
   ]
  },
  {
   "cell_type": "code",
   "execution_count": 78,
   "metadata": {
    "colab": {
     "base_uri": "https://localhost:8080/",
     "height": 67
    },
    "colab_type": "code",
    "executionInfo": {
     "elapsed": 769,
     "status": "ok",
     "timestamp": 1594857383842,
     "user": {
      "displayName": "이공계",
      "photoUrl": "",
      "userId": "03204957189173030334"
     },
     "user_tz": -540
    },
    "id": "D8L-LI9uw5W3",
    "outputId": "31df04a0-1ed2-415c-cdc4-096114d71fd5"
   },
   "outputs": [
    {
     "name": "stdout",
     "output_type": "stream",
     "text": [
      "1 4 7\n",
      "2 5 8\n",
      "3 6 9\n"
     ]
    }
   ],
   "source": [
    "for x, y, z in zip([1, 2, 3], [4, 5, 6], [7, 8, 9]):\n",
    "    print(x, y, z)"
   ]
  },
  {
   "cell_type": "markdown",
   "metadata": {
    "colab_type": "text",
    "id": "I50POsY8w5W5"
   },
   "source": [
    "## Transpose"
   ]
  },
  {
   "cell_type": "code",
   "execution_count": 79,
   "metadata": {
    "colab": {
     "base_uri": "https://localhost:8080/",
     "height": 118
    },
    "colab_type": "code",
    "executionInfo": {
     "elapsed": 970,
     "status": "ok",
     "timestamp": 1594857393446,
     "user": {
      "displayName": "이공계",
      "photoUrl": "",
      "userId": "03204957189173030334"
     },
     "user_tz": -540
    },
    "id": "VzloYp-Zw5W5",
    "outputId": "8e683a05-5c89-452c-95e0-fb2fe745d24d"
   },
   "outputs": [
    {
     "name": "stdout",
     "output_type": "stream",
     "text": [
      "(2, 2, 3)\n",
      "array([[[ 0,  1,  2],\n",
      "        [ 3,  4,  5]],\n",
      "\n",
      "       [[ 6,  7,  8],\n",
      "        [ 9, 10, 11]]])\n"
     ]
    }
   ],
   "source": [
    "t = np.array([[[0, 1, 2], [3, 4, 5]], [[6, 7, 8], [9, 10, 11]]])\n",
    "pp.pprint(t.shape)\n",
    "pp.pprint(t)"
   ]
  },
  {
   "cell_type": "code",
   "execution_count": 85,
   "metadata": {
    "colab": {
     "base_uri": "https://localhost:8080/",
     "height": 134
    },
    "colab_type": "code",
    "executionInfo": {
     "elapsed": 738,
     "status": "ok",
     "timestamp": 1594857619054,
     "user": {
      "displayName": "이공계",
      "photoUrl": "",
      "userId": "03204957189173030334"
     },
     "user_tz": -540
    },
    "id": "1A1-5GL-w5W7",
    "outputId": "03c65279-68eb-497b-8015-0af124bc0dd3"
   },
   "outputs": [
    {
     "name": "stdout",
     "output_type": "stream",
     "text": [
      "TensorShape([2, 2, 3])\n",
      "<tf.Tensor: shape=(2, 2, 3), dtype=int64, numpy=\n",
      "array([[[ 0,  1,  2],\n",
      "        [ 3,  4,  5]],\n",
      "\n",
      "       [[ 6,  7,  8],\n",
      "        [ 9, 10, 11]]])>\n"
     ]
    }
   ],
   "source": [
    "t1 = tf.transpose(t, [0, 1, 2])\n",
    "pp.pprint(t1.shape)\n",
    "pp.pprint(t1)"
   ]
  },
  {
   "cell_type": "code",
   "execution_count": 86,
   "metadata": {
    "colab": {
     "base_uri": "https://localhost:8080/",
     "height": 168
    },
    "colab_type": "code",
    "executionInfo": {
     "elapsed": 785,
     "status": "ok",
     "timestamp": 1594857628436,
     "user": {
      "displayName": "이공계",
      "photoUrl": "",
      "userId": "03204957189173030334"
     },
     "user_tz": -540
    },
    "id": "MMmIL8MSw5W9",
    "outputId": "e16e5d95-692b-49a3-dedd-adbdfd09ed03"
   },
   "outputs": [
    {
     "name": "stdout",
     "output_type": "stream",
     "text": [
      "TensorShape([2, 3, 2])\n",
      "<tf.Tensor: shape=(2, 3, 2), dtype=int64, numpy=\n",
      "array([[[ 0,  3],\n",
      "        [ 1,  4],\n",
      "        [ 2,  5]],\n",
      "\n",
      "       [[ 6,  9],\n",
      "        [ 7, 10],\n",
      "        [ 8, 11]]])>\n"
     ]
    }
   ],
   "source": [
    "t1 = tf.transpose(t, [0, 2, 1])\n",
    "pp.pprint(t1.shape)\n",
    "pp.pprint(t1)"
   ]
  },
  {
   "cell_type": "code",
   "execution_count": 87,
   "metadata": {
    "colab": {
     "base_uri": "https://localhost:8080/",
     "height": 134
    },
    "colab_type": "code",
    "executionInfo": {
     "elapsed": 1063,
     "status": "ok",
     "timestamp": 1594857643324,
     "user": {
      "displayName": "이공계",
      "photoUrl": "",
      "userId": "03204957189173030334"
     },
     "user_tz": -540
    },
    "id": "7JhBbOkmw5W_",
    "outputId": "18e8f076-fa47-45c9-990b-77322e6f81ff"
   },
   "outputs": [
    {
     "name": "stdout",
     "output_type": "stream",
     "text": [
      "TensorShape([2, 2, 3])\n",
      "<tf.Tensor: shape=(2, 2, 3), dtype=int64, numpy=\n",
      "array([[[ 0,  1,  2],\n",
      "        [ 6,  7,  8]],\n",
      "\n",
      "       [[ 3,  4,  5],\n",
      "        [ 9, 10, 11]]])>\n"
     ]
    }
   ],
   "source": [
    "t1 = tf.transpose(t, [1, 0, 2])\n",
    "pp.pprint(t1.shape)\n",
    "pp.pprint(t1)"
   ]
  },
  {
   "cell_type": "code",
   "execution_count": 88,
   "metadata": {
    "colab": {
     "base_uri": "https://localhost:8080/",
     "height": 168
    },
    "colab_type": "code",
    "executionInfo": {
     "elapsed": 939,
     "status": "ok",
     "timestamp": 1594857654855,
     "user": {
      "displayName": "이공계",
      "photoUrl": "",
      "userId": "03204957189173030334"
     },
     "user_tz": -540
    },
    "id": "S601Y4rbw5XB",
    "outputId": "810566af-8812-4076-b9da-63946e088faa"
   },
   "outputs": [
    {
     "name": "stdout",
     "output_type": "stream",
     "text": [
      "TensorShape([2, 3, 2])\n",
      "<tf.Tensor: shape=(2, 3, 2), dtype=int64, numpy=\n",
      "array([[[ 0,  6],\n",
      "        [ 1,  7],\n",
      "        [ 2,  8]],\n",
      "\n",
      "       [[ 3,  9],\n",
      "        [ 4, 10],\n",
      "        [ 5, 11]]])>\n"
     ]
    }
   ],
   "source": [
    "t1 = tf.transpose(t, [1, 2, 0])\n",
    "pp.pprint(t1.shape)\n",
    "pp.pprint(t1)"
   ]
  },
  {
   "cell_type": "code",
   "execution_count": 90,
   "metadata": {
    "colab": {
     "base_uri": "https://localhost:8080/",
     "height": 185
    },
    "colab_type": "code",
    "executionInfo": {
     "elapsed": 792,
     "status": "ok",
     "timestamp": 1594857736678,
     "user": {
      "displayName": "이공계",
      "photoUrl": "",
      "userId": "03204957189173030334"
     },
     "user_tz": -540
    },
    "id": "8ellSL2L7Ukj",
    "outputId": "3387dcee-a36b-4358-e25d-ab7555aead24"
   },
   "outputs": [
    {
     "name": "stdout",
     "output_type": "stream",
     "text": [
      "TensorShape([3, 2, 2])\n",
      "<tf.Tensor: shape=(3, 2, 2), dtype=int64, numpy=\n",
      "array([[[ 0,  3],\n",
      "        [ 6,  9]],\n",
      "\n",
      "       [[ 1,  4],\n",
      "        [ 7, 10]],\n",
      "\n",
      "       [[ 2,  5],\n",
      "        [ 8, 11]]])>\n"
     ]
    }
   ],
   "source": [
    "t1 = tf.transpose(t, [2, 0, 1])\n",
    "pp.pprint(t1.shape)\n",
    "pp.pprint(t1)"
   ]
  },
  {
   "cell_type": "code",
   "execution_count": 89,
   "metadata": {
    "colab": {
     "base_uri": "https://localhost:8080/",
     "height": 185
    },
    "colab_type": "code",
    "executionInfo": {
     "elapsed": 988,
     "status": "ok",
     "timestamp": 1594857733568,
     "user": {
      "displayName": "이공계",
      "photoUrl": "",
      "userId": "03204957189173030334"
     },
     "user_tz": -540
    },
    "id": "5DQPwgp87U5K",
    "outputId": "d924702e-c0b8-46e5-fe20-b8c2d4e47bb5"
   },
   "outputs": [
    {
     "name": "stdout",
     "output_type": "stream",
     "text": [
      "TensorShape([3, 2, 2])\n",
      "<tf.Tensor: shape=(3, 2, 2), dtype=int64, numpy=\n",
      "array([[[ 0,  6],\n",
      "        [ 3,  9]],\n",
      "\n",
      "       [[ 1,  7],\n",
      "        [ 4, 10]],\n",
      "\n",
      "       [[ 2,  8],\n",
      "        [ 5, 11]]])>\n"
     ]
    }
   ],
   "source": [
    "t1 = tf.transpose(t, [2, 1, 0])\n",
    "pp.pprint(t1.shape)\n",
    "pp.pprint(t1)"
   ]
  },
  {
   "cell_type": "code",
   "execution_count": null,
   "metadata": {
    "colab": {},
    "colab_type": "code",
    "id": "HdVPWYUD7IZO"
   },
   "outputs": [],
   "source": []
  }
 ],
 "metadata": {
  "colab": {
   "collapsed_sections": [],
   "name": "tf_manip.ipynb",
   "provenance": [
    {
     "file_id": "https://github.com/hunkim/DeepLearningZeroToAll/blob/master/ipynb/lab-08-tensor_manipulation.ipynb",
     "timestamp": 1594854977424
    }
   ]
  },
  "kernelspec": {
   "display_name": "tf2.5",
   "language": "python",
   "name": "tfdnn"
  },
  "language_info": {
   "codemirror_mode": {
    "name": "ipython",
    "version": 3
   },
   "file_extension": ".py",
   "mimetype": "text/x-python",
   "name": "python",
   "nbconvert_exporter": "python",
   "pygments_lexer": "ipython3",
   "version": "3.9.5"
  }
 },
 "nbformat": 4,
 "nbformat_minor": 1
}
