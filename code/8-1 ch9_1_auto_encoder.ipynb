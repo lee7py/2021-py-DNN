{
  "nbformat": 4,
  "nbformat_minor": 0,
  "metadata": {
    "colab": {
      "name": "8-1 ch9_1_auto_encoder.ipynb",
      "provenance": [],
      "collapsed_sections": [],
      "include_colab_link": true
    },
    "kernelspec": {
      "name": "python3",
      "display_name": "Python 3"
    },
    "accelerator": "GPU"
  },
  "cells": [
    {
      "cell_type": "markdown",
      "metadata": {
        "id": "view-in-github",
        "colab_type": "text"
      },
      "source": [
        "<a href=\"https://colab.research.google.com/github/lee7py/2021-py-DNN/blob/main/code/8-1%20ch9_1_auto_encoder.ipynb\" target=\"_parent\"><img src=\"https://colab.research.google.com/assets/colab-badge.svg\" alt=\"Open In Colab\"/></a>"
      ]
    },
    {
      "cell_type": "markdown",
      "metadata": {
        "id": "w_qDfvmcn_Za"
      },
      "source": [
        "---\n",
        "title: \"Tensorflow 2.0 Tutorial ch9.1-2 - 오토인코더 & MNIST\"\n",
        "date: 2020-05-03T15:20:30+09:00\n",
        "tags:\n",
        "  - \"Deep Learning\"\n",
        "  - \"Python\"\n",
        "  - \"Google Colab\"\n",
        "  - \"Tensorflow 2.0\"\n",
        "  - \"Binary Classification\"\n",
        "  - \"Classification\"\n",
        "  - \"오토인코더\"\n",
        "  - \"Auto Encoder\"\n",
        "  - \"Transfer Learning\"\n",
        "  - \"텐서플로 2.0\"\n",
        "  - \"텐서플로 2.0 튜토리얼\"\n",
        "  - \"Tensorflow 2.0 Tutorial\"\n",
        "categories:\n",
        "  - \"Deep Learning\"\n",
        "  - \"딥러닝\"\n",
        "  - \"텐서플로 2.0\"\n",
        "  - \"Python\"\n",
        "  - \"Tensorflow 2.0\"\n",
        "  - \"텐서플로 2.0 튜토리얼\"\n",
        "  - \"Tensorflow 2.0 Tutorial\"\n",
        "menu: \n",
        "  python:\n",
        "    name: Tensorflow 2.0 Tutorial ch9.1-2 - 오토인코더 & MNIST\n",
        "---\n",
        "\n",
        "## 공지\n",
        "\n",
        "- 본 Tutorial은 교재 `시작하세요 텐서플로 2.0 프로그래밍`의 강사에게 국비교육 강의를 듣는 사람들에게 자료 제공을 목적으로 제작하였습니다. \n",
        "\n",
        "- 강사의 주관적인 판단으로 압축해서 자료를 정리하였기 때문에, 자세하게 공부를 하고 싶으신 분은 반드시 교재를 구매하실 것을 권해드립니다. \n",
        "\n",
        "![](/img/tensorflow2.0/book.jpg)<!-- -->\n",
        "\n",
        "\n",
        "- 본 교재 외에 강사가 추가한 내용에 대한 Reference를 확인하셔서, 추가적으로 학습하시는 것을 권유드립니다. \n",
        "\n",
        "\n",
        "## Tutorial\n",
        "\n",
        "이전 강의가 궁금하신 분들은 아래에서 선택하여 추가 학습 하시기를 바랍니다. \n",
        "\n",
        "- [Google Colab Tensorflow 2.0 Installation](https://chloevan.github.io/python/tensorflow2.0/googlecolab/)\n",
        "- [Tensorflow 2.0 Tutorial ch3.3.1 - 난수 생성 및 시그모이드 함수](https://chloevan.github.io/python/tensorflow2.0/ch3_3_1_random_signoid/)\n",
        "- [Tensorflow 2.0 Tutorial ch3.3.2 - 난수 생성 및 시그모이드 함수 편향성](https://chloevan.github.io/python/tensorflow2.0/ch3_3_2_random_signoid_bias/)\n",
        "- [Tensorflow 2.0 Tutorial ch3.3.3 - 첫번째 신경망 네트워크 - AND](https://chloevan.github.io/python/tensorflow2.0/ch3_3_3_network_and/)\n",
        "- [Tensorflow 2.0 Tutorial ch3.3.4 - 두번째 신경망 네트워크 - OR](https://chloevan.github.io/python/tensorflow2.0/ch3_3_4_network_or/)\n",
        "- [Tensorflow 2.0 Tutorial ch3.3.5 - 세번째 신경망 네트워크 - XOR](https://chloevan.github.io/python/tensorflow2.0/ch3_3_5_network_xor/)\n",
        "- [Tensorflow 2.0 Tutorial ch4.1 - 선형회귀](https://chloevan.github.io/python/tensorflow2.0/ch4_1_linear_regression/)\n",
        "- [Tensorflow 2.0 Tutorial ch4.2 - 다항회귀](https://chloevan.github.io/python/tensorflow2.0/ch4_2_multiple_linear_regression/)\n",
        "- [Tensorflow 2.0 Tutorial ch4.3 - 딥러닝 네트워크를 이용한 회귀](https://chloevan.github.io/python/tensorflow2.0/ch4_3_regression_with_deeplearning/)\n",
        "- [Tensorflow 2.0 Tutorial ch4.4 - 보스턴 주택 가격 데이터세트](https://chloevan.github.io/python/tensorflow2.0/ch4_4_boston_housing_deeplearning/)\n",
        "- [Tensorflow 2.0 Tutorial ch5.1 - 분류](https://chloevan.github.io/python/tensorflow2.0/ch5_1_binary_classification/)\n",
        "- [Tensorflow 2.0 Tutorial ch5.2 - 다항분류](https://chloevan.github.io/python/tensorflow2.0/ch5_2_multi_classification/)\n",
        "- [Tensorflow 2.0 Tutorial ch5.3 - Fashion MNIST](https://chloevan.github.io/python/tensorflow2.0/ch5_3_fashion_mnist/)\n",
        "- [Tensorflow 2.0 Tutorial ch6.1-2 - CNN 이론](https://chloevan.github.io/python/tensorflow2.0/ch6_1_2_cnn_theory/)\n",
        "- [Tensorflow 2.0 Tutorial ch6.3 - Fashion MNIST with CNN 실습](https://chloevan.github.io/python/tensorflow2.0/ch6_3_fashion_mnist_with_cnn/)\n",
        "- [Tensorflow 2.0 Tutorial ch6.4 - 모형의 성능 높이기](https://chloevan.github.io/python/tensorflow2.0/ch6_4_improve_performance/)\n",
        "- [Tensorflow 2.0 Tutorial ch7.1 - RNN 이론 (1)](https://chloevan.github.io/python/tensorflow2.0/ch7_1_2_rnn_theory1/)\n",
        "- [Tensorflow 2.0 Tutorial ch7.1 - RNN 이론 (2)](https://chloevan.github.io/python/tensorflow2.0/ch7_1_2_rnn_theory2/)\n",
        "- [Tensorflow 2.0 Tutorial ch7.3 - 긍정, 부정 감성 분석](https://chloevan.github.io/python/tensorflow2.0/ch7_3_sentimentanalysis/)\n",
        "- [Tensorflow 2.0 Tutorial ch7.4 - (1) 단어 단위 생성](https://chloevan.github.io/python/tensorflow2.0/ch7_4_naturallanguagegeneration1/)\n",
        "- [Tensorflow 2.0 Tutorial ch7.4 - (2) 단어 단위 생성](https://chloevan.github.io/python/tensorflow2.0/ch7_4_naturallanguagegeneration2/)\n",
        "- [Tensorflow 2.0 Tutorial ch8.1 - 텐서플로 허브](https://chloevan.github.io/python/tensorflow2.0/ch8_1_tensorflow_hub/)\n",
        "- [Tensorflow 2.0 Tutorial ch8.2 - 전이 학습과 & Kaggle 대회](https://chloevan.github.io/python/tensorflow2.0/ch8_2_transfer_learning/)\n",
        "- [Tensorflow 2.0 Tutorial ch8.3.1 - 컨볼루션 신경망을 사용한 텍스처 합성](https://chloevan.github.io/python/tensorflow2.0/ch8_3_1_texture_synthesis/)\n",
        "- [Tensorflow 2.0 Tutorial ch8.3.2 - 컨볼루션 신경망을 사용한 신경 스타일 전이](https://chloevan.github.io/python/tensorflow2.0/ch8_3_2_neural_style_transfer/)"
      ]
    },
    {
      "cell_type": "markdown",
      "metadata": {
        "id": "mcD2TKoazzaJ"
      },
      "source": [
        "## I. 개요\n",
        "\n",
        "- 오토인코더(`AutoEncoder`)는 입력에 대한 출력을 학습해야 한다는 점은 기존 지도학습 네트워크와 동일합니다.\n",
        "- 그러나 그 출력이 입력과 동일하다는 점이 조금 다릅니다. \n",
        "- 오토인코더는 자기 자신을 재생성하는 네트워크입니다. \n",
        "\n",
        "![](/img/tensorflow2.0/tutorial_09_01-2/tutorial_01.png)<!-- -->\n",
        "\n",
        "- 위 그림에서 보는 것처럼, 오토인코더는 크게 3가지 부분으로 구성됩니다. \n",
        "  + `z`는 잠재 변수(`Latent Vector`)를 중심으로, 입력에 가까운 부분을 인코더(`Encoder`), 출력에 가까운 부분을 디코더(`Decoder`)라 분류합니다. \n",
        "- 인코더의 역할은 `입력`에서 `잠재 변수`를 만드는 것입니다. \n",
        "- 디코더의 역할은 `잠재 변수`를 `출력`으로 만드는 것입니다. \n",
        "\n",
        "- 위 그림이 잠재변수를 기준으로 하나의 대칭구조를 이루는 것처럼, 레이어 역시 대칭되는 구조로 쌓아올려서 만듭니다. \n",
        "\n",
        "- 음. 조금 쉽게 얘기하면, 오토인코더는 일종의 파일 압축과 유사합니다. 압축 파일은 압축하기 전과 압축을 해제한 뒤의 내용이 동일합니다. 컴퓨터공학 용어로 이러한 내용을 비손실 압축이라고 합니다. 내용적으로는 그러합니다. \n",
        "\n",
        "- 그러나, `$x$`와 `$x^i$`의 차이점처럼 유사하지만 동일하지는 않습니다. 즉, 오토인코더는 손실 압축이라고 표현합니다. \n",
        "\n",
        "- 딥러닝 생성 모델 중 최근 가장 주목받고 있는 적대적 생성 모델(`Generative Adversarial Network` 이하 `GAN`)의 생성자에서는 랜덤하게 생성된 변수를 잠재변수처럼 활용해서 새로운 이미지를 얻습니다.  "
      ]
    },
    {
      "cell_type": "markdown",
      "metadata": {
        "id": "VUbuCAwat4X8"
      },
      "source": [
        "## II. MNIST 데이터세트에 적용하기\n",
        "\n",
        "6장에서 다룬 MNIST 데이터셋을 활용해서 재실습하도록 합니다. "
      ]
    },
    {
      "cell_type": "markdown",
      "metadata": {
        "id": "iCKlPTmUuJOK"
      },
      "source": [
        "### (1) 모듈 설치 및 데이터세트 확인\n",
        "- 데이터는 (`train_X`, `train_Y`), (`test_X`, `test_Y`)처럼 훈련 데이터와 테스트 데이터의 튜플 쌍으로 불러 올 수 있습니다. \n",
        "- 데이터를 로드한 후에 `train_X`와 `test_X`를 255.0으로 나눠서 픽셀 정규화를 하게 됩니다. \n",
        "- 데이터가 잘 불러와졌는지 시각화를 통해 확인합니다. "
      ]
    },
    {
      "cell_type": "code",
      "metadata": {
        "id": "YuWvl-X5xdft"
      },
      "source": [
        "# 텐서플로 2 버전 선택\n",
        "try:\n",
        "    # %tensorflow_version only exists in Colab.\n",
        "    %tensorflow_version 2.x\n",
        "except Exception:\n",
        "    pass\n",
        "import tensorflow as tf\n",
        "import numpy as np\n",
        "import pandas as pd\n",
        "import tensorflow_hub as hub\n",
        "import matplotlib.pyplot as plt\n",
        "import cv2"
      ],
      "execution_count": 21,
      "outputs": []
    },
    {
      "cell_type": "code",
      "metadata": {
        "id": "TmCOD-TNxoh3",
        "colab": {
          "base_uri": "https://localhost:8080/"
        },
        "outputId": "3ccc15bd-7603-433e-a4a5-b6eb326b697a"
      },
      "source": [
        "(train_X, train_Y), (test_X, test_Y) = tf.keras.datasets.mnist.load_data()\n",
        "print(train_X.shape, train_Y.shape)"
      ],
      "execution_count": 2,
      "outputs": [
        {
          "output_type": "stream",
          "text": [
            "Downloading data from https://storage.googleapis.com/tensorflow/tf-keras-datasets/mnist.npz\n",
            "11493376/11490434 [==============================] - 0s 0us/step\n",
            "(60000, 28, 28) (60000,)\n"
          ],
          "name": "stdout"
        }
      ]
    },
    {
      "cell_type": "code",
      "metadata": {
        "id": "Q8BL91BBx03b",
        "colab": {
          "base_uri": "https://localhost:8080/",
          "height": 286
        },
        "outputId": "a21c951d-158e-43cd-d576-e0d907f3cde9"
      },
      "source": [
        "train_X = train_X / 255.0\n",
        "test_X = test_X / 255.0\n",
        "\n",
        "plt.imshow(train_X[0].reshape(28, 28), cmap='gray')\n",
        "plt.colorbar()\n",
        "plt.show()\n",
        "\n",
        "print(train_Y[0])"
      ],
      "execution_count": 3,
      "outputs": [
        {
          "output_type": "display_data",
          "data": {
            "image/png": "[encoded data removed]",
            "text/plain": [
              "<Figure size 432x288 with 2 Axes>"
            ]
          },
          "metadata": {
            "tags": [],
            "needs_background": "light"
          }
        },
        {
          "output_type": "stream",
          "text": [
            "5\n"
          ],
          "name": "stdout"
        }
      ]
    },
    {
      "cell_type": "markdown",
      "metadata": {
        "id": "PW5767yzyMCe"
      },
      "source": [
        "- `MNIST`는 `Fashion MNIST`처럼 가로와 세로가 각각 28픽셀인 흑백 이미지를 입력으로 하고, 0~9까지의 숫자를 출력으로 합니다. (5장과 6장 참조)\n"
      ]
    },
    {
      "cell_type": "markdown",
      "metadata": {
        "id": "i9iLFxbhyckr"
      },
      "source": [
        "### (2) Dense 오토인코더 모델 정의\n",
        "`Dense 오토인코더` 모델을 다음과 같이 정의합니다.  "
      ]
    },
    {
      "cell_type": "code",
      "metadata": {
        "id": "iU7R9IxyzF4c",
        "colab": {
          "base_uri": "https://localhost:8080/"
        },
        "outputId": "98437d3d-586f-4866-d601-c8d3d8b1c506"
      },
      "source": [
        "train_X = train_X.reshape(-1, 28 * 28)\n",
        "test_X = test_X.reshape(-1, 28 * 28)\n",
        "print(train_X.shape, train_Y.shape)"
      ],
      "execution_count": 5,
      "outputs": [
        {
          "output_type": "stream",
          "text": [
            "(60000, 784) (60000,)\n"
          ],
          "name": "stdout"
        }
      ]
    },
    {
      "cell_type": "code",
      "metadata": {
        "id": "NqpfrQoTz6uz",
        "colab": {
          "base_uri": "https://localhost:8080/"
        },
        "outputId": "59251c55-4a72-422b-d586-215d6a4a7c72"
      },
      "source": [
        "model = tf.keras.Sequential([\n",
        "    tf.keras.layers.Dense(784, activation='relu', input_shape=(784,)),\n",
        "    tf.keras.layers.Dense(64, activation='relu'),\n",
        "    tf.keras.layers.Dense(784, activation='sigmoid')\n",
        "])\n",
        "\n",
        "model.compile(optimizer=tf.optimizers.Adam(), loss='mse')\n",
        "model.summary()"
      ],
      "execution_count": 6,
      "outputs": [
        {
          "output_type": "stream",
          "text": [
            "Model: \"sequential\"\n",
            "_________________________________________________________________\n",
            "Layer (type)                 Output Shape              Param #   \n",
            "=================================================================\n",
            "dense (Dense)                (None, 784)               615440    \n",
            "_________________________________________________________________\n",
            "dense_1 (Dense)              (None, 64)                50240     \n",
            "_________________________________________________________________\n",
            "dense_2 (Dense)              (None, 784)               50960     \n",
            "=================================================================\n",
            "Total params: 716,640\n",
            "Trainable params: 716,640\n",
            "Non-trainable params: 0\n",
            "_________________________________________________________________\n"
          ],
          "name": "stdout"
        }
      ]
    },
    {
      "cell_type": "markdown",
      "metadata": {
        "id": "jCaWKfpu0gcn"
      },
      "source": [
        "- 입력데이터를 처리하기 위해 `Flatten`레이어를 사용하는 대신 `train_X`와 `test_X`의 차원을 직접 `reshape()` 함수로 변환했습니다. 그 이유는 입력과 출력의 형태가 같아야 하기 때문입니다. \n",
        "- 입력을 변환하지 않은 채로 `Flatten`레이어를 넣어서 (28, 28) 차원의 입력을 넣으면 뒤에서도 출력의 차원을 (28, 28)로 맞추기 위해 `Reshape` 레이어를 사용해야 하는 번거로움이 있습니다. (구조에 대한 이해 필요)\n",
        "- dense와 dense_2의 레이어는 뉴런의 수가 같아서 대칭을 이루며, 각각 인코더와 디코더의 역할을 합니다. \n",
        "- desne_1는 잠재변수로 뉴런의 수가 적은 것을 확인할 수 있습니다. \n",
        "\n",
        "\n"
      ]
    },
    {
      "cell_type": "markdown",
      "metadata": {
        "id": "OE1OFOqO1cd2"
      },
      "source": [
        "### (3) Dense 오토 인코더 모델 학습\n",
        "이제 모형을 학습시킵니다. "
      ]
    },
    {
      "cell_type": "code",
      "metadata": {
        "id": "TCvdftEC1hlm",
        "colab": {
          "base_uri": "https://localhost:8080/"
        },
        "outputId": "ce8b29fe-7207-4b2f-d762-832f72bf1bf2"
      },
      "source": [
        "model.fit(train_X, train_X, epochs=10, batch_size=256)"
      ],
      "execution_count": 7,
      "outputs": [
        {
          "output_type": "stream",
          "text": [
            "Epoch 1/10\n",
            "235/235 [==============================] - 4s 4ms/step - loss: 0.0490\n",
            "Epoch 2/10\n",
            "235/235 [==============================] - 1s 5ms/step - loss: 0.0164\n",
            "Epoch 3/10\n",
            "235/235 [==============================] - 1s 5ms/step - loss: 0.0117\n",
            "Epoch 4/10\n",
            "235/235 [==============================] - 1s 5ms/step - loss: 0.0096\n",
            "Epoch 5/10\n",
            "235/235 [==============================] - 1s 5ms/step - loss: 0.0085\n",
            "Epoch 6/10\n",
            "235/235 [==============================] - 1s 5ms/step - loss: 0.0077\n",
            "Epoch 7/10\n",
            "235/235 [==============================] - 1s 5ms/step - loss: 0.0072\n",
            "Epoch 8/10\n",
            "235/235 [==============================] - 1s 5ms/step - loss: 0.0068\n",
            "Epoch 9/10\n",
            "235/235 [==============================] - 1s 5ms/step - loss: 0.0065\n",
            "Epoch 10/10\n",
            "235/235 [==============================] - 1s 4ms/step - loss: 0.0062\n"
          ],
          "name": "stdout"
        },
        {
          "output_type": "execute_result",
          "data": {
            "text/plain": [
              "<tensorflow.python.keras.callbacks.History at 0x7f5310528f90>"
            ]
          },
          "metadata": {
            "tags": []
          },
          "execution_count": 7
        }
      ]
    },
    {
      "cell_type": "markdown",
      "metadata": {
        "id": "3rxs5MwB1rYZ"
      },
      "source": [
        "### (4) 모형 시각화\n",
        "실제로 모형이 잘 학습되었는지 시각화를 통해 확인합니다. "
      ]
    },
    {
      "cell_type": "code",
      "metadata": {
        "id": "ji4sCs121zAh",
        "colab": {
          "base_uri": "https://localhost:8080/",
          "height": 501
        },
        "outputId": "19839180-a265-42b9-d6ff-86233ea65309"
      },
      "source": [
        "import random\n",
        "\n",
        "plt.figure(figsize=(4,8))\n",
        "for c in range(4):\n",
        "    plt.subplot(4, 2, c*2+1)\n",
        "    rand_index = random.randint(0, test_X.shape[0])\n",
        "    plt.imshow(test_X[rand_index].reshape(28, 28), cmap='gray')\n",
        "    plt.axis('off')\n",
        "    \n",
        "    plt.subplot(4, 2, c*2+2)\n",
        "    img = model.predict(np.expand_dims(test_X[rand_index], axis=0))\n",
        "    plt.imshow(img.reshape(28, 28), cmap='gray')\n",
        "    plt.axis('off')\n",
        "    \n",
        "plt.show()\n",
        "\n",
        "model.evaluate(test_X, test_X)"
      ],
      "execution_count": 8,
      "outputs": [
        {
          "output_type": "display_data",
          "data": {
            "image/png": "[encoded data removed]",
            "text/plain": [
              "<Figure size 288x576 with 8 Axes>"
            ]
          },
          "metadata": {
            "tags": [],
            "needs_background": "light"
          }
        },
        {
          "output_type": "stream",
          "text": [
            "313/313 [==============================] - 1s 2ms/step - loss: 0.0059\n"
          ],
          "name": "stdout"
        },
        {
          "output_type": "execute_result",
          "data": {
            "text/plain": [
              "0.00592181459069252"
            ]
          },
          "metadata": {
            "tags": []
          },
          "execution_count": 8
        }
      ]
    },
    {
      "cell_type": "markdown",
      "metadata": {
        "id": "wyf528pe254Q"
      },
      "source": [
        "### (5) CNN 모형 신경망 업데이트\n",
        "\n",
        "더 좋은 성과를 내기 위해 CNN을 활용하도록 합니다. 모형 정의를 다시 해봅니다. "
      ]
    },
    {
      "cell_type": "code",
      "metadata": {
        "id": "eP8pggT53JLy",
        "colab": {
          "base_uri": "https://localhost:8080/"
        },
        "outputId": "146fbbdc-7f23-4885-d25d-28198d076205"
      },
      "source": [
        "train_X = train_X.reshape(-1, 28, 28, 1)\n",
        "test_X = test_X.reshape(-1, 28, 28, 1)\n",
        "\n",
        "model = tf.keras.Sequential([\n",
        "    tf.keras.layers.Conv2D(filters=32, kernel_size=2, strides=(2,2), activation='relu', input_shape=(28, 28, 1)),\n",
        "    tf.keras.layers.Conv2D(filters=64, kernel_size=2, strides=(2,2), activation='relu'),\n",
        "    tf.keras.layers.Flatten(),\n",
        "    tf.keras.layers.Dense(64, activation='relu'),\n",
        "    tf.keras.layers.Dense(7*7*64, activation='relu'),\n",
        "    tf.keras.layers.Reshape(target_shape=(7,7,64)),\n",
        "    tf.keras.layers.Conv2DTranspose(filters=32, kernel_size=2, strides=(2,2), padding='same', activation='relu'),\n",
        "    tf.keras.layers.Conv2DTranspose(filters=1, kernel_size=2, strides=(2,2), padding='same', activation='sigmoid')\n",
        "])\n",
        "\n",
        "model.compile(optimizer=tf.optimizers.Adam(), loss='mse')\n",
        "model.summary()"
      ],
      "execution_count": 9,
      "outputs": [
        {
          "output_type": "stream",
          "text": [
            "Model: \"sequential_1\"\n",
            "_________________________________________________________________\n",
            "Layer (type)                 Output Shape              Param #   \n",
            "=================================================================\n",
            "conv2d (Conv2D)              (None, 14, 14, 32)        160       \n",
            "_________________________________________________________________\n",
            "conv2d_1 (Conv2D)            (None, 7, 7, 64)          8256      \n",
            "_________________________________________________________________\n",
            "flatten (Flatten)            (None, 3136)              0         \n",
            "_________________________________________________________________\n",
            "dense_3 (Dense)              (None, 64)                200768    \n",
            "_________________________________________________________________\n",
            "dense_4 (Dense)              (None, 3136)              203840    \n",
            "_________________________________________________________________\n",
            "reshape (Reshape)            (None, 7, 7, 64)          0         \n",
            "_________________________________________________________________\n",
            "conv2d_transpose (Conv2DTran (None, 14, 14, 32)        8224      \n",
            "_________________________________________________________________\n",
            "conv2d_transpose_1 (Conv2DTr (None, 28, 28, 1)         129       \n",
            "=================================================================\n",
            "Total params: 421,377\n",
            "Trainable params: 421,377\n",
            "Non-trainable params: 0\n",
            "_________________________________________________________________\n"
          ],
          "name": "stdout"
        }
      ]
    },
    {
      "cell_type": "markdown",
      "metadata": {
        "id": "BGpCP3983YLx"
      },
      "source": [
        "하나씩 살펴보도록 합니다. \n",
        "\n",
        "```python\n",
        "train_X = train_X.reshape(-1, 28, 28, 1)\n",
        "test_X = test_X.reshape(-1, 28, 28, 1)\n",
        "```\n",
        "\n",
        "- 먼저, `train_X`와 `train_Y`부분에 대한 설명입니다. \n",
        "- 흑백 이미지이기 때문에 마지막 차원의 수는 1입니다. \n",
        "\n",
        "```python\n",
        "tf.keras.layers.Conv2D(filters=32, kernel_size=2, strides=(2,2), activation='relu', input_shape=(28, 28, 1)),\n",
        "tf.keras.layers.Conv2D(filters=64, kernel_size=2, strides=(2,2), activation='relu'),\n",
        "...\n",
        "```\n",
        "- Conv2D 레이어를 2개 쌓았습니다. \n",
        "- 그런데, 풀링 레이어가 빠져 있습니다. 대신에 `kernel_size=2`, `strides=(2,2)`로 설정해서 풀링 레이어를 쓰는 것과 같은 효과를 줍니다. \n",
        "- Conv2D를 통과할 때마다 50%씩 감소하여 두번째 `Conv2D`를 통과하면 이미지의 크지는 `7X7`이 됩니다. \n",
        "\n",
        "```python\n",
        "..., \n",
        "tf.keras.layers.Flatten(),\n",
        "tf.keras.layers.Dense(64, activation='relu'),\n",
        "...\n",
        "```\n",
        "- 3차원의 데이터를 1차원으로 바꿔주기 위해 `Flatten()`을 통과해야 합니다. \n",
        "- 그 다음에는 잠재 변수를 만들기 위해 `Dense` 오토인코더와 동일한 크기로 64개의 뉴런을 가지는 `Dense`레이어를 배치합니다. \n",
        "\n",
        "```python\n",
        "tf.keras.layers.Dense(7*7*64, activation='relu')\n",
        "```\n",
        "- 잠재 변수를 만든 다음에는 디코더를 만듭니다. 디코더는 인코더와 대칭이 되도록 다시 쌓아올립니다. 잠재변수 레이어와 연결된 레이어는 `7X7` 이미지를 만들기 위해 64개의 채널만큼 가지고 있는 `Conv2D`레이어입니다. \n",
        "- 레이어와 뉴런수를 동일하게 만들기 위해서 `Dense`레이어의 뉴런 수를 `7*7*64`로 넣습니다. \n",
        "\n",
        "```python\n",
        "tf.keras.layers.Reshape(target_shape=(7,7,64))\n",
        "```\n",
        "- 1차원인 데이터를 3차원으로 바꿔주기 위해 64개의 채널만큼 `Reshape`레이어를 사용합니다. \n",
        "\n",
        "```python\n",
        "tf.keras.layers.Conv2DTranspose(filters=32, kernel_size=2, strides=(2,2), padding='same', activation='relu'),\n",
        "    tf.keras.layers.Conv2DTranspose(filters=1, kernel_size=2, strides=(2,2), padding='same', activation='sigmoid')\n",
        "```\n",
        "- 마지막으로 이어지는 2개의 레이어는 `Conv2DTranspose`입니다. \n",
        "- Conv2D레이어가 하는 일의 반대되는 계산으로 이해하면 됩니다. (즉, 이 함수를 쓰는 이유는 대칭 구조를 만들기 위함입니다.)\n",
        "- 필터의 개수가 1인 것은 흑백이인 출력 이미지와 같습니다. "
      ]
    },
    {
      "cell_type": "markdown",
      "metadata": {
        "id": "r3gTcLUc8BsB"
      },
      "source": [
        "### (6) CNN 모형 학습\n",
        "- 이제 모형을 학습시킵니다. "
      ]
    },
    {
      "cell_type": "code",
      "metadata": {
        "id": "7uYPBYvt8FPL",
        "colab": {
          "base_uri": "https://localhost:8080/"
        },
        "outputId": "94b917c3-84cd-483c-e6a6-b8216366658a"
      },
      "source": [
        "model.fit(train_X, train_X, epochs=10, batch_size=256)"
      ],
      "execution_count": 10,
      "outputs": [
        {
          "output_type": "stream",
          "text": [
            "Epoch 1/10\n",
            "235/235 [==============================] - 29s 11ms/step - loss: 0.0781\n",
            "Epoch 2/10\n",
            "235/235 [==============================] - 2s 10ms/step - loss: 0.0270\n",
            "Epoch 3/10\n",
            "235/235 [==============================] - 2s 10ms/step - loss: 0.0190\n",
            "Epoch 4/10\n",
            "235/235 [==============================] - 2s 10ms/step - loss: 0.0167\n",
            "Epoch 5/10\n",
            "235/235 [==============================] - 2s 10ms/step - loss: 0.0156\n",
            "Epoch 6/10\n",
            "235/235 [==============================] - 2s 10ms/step - loss: 0.0150\n",
            "Epoch 7/10\n",
            "235/235 [==============================] - 2s 10ms/step - loss: 0.0146\n",
            "Epoch 8/10\n",
            "235/235 [==============================] - 2s 10ms/step - loss: 0.0144\n",
            "Epoch 9/10\n",
            "235/235 [==============================] - 2s 10ms/step - loss: 0.0142\n",
            "Epoch 10/10\n",
            "235/235 [==============================] - 3s 11ms/step - loss: 0.0140\n"
          ],
          "name": "stdout"
        },
        {
          "output_type": "execute_result",
          "data": {
            "text/plain": [
              "<tensorflow.python.keras.callbacks.History at 0x7f531003cc50>"
            ]
          },
          "metadata": {
            "tags": []
          },
          "execution_count": 10
        }
      ]
    },
    {
      "cell_type": "markdown",
      "metadata": {
        "id": "HMrE3NYA8H55"
      },
      "source": [
        "### (7) 오토인코더의 이미지 재생성 및 모형 성능 평가\n",
        "- 얼마나 잘 재현하는지 확인해봅니다. "
      ]
    },
    {
      "cell_type": "code",
      "metadata": {
        "id": "z8mKCyHt8XHW",
        "colab": {
          "base_uri": "https://localhost:8080/",
          "height": 501
        },
        "outputId": "e2fc7f05-0c1e-4e8a-f15b-d208582397b1"
      },
      "source": [
        "import random\n",
        "\n",
        "plt.figure(figsize=(4,8))\n",
        "for c in range(4):\n",
        "    plt.subplot(4, 2, c*2+1)\n",
        "    rand_index = random.randint(0, test_X.shape[0])\n",
        "    plt.imshow(test_X[rand_index].reshape(28, 28), cmap='gray')\n",
        "    plt.axis('off')\n",
        "    \n",
        "    plt.subplot(4, 2, c*2+2)\n",
        "    img = model.predict(np.expand_dims(test_X[rand_index], axis=0))\n",
        "    plt.imshow(img.reshape(28, 28), cmap='gray')\n",
        "    plt.axis('off')\n",
        "    \n",
        "plt.show()\n",
        "\n",
        "model.evaluate(test_X, test_X)"
      ],
      "execution_count": 11,
      "outputs": [
        {
          "output_type": "display_data",
          "data": {
            "image/png": "[encoded data removed]",
            "text/plain": [
              "<Figure size 288x576 with 8 Axes>"
            ]
          },
          "metadata": {
            "tags": [],
            "needs_background": "light"
          }
        },
        {
          "output_type": "stream",
          "text": [
            "313/313 [==============================] - 1s 4ms/step - loss: 0.0135\n"
          ],
          "name": "stdout"
        },
        {
          "output_type": "execute_result",
          "data": {
            "text/plain": [
              "0.0135131711140275"
            ]
          },
          "metadata": {
            "tags": []
          },
          "execution_count": 11
        }
      ]
    },
    {
      "cell_type": "markdown",
      "metadata": {
        "id": "EF7Whikz8bXJ"
      },
      "source": [
        "보면 알겠지만, 조금 이상합니다. 왜 이상할까요? 이 때 한번 고민해야 하는 것이 `활성화함수(=activation)`입니다. \n",
        "- 마지막 레이어를 제외하면 `relu`를 사용했습니다. \n",
        "- `relu`는 양수는 그대로 반환하고 0이나 음수가 들어오면 0을 반환합니다. 즉, 이말은 뉴런의 계산값 중 음수가 되는 결과가 많을 경우 뉴런의 출력은 무조건 0이 됩니다. \n",
        "- 출력이 0인건 알겠는데, 왜 그게 문제가 될까요? 출력은 다음 레이어의 가중치에 곱해지기 때문에 출력이 0이면 가중치의 효과를 모두 0으로 만들어버립니다. (교재 340페이지 문제점에 대해 이미지로 표현되었으니 꼭 확인 바랍니다. \n",
        "- 이러한 문제점을 해결하고자 `elu`라는 개념이 도입되었습니다. (이론은 교재 340페이지를 확인합니다!)\n",
        "  + 간단하게 표현하면 `Relu`와 다르게 `elu`는 0으로 수렴하지 않고 `-1`로 수렴하게 됩니다. "
      ]
    },
    {
      "cell_type": "code",
      "metadata": {
        "id": "tWAzc5XRvNta",
        "colab": {
          "base_uri": "https://localhost:8080/",
          "height": 265
        },
        "outputId": "239f3b72-edb2-4767-8382-8647cd5baadf"
      },
      "source": [
        "# 그림 9.7 출력 코드\n",
        "import math\n",
        "\n",
        "x = np.arange(-5, 5, 0.01)\n",
        "relu = [0 if z < 0 else z for z in x]\n",
        "elu = [1.0 * (np.exp(z) - 1) if z < 0 else z for z in x]\n",
        "\n",
        "# plt.axhline(0, color='gray')\n",
        "plt.axvline(0, color='gray')\n",
        "plt.plot(x, relu, 'r--', label='relu')\n",
        "plt.plot(x, elu, 'g-', label='elu')\n",
        "plt.legend()\n",
        "plt.show()"
      ],
      "execution_count": 12,
      "outputs": [
        {
          "output_type": "display_data",
          "data": {
            "image/png": "[encoded data removed]",
            "text/plain": [
              "<Figure size 432x288 with 1 Axes>"
            ]
          },
          "metadata": {
            "tags": [],
            "needs_background": "light"
          }
        }
      ]
    },
    {
      "cell_type": "markdown",
      "metadata": {
        "id": "FGQhykIA9uff"
      },
      "source": [
        "### (8) elu의 적용\n",
        "- 이제 `elu`로 바꾼 후 모형을 재학습 시킵니다. \n",
        "- 반복되는 내용이기 때문에 전체 코드로 시각화까지 확인합니다. "
      ]
    },
    {
      "cell_type": "code",
      "metadata": {
        "id": "Rw3IsQdP9yg9",
        "colab": {
          "base_uri": "https://localhost:8080/",
          "height": 1000
        },
        "outputId": "ee164029-ec80-4302-c1f0-2a570e3383e2"
      },
      "source": [
        "train_X = train_X.reshape(-1, 28, 28, 1)\n",
        "test_X = test_X.reshape(-1, 28, 28, 1)\n",
        "\n",
        "model = tf.keras.Sequential([\n",
        "    tf.keras.layers.Conv2D(filters=32, kernel_size=2, strides=(2,2), activation='elu', input_shape=(28, 28, 1)),\n",
        "    tf.keras.layers.Conv2D(filters=64, kernel_size=2, strides=(2,2), activation='elu'),\n",
        "    tf.keras.layers.Flatten(),\n",
        "    tf.keras.layers.Dense(64, activation='elu'),\n",
        "    tf.keras.layers.Dense(7*7*64, activation='elu'),\n",
        "    tf.keras.layers.Reshape(target_shape=(7,7,64)),\n",
        "    tf.keras.layers.Conv2DTranspose(filters=32, kernel_size=2, strides=(2,2), padding='same', activation='elu'),\n",
        "    tf.keras.layers.Conv2DTranspose(filters=1, kernel_size=2, strides=(2,2), padding='same', activation='sigmoid')\n",
        "])\n",
        "\n",
        "model.compile(optimizer=tf.optimizers.Adam(), loss='mse')\n",
        "model.summary()\n",
        "\n",
        "model.fit(train_X, train_X, epochs=10, batch_size=256)\n",
        "\n",
        "import random\n",
        "\n",
        "plt.figure(figsize=(4,8))\n",
        "for c in range(4):\n",
        "    plt.subplot(4, 2, c*2+1)\n",
        "    rand_index = random.randint(0, test_X.shape[0])\n",
        "    plt.imshow(test_X[rand_index].reshape(28, 28), cmap='gray')\n",
        "    plt.axis('off')\n",
        "    \n",
        "    plt.subplot(4, 2, c*2+2)\n",
        "    img = model.predict(np.expand_dims(test_X[rand_index], axis=0))\n",
        "    plt.imshow(img.reshape(28, 28), cmap='gray')\n",
        "    plt.axis('off')\n",
        "    \n",
        "plt.show()\n",
        "\n",
        "model.evaluate(test_X, test_X)"
      ],
      "execution_count": 13,
      "outputs": [
        {
          "output_type": "stream",
          "text": [
            "Model: \"sequential_2\"\n",
            "_________________________________________________________________\n",
            "Layer (type)                 Output Shape              Param #   \n",
            "=================================================================\n",
            "conv2d_2 (Conv2D)            (None, 14, 14, 32)        160       \n",
            "_________________________________________________________________\n",
            "conv2d_3 (Conv2D)            (None, 7, 7, 64)          8256      \n",
            "_________________________________________________________________\n",
            "flatten_1 (Flatten)          (None, 3136)              0         \n",
            "_________________________________________________________________\n",
            "dense_5 (Dense)              (None, 64)                200768    \n",
            "_________________________________________________________________\n",
            "dense_6 (Dense)              (None, 3136)              203840    \n",
            "_________________________________________________________________\n",
            "reshape_1 (Reshape)          (None, 7, 7, 64)          0         \n",
            "_________________________________________________________________\n",
            "conv2d_transpose_2 (Conv2DTr (None, 14, 14, 32)        8224      \n",
            "_________________________________________________________________\n",
            "conv2d_transpose_3 (Conv2DTr (None, 28, 28, 1)         129       \n",
            "=================================================================\n",
            "Total params: 421,377\n",
            "Trainable params: 421,377\n",
            "Non-trainable params: 0\n",
            "_________________________________________________________________\n",
            "Epoch 1/10\n",
            "235/235 [==============================] - 3s 11ms/step - loss: 0.0556\n",
            "Epoch 2/10\n",
            "235/235 [==============================] - 2s 11ms/step - loss: 0.0186\n",
            "Epoch 3/10\n",
            "235/235 [==============================] - 2s 11ms/step - loss: 0.0121\n",
            "Epoch 4/10\n",
            "235/235 [==============================] - 2s 10ms/step - loss: 0.0101\n",
            "Epoch 5/10\n",
            "235/235 [==============================] - 2s 11ms/step - loss: 0.0092\n",
            "Epoch 6/10\n",
            "235/235 [==============================] - 2s 10ms/step - loss: 0.0087\n",
            "Epoch 7/10\n",
            "235/235 [==============================] - 2s 11ms/step - loss: 0.0083\n",
            "Epoch 8/10\n",
            "235/235 [==============================] - 2s 11ms/step - loss: 0.0080\n",
            "Epoch 9/10\n",
            "235/235 [==============================] - 3s 11ms/step - loss: 0.0078\n",
            "Epoch 10/10\n",
            "235/235 [==============================] - 2s 11ms/step - loss: 0.0076\n"
          ],
          "name": "stdout"
        },
        {
          "output_type": "display_data",
          "data": {
            "image/png": "[encoded data removed]",
            "text/plain": [
              "<Figure size 288x576 with 8 Axes>"
            ]
          },
          "metadata": {
            "tags": [],
            "needs_background": "light"
          }
        },
        {
          "output_type": "stream",
          "text": [
            "313/313 [==============================] - 1s 4ms/step - loss: 0.0072\n"
          ],
          "name": "stdout"
        },
        {
          "output_type": "execute_result",
          "data": {
            "text/plain": [
              "0.007246371358633041"
            ]
          },
          "metadata": {
            "tags": []
          },
          "execution_count": 13
        }
      ]
    },
    {
      "cell_type": "markdown",
      "metadata": {
        "id": "A2CU-u9g-FjQ"
      },
      "source": [
        "- `relu`와 다르게 이전의 각진 모습은 거의 찾아볼 수 없고, `loss` 역시 보다 낮게 측정된 것을 확인할 수 있습니다. "
      ]
    },
    {
      "cell_type": "markdown",
      "metadata": {
        "id": "lIplmAzGoXTf"
      },
      "source": [
        "\n",
        "\n",
        "## III. 연습 파일\n",
        "- [구글 Colab에서 직접 연습해보자](https://colab.research.google.com/github/chloevan/deeplearningAI/blob/master/tensorflow2.0/ch9_1_auto_encoder.ipynb) "
      ]
    },
    {
      "cell_type": "markdown",
      "metadata": {
        "id": "5QXGf2VuqEeL"
      },
      "source": [
        "\n",
        "## VI. Reference\n",
        "\n",
        "김환희. (2020). 시작하세요! 텐서플로 2.0 프로그래밍: 기초 이론부터 실전 예제까지 한번에 끝내는 머신러닝, 딥러닝 핵심 가이드. 서울: 위키북스."
      ]
    },
    {
      "cell_type": "markdown",
      "metadata": {
        "id": "9WpcLWk2uWkL"
      },
      "source": [
        "fashion MNIST에 대한 인코더"
      ]
    },
    {
      "cell_type": "markdown",
      "metadata": {
        "id": "z5xn5yDdg4IN"
      },
      "source": [
        "# 1. 환경 설정"
      ]
    },
    {
      "cell_type": "code",
      "metadata": {
        "id": "9mGljBZMg2V8"
      },
      "source": [
        "# 라이브러리 설정\n",
        "import pandas as pd\n",
        "import numpy as np\n",
        "import tensorflow as tf\n",
        "import matplotlib.pyplot as plt\n",
        "import random\n",
        "\n",
        "from tensorflow.keras.models import Sequential\n",
        "from tensorflow.keras.layers import Flatten, Dense, Dropout\n",
        "from tensorflow.keras.layers import Conv2D, MaxPooling2D, Reshape\n",
        "\n",
        "# 랜덤 시드 고정\n",
        "SEED=12\n",
        "random.seed(SEED)\n",
        "np.random.seed(SEED)\n",
        "tf.random.set_seed(SEED)  "
      ],
      "execution_count": 14,
      "outputs": []
    },
    {
      "cell_type": "markdown",
      "metadata": {
        "id": "Mh6CUYbhlKf1"
      },
      "source": [
        "# 2. 데이터셋 준비"
      ]
    },
    {
      "cell_type": "code",
      "metadata": {
        "id": "fFboBDPEDwTE",
        "colab": {
          "base_uri": "https://localhost:8080/"
        },
        "outputId": "ec599b37-5b99-4105-b98b-fa801769aae3"
      },
      "source": [
        "# 케라스에서 불러오기\n",
        "from tensorflow.keras import datasets\n",
        "fashion_mnist = datasets.fashion_mnist\n",
        "(X_train, y_train), (X_test, y_test) = fashion_mnist.load_data()\n",
        "\n",
        "# 피처 스케일링\n",
        "X_train = X_train / 255.\n",
        "X_test = X_test / 255.\n",
        "\n",
        "# 차원 추가\n",
        "X_train = np.expand_dims(X_train, axis=-1)\n",
        "X_test = np.expand_dims(X_test, axis=-1)\n",
        "\n",
        "print(X_train.shape, y_train.shape, X_test.shape, y_test.shape)"
      ],
      "execution_count": 15,
      "outputs": [
        {
          "output_type": "stream",
          "text": [
            "Downloading data from https://storage.googleapis.com/tensorflow/tf-keras-datasets/train-labels-idx1-ubyte.gz\n",
            "32768/29515 [=================================] - 0s 0us/step\n",
            "Downloading data from https://storage.googleapis.com/tensorflow/tf-keras-datasets/train-images-idx3-ubyte.gz\n",
            "26427392/26421880 [==============================] - 1s 0us/step\n",
            "Downloading data from https://storage.googleapis.com/tensorflow/tf-keras-datasets/t10k-labels-idx1-ubyte.gz\n",
            "8192/5148 [===============================================] - 0s 0us/step\n",
            "Downloading data from https://storage.googleapis.com/tensorflow/tf-keras-datasets/t10k-images-idx3-ubyte.gz\n",
            "4423680/4422102 [==============================] - 0s 0us/step\n",
            "(60000, 28, 28, 1) (60000,) (10000, 28, 28, 1) (10000,)\n"
          ],
          "name": "stdout"
        }
      ]
    },
    {
      "cell_type": "markdown",
      "metadata": {
        "id": "QzHOFxOTbv_H"
      },
      "source": [
        "# 3. 오토 인코더"
      ]
    },
    {
      "cell_type": "code",
      "metadata": {
        "id": "QshLbLCKeSD6",
        "colab": {
          "base_uri": "https://localhost:8080/"
        },
        "outputId": "f421a7c2-002e-4535-ac81-01e3037406ff"
      },
      "source": [
        "# 오토 인코더 모델 정의 \n",
        "def Autoencoder():\n",
        "\n",
        "    model = Sequential()\n",
        "\n",
        "    # Encoder 부분\n",
        "    model.add(Conv2D(filters=16, kernel_size=(3, 3), \n",
        "                     activation='relu', input_shape=[28, 28, 1]))\n",
        "    model.add(MaxPooling2D(pool_size=(2, 2)))\n",
        "    model.add(Flatten())\n",
        "    model.add(Dense(64, activation='relu')) \n",
        "\n",
        "    # Decoder 부분\n",
        "    model.add(Dense(units=28*28, activation='sigmoid'))   \n",
        "    model.add(Reshape((28, 28)))     \n",
        "\n",
        "    # Compile \n",
        "    model.compile(optimizer='adam', \n",
        "                  loss='mean_squared_error')\n",
        "\n",
        "    return model  \n",
        "\n",
        "ae_model = Autoencoder()\n",
        "ae_model.summary()"
      ],
      "execution_count": 16,
      "outputs": [
        {
          "output_type": "stream",
          "text": [
            "Model: \"sequential_3\"\n",
            "_________________________________________________________________\n",
            "Layer (type)                 Output Shape              Param #   \n",
            "=================================================================\n",
            "conv2d_4 (Conv2D)            (None, 26, 26, 16)        160       \n",
            "_________________________________________________________________\n",
            "max_pooling2d (MaxPooling2D) (None, 13, 13, 16)        0         \n",
            "_________________________________________________________________\n",
            "flatten_2 (Flatten)          (None, 2704)              0         \n",
            "_________________________________________________________________\n",
            "dense_7 (Dense)              (None, 64)                173120    \n",
            "_________________________________________________________________\n",
            "dense_8 (Dense)              (None, 784)               50960     \n",
            "_________________________________________________________________\n",
            "reshape_2 (Reshape)          (None, 28, 28)            0         \n",
            "=================================================================\n",
            "Total params: 224,240\n",
            "Trainable params: 224,240\n",
            "Non-trainable params: 0\n",
            "_________________________________________________________________\n"
          ],
          "name": "stdout"
        }
      ]
    },
    {
      "cell_type": "markdown",
      "metadata": {
        "id": "K7Qb7HRSvdX8"
      },
      "source": [
        "# 4. 이미지 복원"
      ]
    },
    {
      "cell_type": "code",
      "metadata": {
        "id": "AtQpnIxyv0q7",
        "colab": {
          "base_uri": "https://localhost:8080/"
        },
        "outputId": "389cdf53-5b16-4e06-e95e-6df600942972"
      },
      "source": [
        "history = ae_model.fit(X_train, X_train, batch_size=64, epochs=20,\n",
        "                        validation_data=(X_test, X_test),\n",
        "                        verbose=1)\n",
        "\n",
        "ae_images = ae_model.predict(X_test)\n",
        "ae_images.shape"
      ],
      "execution_count": 17,
      "outputs": [
        {
          "output_type": "execute_result",
          "data": {
            "text/plain": [
              "(10000, 28, 28)"
            ]
          },
          "metadata": {
            "tags": []
          },
          "execution_count": 17
        }
      ]
    },
    {
      "cell_type": "code",
      "metadata": {
        "id": "VfDEgm1-vb6d",
        "colab": {
          "base_uri": "https://localhost:8080/",
          "height": 262
        },
        "outputId": "0b328c54-1224-439d-b597-52bafd05d116"
      },
      "source": [
        "num = 5\n",
        "plt.figure(figsize=(10, 4))\n",
        "\n",
        "for i in range(num):\n",
        "\n",
        "    # 원본 이미지\n",
        "    ax = plt.subplot(2, num, i + 1)\n",
        "    plt.imshow(X_test[i].reshape((28, 28)), cmap='gray')\n",
        "    plt.title(\"Original %s\" % str(i))\n",
        "    plt.axis('off')\n",
        "\n",
        "    # 복원 이미지\n",
        "    ax = plt.subplot(2, num, i + num + 1)\n",
        "    plt.imshow(ae_images[i], cmap='gray')\n",
        "    plt.title(\"Auto-encoded %s\" % str(i))\n",
        "    plt.axis('off')\n",
        "\n",
        "plt.show()"
      ],
      "execution_count": 20,
      "outputs": [
        {
          "output_type": "display_data",
          "data": {
            "image/png": "[encoded data removed]",
            "text/plain": [
              "<Figure size 720x288 with 10 Axes>"
            ]
          },
          "metadata": {
            "tags": [],
            "needs_background": "light"
          }
        }
      ]
    }
  ]
}