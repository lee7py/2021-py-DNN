{
  "nbformat": 4,
  "nbformat_minor": 0,
  "metadata": {
    "colab": {
      "name": "2-2 mydnn_tf_v1code.ipynb",
      "provenance": [],
      "collapsed_sections": [],
      "authorship_tag": "ABX9TyMXkhl5yhYOmcvAw4Kpgcei",
      "include_colab_link": true
    },
    "kernelspec": {
      "name": "python3",
      "display_name": "Python 3"
    }
  },
  "cells": [
    {
      "cell_type": "markdown",
      "metadata": {
        "id": "view-in-github",
        "colab_type": "text"
      },
      "source": [
        "<a href=\"https://colab.research.google.com/github/lee7py/2021-py-DNN/blob/main/code/2-2%20mydnn_tf_v1code.ipynb\" target=\"_parent\"><img src=\"https://colab.research.google.com/assets/colab-badge.svg\" alt=\"Open In Colab\"/></a>"
      ]
    },
    {
      "cell_type": "code",
      "metadata": {
        "colab": {
          "base_uri": "https://localhost:8080/",
          "height": 35
        },
        "id": "7YdvewJMpfOH",
        "outputId": "f2a2cf03-5e42-4f49-e34c-0dc1fa23e634"
      },
      "source": [
        "import tensorflow as tf\n",
        "tf.__version__"
      ],
      "execution_count": null,
      "outputs": [
        {
          "output_type": "execute_result",
          "data": {
            "application/vnd.google.colaboratory.intrinsic+json": {
              "type": "string"
            },
            "text/plain": [
              "'2.5.0'"
            ]
          },
          "metadata": {
            "tags": []
          },
          "execution_count": 1
        }
      ]
    },
    {
      "cell_type": "code",
      "metadata": {
        "id": "hyoXWaSrpfDe"
      },
      "source": [
        ""
      ],
      "execution_count": null,
      "outputs": []
    },
    {
      "cell_type": "code",
      "metadata": {
        "id": "666Z35Hj_IvD",
        "colab": {
          "base_uri": "https://localhost:8080/"
        },
        "outputId": "d442034a-9108-4959-d0fc-6005a65d7872"
      },
      "source": [
        " %tensorflow_version 1.x"
      ],
      "execution_count": null,
      "outputs": [
        {
          "output_type": "stream",
          "text": [
            "TensorFlow is already loaded. Please restart the runtime to change versions.\n"
          ],
          "name": "stdout"
        }
      ]
    },
    {
      "cell_type": "code",
      "metadata": {
        "id": "lIoyJC50YhKF",
        "colab": {
          "base_uri": "https://localhost:8080/",
          "height": 53
        },
        "outputId": "613f1bfe-cd85-4277-e5c6-39d098d2f638"
      },
      "source": [
        "# 텐서플로 1.0 버전 선택\n",
        "try:\n",
        "    # %tensorflow_version only exists in Colab.\n",
        "    %tensorflow_version 1.x\n",
        "except Exception:\n",
        "    pass\n",
        "\n",
        "import tensorflow as tf\n",
        "tf.__version__"
      ],
      "execution_count": null,
      "outputs": [
        {
          "output_type": "stream",
          "text": [
            "TensorFlow 1.x selected.\n"
          ],
          "name": "stdout"
        },
        {
          "output_type": "execute_result",
          "data": {
            "application/vnd.google.colaboratory.intrinsic+json": {
              "type": "string"
            },
            "text/plain": [
              "'1.15.2'"
            ]
          },
          "metadata": {
            "tags": []
          },
          "execution_count": 1
        }
      ]
    },
    {
      "cell_type": "code",
      "metadata": {
        "id": "gIK5Pt4r_wDI",
        "colab": {
          "base_uri": "https://localhost:8080/"
        },
        "outputId": "37db8e3d-f013-4318-8f14-6130be0a4493"
      },
      "source": [
        "a = 10\n",
        "b = 10\n",
        "print(a + b)"
      ],
      "execution_count": null,
      "outputs": [
        {
          "output_type": "stream",
          "text": [
            "20\n"
          ],
          "name": "stdout"
        }
      ]
    },
    {
      "cell_type": "code",
      "metadata": {
        "colab": {
          "base_uri": "https://localhost:8080/"
        },
        "id": "SCmiBp8QqAU4",
        "outputId": "f9af8e94-cb22-4d4d-cb4f-30a4523aff31"
      },
      "source": [
        "a = 10\n",
        "b = 10\n",
        "print(tf.add(a, b))"
      ],
      "execution_count": null,
      "outputs": [
        {
          "output_type": "stream",
          "text": [
            "Tensor(\"Add:0\", shape=(), dtype=int32)\n"
          ],
          "name": "stdout"
        }
      ]
    },
    {
      "cell_type": "code",
      "metadata": {
        "id": "kzCn_X1l_t-Z",
        "colab": {
          "base_uri": "https://localhost:8080/"
        },
        "outputId": "9d10bef0-6a23-4f77-ef7e-2dc0acd96495"
      },
      "source": [
        "a = 10\n",
        "b = 10\n",
        "print(tf.add(a, b))\n",
        "\n",
        "sess = tf.Session()\n",
        "print(sess.run(tf.add(a, b)))\n",
        "sess.close()"
      ],
      "execution_count": null,
      "outputs": [
        {
          "output_type": "stream",
          "text": [
            "Tensor(\"Add_1:0\", shape=(), dtype=int32)\n",
            "20\n"
          ],
          "name": "stdout"
        }
      ]
    },
    {
      "cell_type": "code",
      "metadata": {
        "id": "dCGcmABhY1sr",
        "colab": {
          "base_uri": "https://localhost:8080/"
        },
        "outputId": "7ac49308-f4cc-4668-bb50-87ac9ab86e63"
      },
      "source": [
        "import tensorflow as tf\n",
        "\n",
        "hello = tf.constant('Hello World!')\n",
        "\n",
        "sess = tf.Session()\n",
        "print(sess.run(hello))\n",
        "sess.close()"
      ],
      "execution_count": null,
      "outputs": [
        {
          "output_type": "stream",
          "text": [
            "b'Hello World!'\n"
          ],
          "name": "stdout"
        }
      ]
    },
    {
      "cell_type": "code",
      "metadata": {
        "id": "L066cmtDY-Gl",
        "colab": {
          "base_uri": "https://localhost:8080/"
        },
        "outputId": "c92a24a8-30dd-410f-80c3-0c7e7b29974d"
      },
      "source": [
        "a = tf.constant(5)\n",
        "b = tf.constant(3)\n",
        "sess = tf.Session()\n",
        "\n",
        "print(sess.run(a+b))\n",
        "sess.close()"
      ],
      "execution_count": null,
      "outputs": [
        {
          "output_type": "stream",
          "text": [
            "8\n"
          ],
          "name": "stdout"
        }
      ]
    },
    {
      "cell_type": "code",
      "metadata": {
        "id": "L9n5JQq9ZF7U",
        "colab": {
          "base_uri": "https://localhost:8080/"
        },
        "outputId": "be478853-28b3-44bd-a5b2-ff3fa274b7c3"
      },
      "source": [
        "c = tf.constant('Hello, world!')\n",
        "\n",
        "with tf.Session() as sess:\n",
        "    print(sess.run(c))"
      ],
      "execution_count": null,
      "outputs": [
        {
          "output_type": "stream",
          "text": [
            "b'Hello, world!'\n"
          ],
          "name": "stdout"
        }
      ]
    },
    {
      "cell_type": "code",
      "metadata": {
        "id": "LYg485LVjD_k"
      },
      "source": [
        ""
      ],
      "execution_count": null,
      "outputs": []
    },
    {
      "cell_type": "code",
      "metadata": {
        "id": "A2YitVBbjHYB"
      },
      "source": [
        ""
      ],
      "execution_count": null,
      "outputs": []
    },
    {
      "cell_type": "code",
      "metadata": {
        "id": "ZLWN6G7eZaRN",
        "colab": {
          "base_uri": "https://localhost:8080/"
        },
        "outputId": "aafac510-9cc5-4980-b944-17634bf9269b"
      },
      "source": [
        "x = tf.constant(1.)\n",
        "bool = tf.constant(False)\n",
        "res = tf.cond(bool, lambda: tf.add(x, 1.), lambda: tf.add(x, 10.))\n",
        "\n",
        "with tf.Session() as sess:\n",
        "    print( sess.run(res))"
      ],
      "execution_count": null,
      "outputs": [
        {
          "output_type": "stream",
          "text": [
            "11.0\n"
          ],
          "name": "stdout"
        }
      ]
    },
    {
      "cell_type": "code",
      "metadata": {
        "id": "eIkxeVA6jCX0"
      },
      "source": [
        ""
      ],
      "execution_count": null,
      "outputs": []
    },
    {
      "cell_type": "code",
      "metadata": {
        "id": "jseS6ltuZh8N",
        "colab": {
          "base_uri": "https://localhost:8080/"
        },
        "outputId": "3600dbc3-d5f3-478c-bb19-6ecdbecf3dc5"
      },
      "source": [
        "a = tf.constant([5], dtype=tf.float32)\n",
        "b = tf.constant([10], dtype=tf.float32)\n",
        "c = tf.constant([2], dtype=tf.float32)\n",
        "\n",
        "d = a * b + c\n",
        "\n",
        "with tf.Session() as sess:\n",
        "    print(sess.run(d))"
      ],
      "execution_count": null,
      "outputs": [
        {
          "output_type": "stream",
          "text": [
            "[52.]\n"
          ],
          "name": "stdout"
        }
      ]
    },
    {
      "cell_type": "code",
      "metadata": {
        "id": "pMjYttd0cbNz",
        "colab": {
          "base_uri": "https://localhost:8080/"
        },
        "outputId": "073e230d-9893-4c36-e3e0-204754ae88b4"
      },
      "source": [
        "a = tf.constant(5, dtype=tf.float32)\n",
        "#a = 5\n",
        "with tf.Session() as sess:\n",
        "    print(sess.run(a))"
      ],
      "execution_count": null,
      "outputs": [
        {
          "output_type": "stream",
          "text": [
            "5.0\n"
          ],
          "name": "stdout"
        }
      ]
    },
    {
      "cell_type": "code",
      "metadata": {
        "id": "qVIos5ADciDD",
        "colab": {
          "base_uri": "https://localhost:8080/"
        },
        "outputId": "e8a47964-f689-483b-8989-6c67962b75dd"
      },
      "source": [
        "x = tf.constant([1, 2, 3])\n",
        "y = tf.constant([5, 6, 7])\n",
        "\n",
        "with tf.Session() as sess:\n",
        "    print(sess.run(x+y))\n"
      ],
      "execution_count": null,
      "outputs": [
        {
          "output_type": "stream",
          "text": [
            "[ 6  8 10]\n"
          ],
          "name": "stdout"
        }
      ]
    },
    {
      "cell_type": "code",
      "metadata": {
        "id": "E5nKTlaLg2Wr",
        "colab": {
          "base_uri": "https://localhost:8080/"
        },
        "outputId": "49c19bde-23dc-4932-832d-95c96bb16b56"
      },
      "source": [
        "x = tf.constant([1, 2, 3])\n",
        "y = tf.constant([[1], [2], [3]])\n",
        "\n",
        "with tf.Session() as sess:\n",
        "    print(sess.run(x+y))"
      ],
      "execution_count": null,
      "outputs": [
        {
          "output_type": "stream",
          "text": [
            "[[2 3 4]\n",
            " [3 4 5]\n",
            " [4 5 6]]\n"
          ],
          "name": "stdout"
        }
      ]
    },
    {
      "cell_type": "code",
      "metadata": {
        "id": "s75MWZnng_mK",
        "colab": {
          "base_uri": "https://localhost:8080/"
        },
        "outputId": "b2b0b755-d228-4804-ff3f-7c31764a1a63"
      },
      "source": [
        "a = 2\n",
        "b = 3\n",
        "c = tf.add(a, b, name='Add')\n",
        "print(c)"
      ],
      "execution_count": null,
      "outputs": [
        {
          "output_type": "stream",
          "text": [
            "Tensor(\"Add_7:0\", shape=(), dtype=int32)\n"
          ],
          "name": "stdout"
        }
      ]
    },
    {
      "cell_type": "code",
      "metadata": {
        "id": "zSSdMprjnXDB",
        "colab": {
          "base_uri": "https://localhost:8080/"
        },
        "outputId": "7aa3e8dc-f56a-404f-e62f-6183d01e050f"
      },
      "source": [
        "a = 2\n",
        "b = 3\n",
        "c = tf.add(a, b, name='Add')\n",
        "\n",
        "sess = tf.Session()\n",
        "print(sess.run(c))\n",
        "sess.close()\n",
        " "
      ],
      "execution_count": null,
      "outputs": [
        {
          "output_type": "stream",
          "text": [
            "5\n"
          ],
          "name": "stdout"
        }
      ]
    },
    {
      "cell_type": "code",
      "metadata": {
        "id": "Fa5-lY8foCck",
        "colab": {
          "base_uri": "https://localhost:8080/"
        },
        "outputId": "2b09a5be-e0ea-42e0-ed75-c623370a93ca"
      },
      "source": [
        "a = 2\n",
        "b = 3\n",
        "c = tf.add(a, b, name='Add')\n",
        "\n",
        "with tf.Session() as sess:\n",
        "    print(sess.run(c))"
      ],
      "execution_count": null,
      "outputs": [
        {
          "output_type": "stream",
          "text": [
            "5\n"
          ],
          "name": "stdout"
        }
      ]
    },
    {
      "cell_type": "code",
      "metadata": {
        "id": "AHXz1jrgoJOQ",
        "colab": {
          "base_uri": "https://localhost:8080/"
        },
        "outputId": "44e7cfc7-6cd4-4f3e-a0ad-987e065998ee"
      },
      "source": [
        "import tensorflow as tf\n",
        "x = 2\n",
        "y = 3\n",
        "add_op = tf.add(x, y, name='Add')\n",
        "mul_op = tf.multiply(x, y, name='Multiply')\n",
        "pow_op = tf.pow(add_op, mul_op, name='Power')\n",
        "useless_op = tf.multiply(x, add_op, name='Useless')\n",
        "\n",
        "with tf.Session() as sess:\n",
        "    pow_out, useless_out = sess.run([pow_op, useless_op])\n",
        "    print(pow_out, useless_out)"
      ],
      "execution_count": null,
      "outputs": [
        {
          "output_type": "stream",
          "text": [
            "15625 10\n"
          ],
          "name": "stdout"
        }
      ]
    },
    {
      "cell_type": "code",
      "metadata": {
        "id": "NvGeoXwyoMIH",
        "colab": {
          "base_uri": "https://localhost:8080/"
        },
        "outputId": "da943704-79a6-49db-94d7-66d95d7fabe8"
      },
      "source": [
        "a = tf.constant(2.)\n",
        "b = tf.constant(3.)\n",
        "c = tf.constant(5.)\n",
        "\n",
        "# Some more operations.\n",
        "mean = tf.reduce_mean([a, b, c])\n",
        "sum = tf.reduce_sum([a, b, c])\n",
        "\n",
        "with tf.Session() as sess:\n",
        "    print(\"mean =\", sess.run(mean))\n",
        "    print(\"sum =\", sess.run(sum))"
      ],
      "execution_count": null,
      "outputs": [
        {
          "output_type": "stream",
          "text": [
            "mean = 3.3333333\n",
            "sum = 10.0\n"
          ],
          "name": "stdout"
        }
      ]
    },
    {
      "cell_type": "code",
      "metadata": {
        "id": "HtDXyt2dpeWG",
        "colab": {
          "base_uri": "https://localhost:8080/",
          "height": 52
        },
        "outputId": "21e45251-6e0a-482a-c77a-b593a7048fb5"
      },
      "source": [
        "# Matrix multiplications.\n",
        "matrix1 = tf.constant([[1., 2.], [3., 4.]])\n",
        "matrix2 = tf.constant([[5., 6.], [7., 8.]])\n",
        "\n",
        "gop = tf.matmul(matrix1, matrix2)\n",
        "\n",
        "with tf.Session() as sess:\n",
        "    print(sess.run(gop))"
      ],
      "execution_count": null,
      "outputs": [
        {
          "output_type": "stream",
          "text": [
            "[[19. 22.]\n",
            " [43. 50.]]\n"
          ],
          "name": "stdout"
        }
      ]
    },
    {
      "cell_type": "code",
      "metadata": {
        "id": "-eZk_XEPrTU8",
        "colab": {
          "base_uri": "https://localhost:8080/"
        },
        "outputId": "09fd291c-df4c-406e-88cb-e94dc081202a"
      },
      "source": [
        "tf.executing_eagerly()"
      ],
      "execution_count": null,
      "outputs": [
        {
          "output_type": "execute_result",
          "data": {
            "text/plain": [
              "False"
            ]
          },
          "metadata": {
            "tags": []
          },
          "execution_count": 19
        }
      ]
    },
    {
      "cell_type": "code",
      "metadata": {
        "colab": {
          "base_uri": "https://localhost:8080/",
          "height": 399
        },
        "id": "Ipen6xIJsXgC",
        "outputId": "2aa4c4de-6bab-49f7-c74d-e1b3e27423e4"
      },
      "source": [
        "a = 2\n",
        "b = 3\n",
        "c = tf.add(a, b, name='Add')\n",
        "print(c.eval())"
      ],
      "execution_count": null,
      "outputs": [
        {
          "output_type": "error",
          "ename": "ValueError",
          "evalue": "ignored",
          "traceback": [
            "\u001b[0;31m---------------------------------------------------------------------------\u001b[0m",
            "\u001b[0;31mValueError\u001b[0m                                Traceback (most recent call last)",
            "\u001b[0;32m<ipython-input-20-08de9e93eb23>\u001b[0m in \u001b[0;36m<module>\u001b[0;34m()\u001b[0m\n\u001b[1;32m      2\u001b[0m \u001b[0mb\u001b[0m \u001b[0;34m=\u001b[0m \u001b[0;36m3\u001b[0m\u001b[0;34m\u001b[0m\u001b[0;34m\u001b[0m\u001b[0m\n\u001b[1;32m      3\u001b[0m \u001b[0mc\u001b[0m \u001b[0;34m=\u001b[0m \u001b[0mtf\u001b[0m\u001b[0;34m.\u001b[0m\u001b[0madd\u001b[0m\u001b[0;34m(\u001b[0m\u001b[0ma\u001b[0m\u001b[0;34m,\u001b[0m \u001b[0mb\u001b[0m\u001b[0;34m,\u001b[0m \u001b[0mname\u001b[0m\u001b[0;34m=\u001b[0m\u001b[0;34m'Add'\u001b[0m\u001b[0;34m)\u001b[0m\u001b[0;34m\u001b[0m\u001b[0;34m\u001b[0m\u001b[0m\n\u001b[0;32m----> 4\u001b[0;31m \u001b[0mprint\u001b[0m\u001b[0;34m(\u001b[0m\u001b[0mc\u001b[0m\u001b[0;34m.\u001b[0m\u001b[0meval\u001b[0m\u001b[0;34m(\u001b[0m\u001b[0;34m)\u001b[0m\u001b[0;34m)\u001b[0m\u001b[0;34m\u001b[0m\u001b[0;34m\u001b[0m\u001b[0m\n\u001b[0m",
            "\u001b[0;32m/tensorflow-1.15.2/python3.7/tensorflow_core/python/framework/ops.py\u001b[0m in \u001b[0;36meval\u001b[0;34m(self, feed_dict, session)\u001b[0m\n\u001b[1;32m    796\u001b[0m \u001b[0;34m\u001b[0m\u001b[0m\n\u001b[1;32m    797\u001b[0m     \"\"\"\n\u001b[0;32m--> 798\u001b[0;31m     \u001b[0;32mreturn\u001b[0m \u001b[0m_eval_using_default_session\u001b[0m\u001b[0;34m(\u001b[0m\u001b[0mself\u001b[0m\u001b[0;34m,\u001b[0m \u001b[0mfeed_dict\u001b[0m\u001b[0;34m,\u001b[0m \u001b[0mself\u001b[0m\u001b[0;34m.\u001b[0m\u001b[0mgraph\u001b[0m\u001b[0;34m,\u001b[0m \u001b[0msession\u001b[0m\u001b[0;34m)\u001b[0m\u001b[0;34m\u001b[0m\u001b[0;34m\u001b[0m\u001b[0m\n\u001b[0m\u001b[1;32m    799\u001b[0m \u001b[0;34m\u001b[0m\u001b[0m\n\u001b[1;32m    800\u001b[0m   \u001b[0;32mdef\u001b[0m \u001b[0mexperimental_ref\u001b[0m\u001b[0;34m(\u001b[0m\u001b[0mself\u001b[0m\u001b[0;34m)\u001b[0m\u001b[0;34m:\u001b[0m\u001b[0;34m\u001b[0m\u001b[0;34m\u001b[0m\u001b[0m\n",
            "\u001b[0;32m/tensorflow-1.15.2/python3.7/tensorflow_core/python/framework/ops.py\u001b[0m in \u001b[0;36m_eval_using_default_session\u001b[0;34m(tensors, feed_dict, graph, session)\u001b[0m\n\u001b[1;32m   5391\u001b[0m     \u001b[0msession\u001b[0m \u001b[0;34m=\u001b[0m \u001b[0mget_default_session\u001b[0m\u001b[0;34m(\u001b[0m\u001b[0;34m)\u001b[0m\u001b[0;34m\u001b[0m\u001b[0;34m\u001b[0m\u001b[0m\n\u001b[1;32m   5392\u001b[0m     \u001b[0;32mif\u001b[0m \u001b[0msession\u001b[0m \u001b[0;32mis\u001b[0m \u001b[0;32mNone\u001b[0m\u001b[0;34m:\u001b[0m\u001b[0;34m\u001b[0m\u001b[0;34m\u001b[0m\u001b[0m\n\u001b[0;32m-> 5393\u001b[0;31m       raise ValueError(\"Cannot evaluate tensor using `eval()`: No default \"\n\u001b[0m\u001b[1;32m   5394\u001b[0m                        \u001b[0;34m\"session is registered. Use `with \"\u001b[0m\u001b[0;34m\u001b[0m\u001b[0;34m\u001b[0m\u001b[0m\n\u001b[1;32m   5395\u001b[0m                        \u001b[0;34m\"sess.as_default()` or pass an explicit session to \"\u001b[0m\u001b[0;34m\u001b[0m\u001b[0;34m\u001b[0m\u001b[0m\n",
            "\u001b[0;31mValueError\u001b[0m: Cannot evaluate tensor using `eval()`: No default session is registered. Use `with sess.as_default()` or pass an explicit session to `eval(session=sess)`"
          ]
        }
      ]
    },
    {
      "cell_type": "code",
      "metadata": {
        "id": "7aWBikRhrwvM",
        "colab": {
          "base_uri": "https://localhost:8080/"
        },
        "outputId": "90e7bda0-e8de-4502-d001-1470f072426e"
      },
      "source": [
        "interactive_sess = tf.InteractiveSession()\n",
        "a = 2\n",
        "b = 3\n",
        "c = tf.add(a, b, name='Add')\n",
        "print(c.eval())"
      ],
      "execution_count": null,
      "outputs": [
        {
          "output_type": "stream",
          "text": [
            "5\n"
          ],
          "name": "stdout"
        }
      ]
    },
    {
      "cell_type": "code",
      "metadata": {
        "id": "PTsMDWESuNVt",
        "colab": {
          "base_uri": "https://localhost:8080/"
        },
        "outputId": "59e2bfa3-c68a-4323-aacc-8321c5ec6b41"
      },
      "source": [
        "x = tf.constant(1.)\n",
        "bool = tf.constant(False)\n",
        "res = tf.cond(bool, lambda: tf.add(x, 1.), lambda: tf.add(x, 10.))\n",
        "\n",
        "print(res.eval())"
      ],
      "execution_count": null,
      "outputs": [
        {
          "output_type": "stream",
          "text": [
            "11.0\n"
          ],
          "name": "stdout"
        }
      ]
    },
    {
      "cell_type": "code",
      "metadata": {
        "id": "32W8ldMH1pTR"
      },
      "source": [
        ""
      ],
      "execution_count": null,
      "outputs": []
    },
    {
      "cell_type": "code",
      "metadata": {
        "colab": {
          "base_uri": "https://localhost:8080/",
          "height": 35
        },
        "id": "5KDvTp0aVceq",
        "outputId": "fe50b794-30ad-4534-a729-d4a39744cef1"
      },
      "source": [
        "# 텐서플로 1.0 버전 선택\n",
        "try:\n",
        "    # %tensorflow_version only exists in Colab.\n",
        "    %tensorflow_version 2.x\n",
        "except Exception:\n",
        "    pass\n",
        "\n",
        "import tensorflow as tf\n",
        "tf.__version__"
      ],
      "execution_count": null,
      "outputs": [
        {
          "output_type": "execute_result",
          "data": {
            "application/vnd.google.colaboratory.intrinsic+json": {
              "type": "string"
            },
            "text/plain": [
              "'2.5.0'"
            ]
          },
          "metadata": {
            "tags": []
          },
          "execution_count": 1
        }
      ]
    },
    {
      "cell_type": "code",
      "metadata": {
        "colab": {
          "base_uri": "https://localhost:8080/"
        },
        "id": "VZjSuhWDVi--",
        "outputId": "749c41d1-e567-4790-a74e-7fb8bf93b497"
      },
      "source": [
        "tf.executing_eagerly()"
      ],
      "execution_count": null,
      "outputs": [
        {
          "output_type": "execute_result",
          "data": {
            "text/plain": [
              "True"
            ]
          },
          "metadata": {
            "tags": []
          },
          "execution_count": 2
        }
      ]
    },
    {
      "cell_type": "code",
      "metadata": {
        "colab": {
          "base_uri": "https://localhost:8080/"
        },
        "id": "ieol2n0GVo-p",
        "outputId": "ae13aab0-2019-41a1-bd9b-6c2432bc8bbb"
      },
      "source": [
        "import tensorflow as tf\n",
        "\n",
        "hello = tf.constant('Hello World!')\n",
        "print(hello)\n",
        "print(hello.numpy())"
      ],
      "execution_count": null,
      "outputs": [
        {
          "output_type": "stream",
          "text": [
            "tf.Tensor(b'Hello World!', shape=(), dtype=string)\n",
            "b'Hello World!'\n"
          ],
          "name": "stdout"
        }
      ]
    },
    {
      "cell_type": "code",
      "metadata": {
        "colab": {
          "base_uri": "https://localhost:8080/"
        },
        "id": "B0RunAZNWJFS",
        "outputId": "8d77aba6-0f42-44f7-f0e9-348e93ba1708"
      },
      "source": [
        "a = tf.constant(5)\n",
        "b = tf.constant(3)\n",
        "a+b\n",
        "(a+b).numpy()"
      ],
      "execution_count": null,
      "outputs": [
        {
          "output_type": "execute_result",
          "data": {
            "text/plain": [
              "8"
            ]
          },
          "metadata": {
            "tags": []
          },
          "execution_count": 5
        }
      ]
    },
    {
      "cell_type": "code",
      "metadata": {
        "colab": {
          "base_uri": "https://localhost:8080/"
        },
        "id": "EjI05GFMV5KF",
        "outputId": "87b5ba3e-b1dc-4ea9-d027-8b381fcc5031"
      },
      "source": [
        "import tensorflow as tf\n",
        "\n",
        "a = tf.constant(5)\n",
        "b = tf.constant(3)\n",
        "sess = tf.Session()\n",
        "\n",
        "print(sess.run(a+b))\n",
        "sess.close()"
      ],
      "execution_count": null,
      "outputs": [
        {
          "output_type": "stream",
          "text": [
            "8\n"
          ],
          "name": "stdout"
        }
      ]
    },
    {
      "cell_type": "code",
      "metadata": {
        "id": "RE_FHG_qWMG9",
        "colab": {
          "base_uri": "https://localhost:8080/"
        },
        "outputId": "227946bd-af40-4608-9612-47abfb85092b"
      },
      "source": [
        "%tensorflow_version 1.x"
      ],
      "execution_count": null,
      "outputs": [
        {
          "output_type": "stream",
          "text": [
            "TensorFlow 1.x selected.\n"
          ],
          "name": "stdout"
        }
      ]
    },
    {
      "cell_type": "code",
      "metadata": {
        "id": "vU6n8tBqtMNL"
      },
      "source": [
        ""
      ],
      "execution_count": null,
      "outputs": []
    }
  ]
}