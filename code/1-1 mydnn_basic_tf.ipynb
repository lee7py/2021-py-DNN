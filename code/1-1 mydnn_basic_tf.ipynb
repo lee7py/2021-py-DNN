{
  "nbformat": 4,
  "nbformat_minor": 0,
  "metadata": {
    "colab": {
      "name": "1-1 mydnn_basic_tf.ipynb",
      "provenance": [],
      "collapsed_sections": [],
      "include_colab_link": true
    },
    "kernelspec": {
      "display_name": "tf2.5",
      "language": "python",
      "name": "tfdnn"
    },
    "language_info": {
      "codemirror_mode": {
        "name": "ipython",
        "version": 3
      },
      "file_extension": ".py",
      "mimetype": "text/x-python",
      "name": "python",
      "nbconvert_exporter": "python",
      "pygments_lexer": "ipython3",
      "version": "3.9.5"
    }
  },
  "cells": [
    {
      "cell_type": "markdown",
      "metadata": {
        "id": "view-in-github",
        "colab_type": "text"
      },
      "source": [
        "<a href=\"https://colab.research.google.com/github/lee7py/2021-py-DNN/blob/main/code/1-1%20mydnn_basic_tf.ipynb\" target=\"_parent\"><img src=\"https://colab.research.google.com/assets/colab-badge.svg\" alt=\"Open In Colab\"/></a>"
      ]
    },
    {
      "cell_type": "markdown",
      "metadata": {
        "id": "zOmbjzxfw5Vl"
      },
      "source": [
        "# Tensor Manipulation"
      ]
    },
    {
      "cell_type": "code",
      "metadata": {
        "colab": {
          "base_uri": "https://localhost:8080/"
        },
        "id": "bczyMb_hw5Vm",
        "outputId": "49b70207-c847-4499-baa4-b2efe86bce8f"
      },
      "source": [
        "import tensorflow as tf\n",
        "import numpy as np\n",
        "import pprint\n",
        "\n",
        "pp = pprint.PrettyPrinter(indent=4)\n",
        "print(tf.__version__)"
      ],
      "execution_count": null,
      "outputs": [
        {
          "output_type": "stream",
          "text": [
            "2.5.0\n"
          ],
          "name": "stdout"
        }
      ]
    },
    {
      "cell_type": "markdown",
      "metadata": {
        "id": "_6WICTpUw5Vp"
      },
      "source": [
        "## Simple Array"
      ]
    },
    {
      "cell_type": "code",
      "metadata": {
        "colab": {
          "base_uri": "https://localhost:8080/"
        },
        "id": "Z6Dk6knvw5Vp",
        "outputId": "8e5a0492-a483-4c20-b133-8df78c18fbb2"
      },
      "source": [
        "t = np.array([0., 1., 2., 3., 4., 5., 6.])\n",
        "print(t)\n",
        "print(t.ndim) # rank\n",
        "print(t.shape) # shape\n",
        "print(t[0], t[1], t[-1])\n",
        "print(t[2:5], t[4:-1])\n",
        "print(t[:2], t[3:])"
      ],
      "execution_count": null,
      "outputs": [
        {
          "output_type": "stream",
          "text": [
            "[0. 1. 2. 3. 4. 5. 6.]\n",
            "1\n",
            "(7,)\n",
            "0.0 1.0 6.0\n",
            "[2. 3. 4.] [4. 5.]\n",
            "[0. 1.] [3. 4. 5. 6.]\n"
          ],
          "name": "stdout"
        }
      ]
    },
    {
      "cell_type": "markdown",
      "metadata": {
        "id": "cp5Cbw3vw5Vs"
      },
      "source": [
        "# 2D Array"
      ]
    },
    {
      "cell_type": "code",
      "metadata": {
        "colab": {
          "base_uri": "https://localhost:8080/"
        },
        "id": "lLK3T-0dw5Vs",
        "outputId": "8a2df97f-e771-4b14-9e82-e4c7f14af95a"
      },
      "source": [
        "t = np.array([[1., 2., 3.], [4., 5., 6.], [7., 8., 9.], [10., 11., 12.]])\n",
        "pp.pprint(t)\n",
        "print(t)\n",
        "print(t.ndim) # rank\n",
        "print(t.shape) # shape"
      ],
      "execution_count": null,
      "outputs": [
        {
          "output_type": "stream",
          "text": [
            "array([[ 1.,  2.,  3.],\n",
            "       [ 4.,  5.,  6.],\n",
            "       [ 7.,  8.,  9.],\n",
            "       [10., 11., 12.]])\n",
            "[[ 1.  2.  3.]\n",
            " [ 4.  5.  6.]\n",
            " [ 7.  8.  9.]\n",
            " [10. 11. 12.]]\n",
            "2\n",
            "(4, 3)\n"
          ],
          "name": "stdout"
        }
      ]
    },
    {
      "cell_type": "markdown",
      "metadata": {
        "id": "ooKzZFm7w5Vu"
      },
      "source": [
        "## Shape, Rank, Axis"
      ]
    },
    {
      "cell_type": "code",
      "metadata": {
        "colab": {
          "base_uri": "https://localhost:8080/"
        },
        "id": "vb-fENDXw5Vu",
        "outputId": "adc10e91-b072-4949-eb2c-31a57e857f4c"
      },
      "source": [
        "t = tf.constant([1,2,3,4])\n",
        "tf.shape(t).numpy()"
      ],
      "execution_count": null,
      "outputs": [
        {
          "output_type": "execute_result",
          "data": {
            "text/plain": [
              "array([4], dtype=int32)"
            ]
          },
          "metadata": {
            "tags": []
          },
          "execution_count": 4
        }
      ]
    },
    {
      "cell_type": "code",
      "metadata": {
        "id": "X3Hqso3qAHqD",
        "colab": {
          "base_uri": "https://localhost:8080/"
        },
        "outputId": "c61351f8-6507-4ee2-d2b8-5855b10068bb"
      },
      "source": [
        "t.shape"
      ],
      "execution_count": null,
      "outputs": [
        {
          "output_type": "execute_result",
          "data": {
            "text/plain": [
              "TensorShape([4])"
            ]
          },
          "metadata": {
            "tags": []
          },
          "execution_count": 5
        }
      ]
    },
    {
      "cell_type": "code",
      "metadata": {
        "colab": {
          "base_uri": "https://localhost:8080/"
        },
        "id": "COUATio0w5Vw",
        "outputId": "746e8a7a-21f3-44eb-8bb5-4a862382f9f3"
      },
      "source": [
        "t = tf.constant([[1,2],\n",
        "                 [3,4]])\n",
        "tf.shape(t).numpy()"
      ],
      "execution_count": null,
      "outputs": [
        {
          "output_type": "execute_result",
          "data": {
            "text/plain": [
              "array([2, 2], dtype=int32)"
            ]
          },
          "metadata": {
            "tags": []
          },
          "execution_count": 6
        }
      ]
    },
    {
      "cell_type": "code",
      "metadata": {
        "colab": {
          "base_uri": "https://localhost:8080/"
        },
        "id": "7rn1sicEw5Vy",
        "outputId": "80f8fbd9-a83d-4396-f40f-bddb2d701a79"
      },
      "source": [
        "t = tf.constant([[[[1, 2, 3, 4], [5, 6, 7, 8], [9, 10, 11, 12]],[[13, 14, 15, 16], [17, 18, 19, 20], [21, 22, 23, 24]]]])\n",
        "print(t)"
      ],
      "execution_count": null,
      "outputs": [
        {
          "output_type": "stream",
          "text": [
            "tf.Tensor(\n",
            "[[[[ 1  2  3  4]\n",
            "   [ 5  6  7  8]\n",
            "   [ 9 10 11 12]]\n",
            "\n",
            "  [[13 14 15 16]\n",
            "   [17 18 19 20]\n",
            "   [21 22 23 24]]]], shape=(1, 2, 3, 4), dtype=int32)\n"
          ],
          "name": "stdout"
        }
      ]
    },
    {
      "cell_type": "code",
      "metadata": {
        "colab": {
          "base_uri": "https://localhost:8080/"
        },
        "id": "WOpZuVb0AHqE",
        "outputId": "29f4d0ca-5184-4bb1-9f7d-8450022b385f"
      },
      "source": [
        "tf.shape(t).numpy()"
      ],
      "execution_count": null,
      "outputs": [
        {
          "output_type": "execute_result",
          "data": {
            "text/plain": [
              "array([1, 2, 3, 4], dtype=int32)"
            ]
          },
          "metadata": {
            "tags": []
          },
          "execution_count": 8
        }
      ]
    },
    {
      "cell_type": "code",
      "metadata": {
        "colab": {
          "base_uri": "https://localhost:8080/"
        },
        "id": "-0HaCfnjw5V1",
        "outputId": "716cdbda-c946-47e3-b9f3-1d254834c4ac"
      },
      "source": [
        "a = [\n",
        "    [\n",
        "        [\n",
        "            [1,2,3,4], \n",
        "            [5,6,7,8],\n",
        "            [9,10,11,12]\n",
        "        ],\n",
        "        [\n",
        "            [13,14,15,16],\n",
        "            [17,18,19,20], \n",
        "            [21,22,23,24]\n",
        "        ]\n",
        "    ]\n",
        "]\n",
        "a"
      ],
      "execution_count": null,
      "outputs": [
        {
          "output_type": "execute_result",
          "data": {
            "text/plain": [
              "[[[[1, 2, 3, 4], [5, 6, 7, 8], [9, 10, 11, 12]],\n",
              "  [[13, 14, 15, 16], [17, 18, 19, 20], [21, 22, 23, 24]]]]"
            ]
          },
          "metadata": {
            "tags": []
          },
          "execution_count": 9
        }
      ]
    },
    {
      "cell_type": "code",
      "metadata": {
        "id": "nxvfFdaDAHqF",
        "colab": {
          "base_uri": "https://localhost:8080/"
        },
        "outputId": "a004acb5-f63f-4af9-ed63-499f2e77ff13"
      },
      "source": [
        "pp.pprint(a)"
      ],
      "execution_count": null,
      "outputs": [
        {
          "output_type": "stream",
          "text": [
            "[   [   [[1, 2, 3, 4], [5, 6, 7, 8], [9, 10, 11, 12]],\n",
            "        [[13, 14, 15, 16], [17, 18, 19, 20], [21, 22, 23, 24]]]]\n"
          ],
          "name": "stdout"
        }
      ]
    },
    {
      "cell_type": "code",
      "metadata": {
        "scrolled": true,
        "id": "OrzK5g0aAHqF",
        "colab": {
          "base_uri": "https://localhost:8080/"
        },
        "outputId": "27460920-1d93-4a2d-dd0b-37c34e49b13d"
      },
      "source": [
        "print(a)\n",
        "a"
      ],
      "execution_count": null,
      "outputs": [
        {
          "output_type": "stream",
          "text": [
            "[[[[1, 2, 3, 4], [5, 6, 7, 8], [9, 10, 11, 12]], [[13, 14, 15, 16], [17, 18, 19, 20], [21, 22, 23, 24]]]]\n"
          ],
          "name": "stdout"
        },
        {
          "output_type": "execute_result",
          "data": {
            "text/plain": [
              "[[[[1, 2, 3, 4], [5, 6, 7, 8], [9, 10, 11, 12]],\n",
              "  [[13, 14, 15, 16], [17, 18, 19, 20], [21, 22, 23, 24]]]]"
            ]
          },
          "metadata": {
            "tags": []
          },
          "execution_count": 11
        }
      ]
    },
    {
      "cell_type": "markdown",
      "metadata": {
        "id": "EAGs0d9Qw5V3"
      },
      "source": [
        "## Matmul VS multiply"
      ]
    },
    {
      "cell_type": "code",
      "metadata": {
        "colab": {
          "base_uri": "https://localhost:8080/",
          "height": 34
        },
        "id": "LdNW6HKXw5V3",
        "outputId": "1b31128e-7835-4004-899d-371cbe6ed87d"
      },
      "source": [
        "matrix1 = tf.constant([[3., 3.]])\n",
        "matrix2 = tf.constant([[2.],[2.]])\n",
        "tf.matmul(matrix1, matrix2).numpy()"
      ],
      "execution_count": null,
      "outputs": [
        {
          "output_type": "execute_result",
          "data": {
            "text/plain": [
              "array([[12.]], dtype=float32)"
            ]
          },
          "metadata": {
            "tags": []
          },
          "execution_count": 22
        }
      ]
    },
    {
      "cell_type": "code",
      "metadata": {
        "colab": {
          "base_uri": "https://localhost:8080/",
          "height": 50
        },
        "id": "hErD-dRrw5V5",
        "outputId": "45d93f77-f04f-4657-e864-f4791df84d20"
      },
      "source": [
        "(matrix1*matrix2).numpy()"
      ],
      "execution_count": null,
      "outputs": [
        {
          "output_type": "execute_result",
          "data": {
            "text/plain": [
              "array([[6., 6.],\n",
              "       [6., 6.]], dtype=float32)"
            ]
          },
          "metadata": {
            "tags": []
          },
          "execution_count": 23
        }
      ]
    },
    {
      "cell_type": "markdown",
      "metadata": {
        "id": "b2obYv9Zw5V7"
      },
      "source": [
        "## Watch out broadcasting"
      ]
    },
    {
      "cell_type": "code",
      "metadata": {
        "colab": {
          "base_uri": "https://localhost:8080/",
          "height": 50
        },
        "id": "yYvbIgGDw5V7",
        "outputId": "f718da6f-03fa-4913-bdb0-79ae6f4accd2"
      },
      "source": [
        "matrix1 = tf.constant([[3., 3.]])\n",
        "matrix2 = tf.constant([[2.],[2.]])\n",
        "(matrix1+matrix2).numpy()"
      ],
      "execution_count": null,
      "outputs": [
        {
          "output_type": "execute_result",
          "data": {
            "text/plain": [
              "array([[5., 5.],\n",
              "       [5., 5.]], dtype=float32)"
            ]
          },
          "metadata": {
            "tags": []
          },
          "execution_count": 24
        }
      ]
    },
    {
      "cell_type": "code",
      "metadata": {
        "colab": {
          "base_uri": "https://localhost:8080/",
          "height": 34
        },
        "id": "n5WC3j8Xw5V9",
        "outputId": "3b8c14ab-dc31-48e9-c96b-950ffd9eaa77"
      },
      "source": [
        "matrix1 = tf.constant([[3., 3.]])\n",
        "matrix2 = tf.constant([[2., 2.]])\n",
        "(matrix1+matrix2).numpy()"
      ],
      "execution_count": null,
      "outputs": [
        {
          "output_type": "execute_result",
          "data": {
            "text/plain": [
              "array([[5., 5.]], dtype=float32)"
            ]
          },
          "metadata": {
            "tags": []
          },
          "execution_count": 25
        }
      ]
    },
    {
      "cell_type": "markdown",
      "metadata": {
        "id": "mcv7zOtOw5V_"
      },
      "source": [
        "## Random values for variable initializations "
      ]
    },
    {
      "cell_type": "code",
      "metadata": {
        "colab": {
          "base_uri": "https://localhost:8080/"
        },
        "id": "xkj2E3Xsw5V_",
        "scrolled": true,
        "outputId": "9e4e4395-5fb0-494a-b7cc-348d1e507b4c"
      },
      "source": [
        "tf.random.normal([3]).numpy()"
      ],
      "execution_count": null,
      "outputs": [
        {
          "output_type": "execute_result",
          "data": {
            "text/plain": [
              "array([ 1.2534605 , -0.9343768 ,  0.82752836], dtype=float32)"
            ]
          },
          "metadata": {
            "tags": []
          },
          "execution_count": 12
        }
      ]
    },
    {
      "cell_type": "code",
      "metadata": {
        "colab": {
          "base_uri": "https://localhost:8080/"
        },
        "id": "rf72av-ww5WB",
        "outputId": "828e76b2-2748-4147-90d1-9d20d470721e"
      },
      "source": [
        "tf.random.uniform([3]).numpy()"
      ],
      "execution_count": null,
      "outputs": [
        {
          "output_type": "execute_result",
          "data": {
            "text/plain": [
              "array([0.10154951, 0.00404978, 0.44939637], dtype=float32)"
            ]
          },
          "metadata": {
            "tags": []
          },
          "execution_count": 13
        }
      ]
    },
    {
      "cell_type": "code",
      "metadata": {
        "colab": {
          "base_uri": "https://localhost:8080/"
        },
        "id": "ZjI7zmxFw5WC",
        "outputId": "3a320381-a9b3-4175-e16d-79cc6c69b620"
      },
      "source": [
        "tf.random.uniform([2, 3]).numpy()"
      ],
      "execution_count": null,
      "outputs": [
        {
          "output_type": "execute_result",
          "data": {
            "text/plain": [
              "array([[0.27430987, 0.15010607, 0.9183091 ],\n",
              "       [0.6283765 , 0.21066785, 0.5335195 ]], dtype=float32)"
            ]
          },
          "metadata": {
            "tags": []
          },
          "execution_count": 14
        }
      ]
    },
    {
      "cell_type": "markdown",
      "metadata": {
        "id": "U4_kJ_fPw5WE"
      },
      "source": [
        "## Reduce Mean/Sum"
      ]
    },
    {
      "cell_type": "code",
      "metadata": {
        "colab": {
          "base_uri": "https://localhost:8080/"
        },
        "id": "32x1JEObw5WF",
        "outputId": "ccc191b6-d9ca-4354-95d6-420a48c18827"
      },
      "source": [
        "tf.reduce_mean([1, 2], axis=0).numpy()"
      ],
      "execution_count": null,
      "outputs": [
        {
          "output_type": "execute_result",
          "data": {
            "text/plain": [
              "1"
            ]
          },
          "metadata": {
            "tags": []
          },
          "execution_count": 15
        }
      ]
    },
    {
      "cell_type": "code",
      "metadata": {
        "colab": {
          "base_uri": "https://localhost:8080/"
        },
        "id": "-INwi2y7zYdK",
        "outputId": "60e7770a-4320-41c7-976e-c0aecc3cab56"
      },
      "source": [
        "tf.reduce_mean([1., 2.], axis=0).numpy()"
      ],
      "execution_count": null,
      "outputs": [
        {
          "output_type": "execute_result",
          "data": {
            "text/plain": [
              "1.5"
            ]
          },
          "metadata": {
            "tags": []
          },
          "execution_count": 16
        }
      ]
    },
    {
      "cell_type": "code",
      "metadata": {
        "colab": {
          "base_uri": "https://localhost:8080/",
          "height": 34
        },
        "id": "q-FFQdebw5WG",
        "outputId": "228201fb-1541-493c-a8a0-3813dfdf2960"
      },
      "source": [
        "x = [[1., 2.],\n",
        "     [3., 4.]]\n",
        "\n",
        "tf.reduce_mean(x).numpy()"
      ],
      "execution_count": null,
      "outputs": [
        {
          "output_type": "execute_result",
          "data": {
            "text/plain": [
              "2.5"
            ]
          },
          "metadata": {
            "tags": []
          },
          "execution_count": 37
        }
      ]
    },
    {
      "cell_type": "code",
      "metadata": {
        "colab": {
          "base_uri": "https://localhost:8080/",
          "height": 34
        },
        "id": "-A8ji2iuw5WI",
        "outputId": "9eb02de2-f98b-4148-b0f7-c55ff65455c7"
      },
      "source": [
        "tf.reduce_mean(x, axis=0).numpy()"
      ],
      "execution_count": null,
      "outputs": [
        {
          "output_type": "execute_result",
          "data": {
            "text/plain": [
              "array([2., 3.], dtype=float32)"
            ]
          },
          "metadata": {
            "tags": []
          },
          "execution_count": 40
        }
      ]
    },
    {
      "cell_type": "code",
      "metadata": {
        "colab": {
          "base_uri": "https://localhost:8080/",
          "height": 34
        },
        "id": "xITLYDoDw5WK",
        "outputId": "d67cd2ab-a253-45c2-8fac-0a0bce186821"
      },
      "source": [
        "tf.reduce_mean(x, axis=1).numpy()"
      ],
      "execution_count": null,
      "outputs": [
        {
          "output_type": "execute_result",
          "data": {
            "text/plain": [
              "array([1.5, 3.5], dtype=float32)"
            ]
          },
          "metadata": {
            "tags": []
          },
          "execution_count": 41
        }
      ]
    },
    {
      "cell_type": "code",
      "metadata": {
        "colab": {
          "base_uri": "https://localhost:8080/",
          "height": 34
        },
        "id": "W-nS3Onrw5WL",
        "outputId": "d2734baa-4dfe-4538-f940-4b8692b7353a"
      },
      "source": [
        "tf.reduce_mean(x, axis=-1).numpy()"
      ],
      "execution_count": null,
      "outputs": [
        {
          "output_type": "execute_result",
          "data": {
            "text/plain": [
              "array([1.5, 3.5], dtype=float32)"
            ]
          },
          "metadata": {
            "tags": []
          },
          "execution_count": 42
        }
      ]
    },
    {
      "cell_type": "code",
      "metadata": {
        "colab": {
          "base_uri": "https://localhost:8080/",
          "height": 34
        },
        "id": "sBxs19zIw5WN",
        "outputId": "16b3f1f4-ce3d-4d38-f619-bd212cfc35e7"
      },
      "source": [
        "x = [[1., 2.],\n",
        "     [3., 4.]]\n",
        "\n",
        "tf.reduce_sum(x).numpy()"
      ],
      "execution_count": null,
      "outputs": [
        {
          "output_type": "execute_result",
          "data": {
            "text/plain": [
              "10.0"
            ]
          },
          "metadata": {
            "tags": []
          },
          "execution_count": 43
        }
      ]
    },
    {
      "cell_type": "code",
      "metadata": {
        "colab": {
          "base_uri": "https://localhost:8080/",
          "height": 34
        },
        "id": "ayMBtJMEw5WP",
        "outputId": "69f3f02a-94db-4568-db6b-1db105dd574c"
      },
      "source": [
        "tf.reduce_sum(x, axis=0).numpy()"
      ],
      "execution_count": null,
      "outputs": [
        {
          "output_type": "execute_result",
          "data": {
            "text/plain": [
              "array([4., 6.], dtype=float32)"
            ]
          },
          "metadata": {
            "tags": []
          },
          "execution_count": 44
        }
      ]
    },
    {
      "cell_type": "code",
      "metadata": {
        "colab": {
          "base_uri": "https://localhost:8080/",
          "height": 34
        },
        "id": "Gcxo_Unnw5WQ",
        "outputId": "d4f2f444-5fff-48f0-d3b6-84b62e5dfd5f"
      },
      "source": [
        "tf.reduce_sum(x, axis=1).numpy()"
      ],
      "execution_count": null,
      "outputs": [
        {
          "output_type": "execute_result",
          "data": {
            "text/plain": [
              "array([3., 7.], dtype=float32)"
            ]
          },
          "metadata": {
            "tags": []
          },
          "execution_count": 45
        }
      ]
    },
    {
      "cell_type": "code",
      "metadata": {
        "colab": {
          "base_uri": "https://localhost:8080/",
          "height": 34
        },
        "id": "QS9ikl8K1ZtK",
        "outputId": "3ad714eb-7a4a-4c00-bb60-fb0399235189"
      },
      "source": [
        "tf.reduce_sum(x, axis=-1).numpy()"
      ],
      "execution_count": null,
      "outputs": [
        {
          "output_type": "execute_result",
          "data": {
            "text/plain": [
              "array([3., 7.], dtype=float32)"
            ]
          },
          "metadata": {
            "tags": []
          },
          "execution_count": 46
        }
      ]
    },
    {
      "cell_type": "code",
      "metadata": {
        "colab": {
          "base_uri": "https://localhost:8080/",
          "height": 34
        },
        "id": "oqx8HdJqw5WT",
        "outputId": "451edd03-6880-4c1a-c4aa-22150be33908"
      },
      "source": [
        "tf.reduce_mean(tf.reduce_sum(x, axis=-1)).numpy()"
      ],
      "execution_count": null,
      "outputs": [
        {
          "output_type": "execute_result",
          "data": {
            "text/plain": [
              "5.0"
            ]
          },
          "metadata": {
            "tags": []
          },
          "execution_count": 47
        }
      ]
    },
    {
      "cell_type": "markdown",
      "metadata": {
        "id": "zNLCsFVSw5WV"
      },
      "source": [
        "## Argmax with axis"
      ]
    },
    {
      "cell_type": "code",
      "metadata": {
        "colab": {
          "base_uri": "https://localhost:8080/",
          "height": 34
        },
        "id": "4JJ4Mpu7w5WV",
        "outputId": "62ff9842-2427-4dc8-ec80-13fe43e3f3dd"
      },
      "source": [
        "x = [[0, 1, 2],\n",
        "     [2, 1, 0]]\n",
        "tf.argmax(x, axis=0).numpy()"
      ],
      "execution_count": null,
      "outputs": [
        {
          "output_type": "execute_result",
          "data": {
            "text/plain": [
              "array([1, 0, 0], dtype=int64)"
            ]
          },
          "metadata": {
            "tags": []
          },
          "execution_count": 48
        }
      ]
    },
    {
      "cell_type": "code",
      "metadata": {
        "colab": {
          "base_uri": "https://localhost:8080/",
          "height": 34
        },
        "id": "fFnOKTVxw5WX",
        "outputId": "ca159e50-743f-419c-e920-e942bb5867b7"
      },
      "source": [
        "tf.argmax(x, axis=1).numpy()"
      ],
      "execution_count": null,
      "outputs": [
        {
          "output_type": "execute_result",
          "data": {
            "text/plain": [
              "array([2, 0], dtype=int64)"
            ]
          },
          "metadata": {
            "tags": []
          },
          "execution_count": 49
        }
      ]
    },
    {
      "cell_type": "code",
      "metadata": {
        "colab": {
          "base_uri": "https://localhost:8080/",
          "height": 34
        },
        "id": "7sycX0A4w5WZ",
        "outputId": "d164d5d1-7f16-4ad1-dac4-da7ac0364d92"
      },
      "source": [
        "tf.argmax(x, axis=-1).numpy()"
      ],
      "execution_count": null,
      "outputs": [
        {
          "output_type": "execute_result",
          "data": {
            "text/plain": [
              "array([2, 0], dtype=int64)"
            ]
          },
          "metadata": {
            "tags": []
          },
          "execution_count": 50
        }
      ]
    },
    {
      "cell_type": "markdown",
      "metadata": {
        "id": "aizMh9qgw5Wb"
      },
      "source": [
        "## Reshape, squeeze, expand_dims"
      ]
    },
    {
      "cell_type": "code",
      "metadata": {
        "colab": {
          "base_uri": "https://localhost:8080/",
          "height": 34
        },
        "id": "FNfMfpGOw5Wb",
        "outputId": "9d33dfa1-afc0-47d8-8390-d9909a03f649"
      },
      "source": [
        "t = np.array([[[0, 1, 2], \n",
        "               [3, 4, 5]],\n",
        "              \n",
        "              [[6, 7, 8], \n",
        "               [9, 10, 11]]])\n",
        "t.shape"
      ],
      "execution_count": null,
      "outputs": [
        {
          "output_type": "execute_result",
          "data": {
            "text/plain": [
              "(2, 2, 3)"
            ]
          },
          "metadata": {
            "tags": []
          },
          "execution_count": 52
        }
      ]
    },
    {
      "cell_type": "code",
      "metadata": {
        "colab": {
          "base_uri": "https://localhost:8080/",
          "height": 84
        },
        "id": "0gky2aOvw5Wd",
        "outputId": "30a22e3f-0e74-434c-834e-f8f702ae78cb"
      },
      "source": [
        "tf.reshape(t, shape=[-1, 3]).numpy()"
      ],
      "execution_count": null,
      "outputs": [
        {
          "output_type": "execute_result",
          "data": {
            "text/plain": [
              "array([[ 0,  1,  2],\n",
              "       [ 3,  4,  5],\n",
              "       [ 6,  7,  8],\n",
              "       [ 9, 10, 11]])"
            ]
          },
          "metadata": {
            "tags": []
          },
          "execution_count": 53
        }
      ]
    },
    {
      "cell_type": "code",
      "metadata": {
        "colab": {
          "base_uri": "https://localhost:8080/",
          "height": 134
        },
        "id": "rkCRT9cXw5We",
        "outputId": "46265cdf-68d2-4738-c78d-90b3d2fc025d"
      },
      "source": [
        "tf.reshape(t, shape=[-1, 1, 3]).numpy()"
      ],
      "execution_count": null,
      "outputs": [
        {
          "output_type": "execute_result",
          "data": {
            "text/plain": [
              "array([[[ 0,  1,  2]],\n",
              "\n",
              "       [[ 3,  4,  5]],\n",
              "\n",
              "       [[ 6,  7,  8]],\n",
              "\n",
              "       [[ 9, 10, 11]]])"
            ]
          },
          "metadata": {
            "tags": []
          },
          "execution_count": 54
        }
      ]
    },
    {
      "cell_type": "code",
      "metadata": {
        "colab": {
          "base_uri": "https://localhost:8080/",
          "height": 67
        },
        "id": "9xQc48YNw5Wg",
        "outputId": "0e925b4f-bc19-470c-9934-5ff76f3a247d"
      },
      "source": [
        "a = np.array([[0], [1], [2]])\n",
        "print(a.shape)\n",
        "b = tf.squeeze(a)\n",
        "print(b.shape)\n",
        "b.numpy()"
      ],
      "execution_count": null,
      "outputs": [
        {
          "output_type": "stream",
          "text": [
            "(3, 1)\n",
            "(3,)\n"
          ],
          "name": "stdout"
        },
        {
          "output_type": "execute_result",
          "data": {
            "text/plain": [
              "array([0, 1, 2])"
            ]
          },
          "metadata": {
            "tags": []
          },
          "execution_count": 55
        }
      ]
    },
    {
      "cell_type": "code",
      "metadata": {
        "colab": {
          "base_uri": "https://localhost:8080/",
          "height": 84
        },
        "id": "guN7wAA72YsB",
        "outputId": "e0d84b7e-5ce3-4657-b93a-25b4db8a34fa"
      },
      "source": [
        "a = np.array([[[0, 1], [2, 3]]])\n",
        "print(a.shape)\n",
        "b = tf.squeeze(a)\n",
        "print(b.shape)\n",
        "b.numpy()"
      ],
      "execution_count": null,
      "outputs": [
        {
          "output_type": "stream",
          "text": [
            "(1, 2, 2)\n",
            "(2, 2)\n"
          ],
          "name": "stdout"
        },
        {
          "output_type": "execute_result",
          "data": {
            "text/plain": [
              "array([[0, 1],\n",
              "       [2, 3]])"
            ]
          },
          "metadata": {
            "tags": []
          },
          "execution_count": 51
        }
      ]
    },
    {
      "cell_type": "code",
      "metadata": {
        "colab": {
          "base_uri": "https://localhost:8080/",
          "height": 84
        },
        "id": "73cjSkMh2xiF",
        "outputId": "ff54b49e-6f3e-461c-8bd8-e89dedabc1da"
      },
      "source": [
        "a = np.array([[[0, 1]], [[2, 3]]])\n",
        "print(a.shape)\n",
        "b = tf.squeeze(a)\n",
        "print(b.shape)\n",
        "b.numpy()"
      ],
      "execution_count": null,
      "outputs": [
        {
          "output_type": "stream",
          "text": [
            "(2, 1, 2)\n",
            "(2, 2)\n"
          ],
          "name": "stdout"
        },
        {
          "output_type": "execute_result",
          "data": {
            "text/plain": [
              "array([[0, 1],\n",
              "       [2, 3]])"
            ]
          },
          "metadata": {
            "tags": []
          },
          "execution_count": 56
        }
      ]
    },
    {
      "cell_type": "code",
      "metadata": {
        "colab": {
          "base_uri": "https://localhost:8080/",
          "height": 67
        },
        "id": "ic2gfZQHw5Wh",
        "outputId": "f8a21911-4816-47cc-b086-981fbff17525"
      },
      "source": [
        "a = np.array([0, 1, 2])\n",
        "print(a.shape)\n",
        "b = tf.expand_dims(a, 0)\n",
        "print(b.shape)\n",
        "b.numpy()"
      ],
      "execution_count": null,
      "outputs": [
        {
          "output_type": "stream",
          "text": [
            "(3,)\n",
            "(1, 3)\n"
          ],
          "name": "stdout"
        },
        {
          "output_type": "execute_result",
          "data": {
            "text/plain": [
              "array([[0, 1, 2]])"
            ]
          },
          "metadata": {
            "tags": []
          },
          "execution_count": 57
        }
      ]
    },
    {
      "cell_type": "code",
      "metadata": {
        "colab": {
          "base_uri": "https://localhost:8080/",
          "height": 101
        },
        "id": "uZEOD7S33JD8",
        "outputId": "278411ac-a588-433f-f194-052c3dba83a1"
      },
      "source": [
        "a = np.array([0, 1, 2])\n",
        "print(a.shape)\n",
        "b = tf.expand_dims(a, 1)\n",
        "print(b.shape)\n",
        "b.numpy()"
      ],
      "execution_count": null,
      "outputs": [
        {
          "output_type": "stream",
          "text": [
            "(3,)\n",
            "(3, 1)\n"
          ],
          "name": "stdout"
        },
        {
          "output_type": "execute_result",
          "data": {
            "text/plain": [
              "array([[0],\n",
              "       [1],\n",
              "       [2]])"
            ]
          },
          "metadata": {
            "tags": []
          },
          "execution_count": 57
        }
      ]
    },
    {
      "cell_type": "markdown",
      "metadata": {
        "id": "s2atizPpw5Wj"
      },
      "source": [
        "## One hot"
      ]
    },
    {
      "cell_type": "code",
      "metadata": {
        "colab": {
          "base_uri": "https://localhost:8080/",
          "height": 134
        },
        "id": "gOEycKAgw5Wk",
        "outputId": "9e229f64-072a-47c4-9114-ed5a56e63987"
      },
      "source": [
        "# 차수가 하나 늘어나며, depth는 유형 종류의 수\n",
        "tf.one_hot([[0], [1], [2], [0]], depth=3).numpy()"
      ],
      "execution_count": null,
      "outputs": [
        {
          "output_type": "execute_result",
          "data": {
            "text/plain": [
              "array([[[1., 0., 0.]],\n",
              "\n",
              "       [[0., 1., 0.]],\n",
              "\n",
              "       [[0., 0., 1.]],\n",
              "\n",
              "       [[1., 0., 0.]]], dtype=float32)"
            ]
          },
          "metadata": {
            "tags": []
          },
          "execution_count": 61
        }
      ]
    },
    {
      "cell_type": "code",
      "metadata": {
        "colab": {
          "base_uri": "https://localhost:8080/",
          "height": 134
        },
        "id": "mgFtlber4-b7",
        "outputId": "97758091-afa8-406e-8461-b953fd63113a"
      },
      "source": [
        "tf.one_hot([[0], [1], [2], [0]], depth=4).numpy()"
      ],
      "execution_count": null,
      "outputs": [
        {
          "output_type": "execute_result",
          "data": {
            "text/plain": [
              "array([[[1., 0., 0., 0.]],\n",
              "\n",
              "       [[0., 1., 0., 0.]],\n",
              "\n",
              "       [[0., 0., 1., 0.]],\n",
              "\n",
              "       [[1., 0., 0., 0.]]], dtype=float32)"
            ]
          },
          "metadata": {
            "tags": []
          },
          "execution_count": 62
        }
      ]
    },
    {
      "cell_type": "code",
      "metadata": {
        "colab": {
          "base_uri": "https://localhost:8080/",
          "height": 134
        },
        "id": "Y4QLKLul5A3j",
        "outputId": "45780761-3be4-4d21-8496-e692e3f18ee2"
      },
      "source": [
        "tf.one_hot([[0], [1], [2], [0]], depth=5).numpy()"
      ],
      "execution_count": null,
      "outputs": [
        {
          "output_type": "execute_result",
          "data": {
            "text/plain": [
              "array([[[1., 0., 0., 0., 0.]],\n",
              "\n",
              "       [[0., 1., 0., 0., 0.]],\n",
              "\n",
              "       [[0., 0., 1., 0., 0.]],\n",
              "\n",
              "       [[1., 0., 0., 0., 0.]]], dtype=float32)"
            ]
          },
          "metadata": {
            "tags": []
          },
          "execution_count": 63
        }
      ]
    },
    {
      "cell_type": "code",
      "metadata": {
        "colab": {
          "base_uri": "https://localhost:8080/",
          "height": 202
        },
        "id": "TsHgYhvfw5Wl",
        "outputId": "9e31a9e3-195f-4c11-c554-73a619deb39c"
      },
      "source": [
        "t = tf.one_hot([[0], [1], [2], [0]], depth=3)\n",
        "print(t.numpy())\n",
        "tf.reshape(t, shape=[-1, 3]).numpy()"
      ],
      "execution_count": null,
      "outputs": [
        {
          "output_type": "stream",
          "text": [
            "[[[1. 0. 0.]]\n",
            "\n",
            " [[0. 1. 0.]]\n",
            "\n",
            " [[0. 0. 1.]]\n",
            "\n",
            " [[1. 0. 0.]]]\n"
          ],
          "name": "stdout"
        },
        {
          "output_type": "execute_result",
          "data": {
            "text/plain": [
              "array([[1., 0., 0.],\n",
              "       [0., 1., 0.],\n",
              "       [0., 0., 1.],\n",
              "       [1., 0., 0.]], dtype=float32)"
            ]
          },
          "metadata": {
            "tags": []
          },
          "execution_count": 64
        }
      ]
    },
    {
      "cell_type": "markdown",
      "metadata": {
        "id": "j_n9H3xw_D63"
      },
      "source": [
        "문제"
      ]
    },
    {
      "cell_type": "code",
      "metadata": {
        "colab": {
          "base_uri": "https://localhost:8080/"
        },
        "id": "bRk73Z2Y_C3O",
        "outputId": "81ded7ee-c2a9-4bf0-b20d-002d975764d1"
      },
      "source": [
        "# 차수가 하나 늘어나며, depth는 유형 종류의 수\n",
        "tf.one_hot([[0], [1], [2], [0]], depth=3).numpy()[2]"
      ],
      "execution_count": null,
      "outputs": [
        {
          "output_type": "execute_result",
          "data": {
            "text/plain": [
              "array([[0., 0., 1.]], dtype=float32)"
            ]
          },
          "metadata": {
            "tags": []
          },
          "execution_count": 22
        }
      ]
    },
    {
      "cell_type": "markdown",
      "metadata": {
        "id": "qEGZfgOyw5Wn"
      },
      "source": [
        "## casting"
      ]
    },
    {
      "cell_type": "code",
      "metadata": {
        "colab": {
          "base_uri": "https://localhost:8080/",
          "height": 34
        },
        "id": "fWUJycEPw5Wn",
        "outputId": "8db13006-7935-425a-c3b5-24d064e3788c"
      },
      "source": [
        "tf.cast([1.8, 2.2, 3.3, 4.9], tf.int32).numpy()"
      ],
      "execution_count": null,
      "outputs": [
        {
          "output_type": "execute_result",
          "data": {
            "text/plain": [
              "array([1, 2, 3, 4])"
            ]
          },
          "metadata": {
            "tags": []
          },
          "execution_count": 65
        }
      ]
    },
    {
      "cell_type": "code",
      "metadata": {
        "colab": {
          "base_uri": "https://localhost:8080/",
          "height": 34
        },
        "id": "jJWkYRh3w5Wq",
        "outputId": "25d65f39-4da6-4dab-ddcb-ba7b80242b13"
      },
      "source": [
        "tf.cast([True, False, 1 == 1, 0 == 1], tf.int32).numpy()"
      ],
      "execution_count": null,
      "outputs": [
        {
          "output_type": "execute_result",
          "data": {
            "text/plain": [
              "array([1, 0, 1, 0])"
            ]
          },
          "metadata": {
            "tags": []
          },
          "execution_count": 66
        }
      ]
    },
    {
      "cell_type": "markdown",
      "metadata": {
        "id": "MX-Vy7oww5Ws"
      },
      "source": [
        "## Stack"
      ]
    },
    {
      "cell_type": "code",
      "metadata": {
        "colab": {
          "base_uri": "https://localhost:8080/",
          "height": 67
        },
        "id": "tZsNXyIMw5Ws",
        "outputId": "09f73ced-54de-4627-8188-c82ce900537b"
      },
      "source": [
        "x = [1, 4]\n",
        "y = [2, 5]\n",
        "z = [3, 6]\n",
        "\n",
        "# Pack along first dim.\n",
        "tf.stack([x, y, z]).numpy()"
      ],
      "execution_count": null,
      "outputs": [
        {
          "output_type": "execute_result",
          "data": {
            "text/plain": [
              "array([[1, 4],\n",
              "       [2, 5],\n",
              "       [3, 6]], dtype=int32)"
            ]
          },
          "metadata": {
            "tags": []
          },
          "execution_count": 73
        }
      ]
    },
    {
      "cell_type": "code",
      "metadata": {
        "colab": {
          "base_uri": "https://localhost:8080/",
          "height": 50
        },
        "id": "BBy88Jk_w5Wu",
        "outputId": "cc9105b8-5bb8-466a-dbf4-ca80b28f396c"
      },
      "source": [
        "tf.stack([x, y, z], axis=1).numpy()"
      ],
      "execution_count": null,
      "outputs": [
        {
          "output_type": "execute_result",
          "data": {
            "text/plain": [
              "array([[1, 2, 3],\n",
              "       [4, 5, 6]], dtype=int32)"
            ]
          },
          "metadata": {
            "tags": []
          },
          "execution_count": 74
        }
      ]
    },
    {
      "cell_type": "markdown",
      "metadata": {
        "id": "rNv3NeeVw5Wv"
      },
      "source": [
        "## Ones like and Zeros like"
      ]
    },
    {
      "cell_type": "code",
      "metadata": {
        "colab": {
          "base_uri": "https://localhost:8080/",
          "height": 50
        },
        "id": "hRA8OSDDw5Ww",
        "outputId": "a2f0605a-4773-4ee3-fbba-810cbcdbc943"
      },
      "source": [
        "x = [[0, 1, 2],\n",
        "     [2, 1, 0]]\n",
        "\n",
        "tf.ones_like(x).numpy()"
      ],
      "execution_count": null,
      "outputs": [
        {
          "output_type": "execute_result",
          "data": {
            "text/plain": [
              "array([[1, 1, 1],\n",
              "       [1, 1, 1]], dtype=int32)"
            ]
          },
          "metadata": {
            "tags": []
          },
          "execution_count": 75
        }
      ]
    },
    {
      "cell_type": "code",
      "metadata": {
        "colab": {
          "base_uri": "https://localhost:8080/",
          "height": 50
        },
        "id": "MpFW6fUTw5Wy",
        "outputId": "4b1a3bf5-9c58-4537-9cc8-1d35399aa95b"
      },
      "source": [
        "tf.zeros_like(x).numpy()"
      ],
      "execution_count": null,
      "outputs": [
        {
          "output_type": "execute_result",
          "data": {
            "text/plain": [
              "array([[0, 0, 0],\n",
              "       [0, 0, 0]], dtype=int32)"
            ]
          },
          "metadata": {
            "tags": []
          },
          "execution_count": 76
        }
      ]
    },
    {
      "cell_type": "markdown",
      "metadata": {
        "id": "DUgxOhfiw5W1"
      },
      "source": [
        "## Zip\n"
      ]
    },
    {
      "cell_type": "code",
      "metadata": {
        "colab": {
          "base_uri": "https://localhost:8080/",
          "height": 67
        },
        "id": "exBsY-Puw5W1",
        "outputId": "f1265490-783a-4fa2-b1fd-08f5f10ca9d7"
      },
      "source": [
        "for x, y in zip([1, 2, 3], [4, 5, 6]):\n",
        "    print(x, y)"
      ],
      "execution_count": null,
      "outputs": [
        {
          "output_type": "stream",
          "text": [
            "1 4\n",
            "2 5\n",
            "3 6\n"
          ],
          "name": "stdout"
        }
      ]
    },
    {
      "cell_type": "code",
      "metadata": {
        "colab": {
          "base_uri": "https://localhost:8080/",
          "height": 67
        },
        "id": "D8L-LI9uw5W3",
        "outputId": "31df04a0-1ed2-415c-cdc4-096114d71fd5"
      },
      "source": [
        "for x, y, z in zip([1, 2, 3], [4, 5, 6], [7, 8, 9]):\n",
        "    print(x, y, z)"
      ],
      "execution_count": null,
      "outputs": [
        {
          "output_type": "stream",
          "text": [
            "1 4 7\n",
            "2 5 8\n",
            "3 6 9\n"
          ],
          "name": "stdout"
        }
      ]
    },
    {
      "cell_type": "markdown",
      "metadata": {
        "id": "I50POsY8w5W5"
      },
      "source": [
        "## Transpose"
      ]
    },
    {
      "cell_type": "code",
      "metadata": {
        "colab": {
          "base_uri": "https://localhost:8080/",
          "height": 118
        },
        "id": "VzloYp-Zw5W5",
        "outputId": "8e683a05-5c89-452c-95e0-fb2fe745d24d"
      },
      "source": [
        "t = np.array([[[0, 1, 2], [3, 4, 5]], [[6, 7, 8], [9, 10, 11]]])\n",
        "pp.pprint(t.shape)\n",
        "pp.pprint(t)"
      ],
      "execution_count": null,
      "outputs": [
        {
          "output_type": "stream",
          "text": [
            "(2, 2, 3)\n",
            "array([[[ 0,  1,  2],\n",
            "        [ 3,  4,  5]],\n",
            "\n",
            "       [[ 6,  7,  8],\n",
            "        [ 9, 10, 11]]])\n"
          ],
          "name": "stdout"
        }
      ]
    },
    {
      "cell_type": "code",
      "metadata": {
        "colab": {
          "base_uri": "https://localhost:8080/",
          "height": 134
        },
        "id": "1A1-5GL-w5W7",
        "outputId": "03c65279-68eb-497b-8015-0af124bc0dd3"
      },
      "source": [
        "t1 = tf.transpose(t, [0, 1, 2])\n",
        "pp.pprint(t1.shape)\n",
        "pp.pprint(t1)"
      ],
      "execution_count": null,
      "outputs": [
        {
          "output_type": "stream",
          "text": [
            "TensorShape([2, 2, 3])\n",
            "<tf.Tensor: shape=(2, 2, 3), dtype=int32, numpy=\n",
            "array([[[ 0,  1,  2],\n",
            "        [ 3,  4,  5]],\n",
            "\n",
            "       [[ 6,  7,  8],\n",
            "        [ 9, 10, 11]]])>\n"
          ],
          "name": "stdout"
        }
      ]
    },
    {
      "cell_type": "code",
      "metadata": {
        "colab": {
          "base_uri": "https://localhost:8080/",
          "height": 168
        },
        "id": "MMmIL8MSw5W9",
        "outputId": "e16e5d95-692b-49a3-dedd-adbdfd09ed03"
      },
      "source": [
        "t1 = tf.transpose(t, [0, 2, 1])\n",
        "pp.pprint(t1.shape)\n",
        "pp.pprint(t1)"
      ],
      "execution_count": null,
      "outputs": [
        {
          "output_type": "stream",
          "text": [
            "TensorShape([2, 3, 2])\n",
            "<tf.Tensor: shape=(2, 3, 2), dtype=int64, numpy=\n",
            "array([[[ 0,  3],\n",
            "        [ 1,  4],\n",
            "        [ 2,  5]],\n",
            "\n",
            "       [[ 6,  9],\n",
            "        [ 7, 10],\n",
            "        [ 8, 11]]])>\n"
          ],
          "name": "stdout"
        }
      ]
    },
    {
      "cell_type": "code",
      "metadata": {
        "colab": {
          "base_uri": "https://localhost:8080/",
          "height": 134
        },
        "id": "7JhBbOkmw5W_",
        "outputId": "18e8f076-fa47-45c9-990b-77322e6f81ff"
      },
      "source": [
        "t1 = tf.transpose(t, [1, 0, 2])\n",
        "pp.pprint(t1.shape)\n",
        "pp.pprint(t1)"
      ],
      "execution_count": null,
      "outputs": [
        {
          "output_type": "stream",
          "text": [
            "TensorShape([2, 2, 3])\n",
            "<tf.Tensor: shape=(2, 2, 3), dtype=int32, numpy=\n",
            "array([[[ 0,  1,  2],\n",
            "        [ 6,  7,  8]],\n",
            "\n",
            "       [[ 3,  4,  5],\n",
            "        [ 9, 10, 11]]])>\n"
          ],
          "name": "stdout"
        }
      ]
    },
    {
      "cell_type": "code",
      "metadata": {
        "colab": {
          "base_uri": "https://localhost:8080/",
          "height": 168
        },
        "id": "S601Y4rbw5XB",
        "outputId": "810566af-8812-4076-b9da-63946e088faa"
      },
      "source": [
        "t1 = tf.transpose(t, [1, 2, 0])\n",
        "pp.pprint(t1.shape)\n",
        "pp.pprint(t1)"
      ],
      "execution_count": null,
      "outputs": [
        {
          "output_type": "stream",
          "text": [
            "TensorShape([2, 3, 2])\n",
            "<tf.Tensor: shape=(2, 3, 2), dtype=int32, numpy=\n",
            "array([[[ 0,  6],\n",
            "        [ 1,  7],\n",
            "        [ 2,  8]],\n",
            "\n",
            "       [[ 3,  9],\n",
            "        [ 4, 10],\n",
            "        [ 5, 11]]])>\n"
          ],
          "name": "stdout"
        }
      ]
    },
    {
      "cell_type": "code",
      "metadata": {
        "colab": {
          "base_uri": "https://localhost:8080/",
          "height": 185
        },
        "id": "8ellSL2L7Ukj",
        "outputId": "3387dcee-a36b-4358-e25d-ab7555aead24"
      },
      "source": [
        "t1 = tf.transpose(t, [2, 0, 1])\n",
        "pp.pprint(t1.shape)\n",
        "pp.pprint(t1)"
      ],
      "execution_count": null,
      "outputs": [
        {
          "output_type": "stream",
          "text": [
            "TensorShape([3, 2, 2])\n",
            "<tf.Tensor: shape=(3, 2, 2), dtype=int32, numpy=\n",
            "array([[[ 0,  3],\n",
            "        [ 6,  9]],\n",
            "\n",
            "       [[ 1,  4],\n",
            "        [ 7, 10]],\n",
            "\n",
            "       [[ 2,  5],\n",
            "        [ 8, 11]]])>\n"
          ],
          "name": "stdout"
        }
      ]
    },
    {
      "cell_type": "code",
      "metadata": {
        "colab": {
          "base_uri": "https://localhost:8080/",
          "height": 185
        },
        "id": "5DQPwgp87U5K",
        "outputId": "d924702e-c0b8-46e5-fe20-b8c2d4e47bb5"
      },
      "source": [
        "t1 = tf.transpose(t, [2, 1, 0])\n",
        "pp.pprint(t1.shape)\n",
        "pp.pprint(t1)"
      ],
      "execution_count": null,
      "outputs": [
        {
          "output_type": "stream",
          "text": [
            "TensorShape([3, 2, 2])\n",
            "<tf.Tensor: shape=(3, 2, 2), dtype=int32, numpy=\n",
            "array([[[ 0,  6],\n",
            "        [ 3,  9]],\n",
            "\n",
            "       [[ 1,  7],\n",
            "        [ 4, 10]],\n",
            "\n",
            "       [[ 2,  8],\n",
            "        [ 5, 11]]])>\n"
          ],
          "name": "stdout"
        }
      ]
    },
    {
      "cell_type": "code",
      "metadata": {
        "id": "HdVPWYUD7IZO"
      },
      "source": [
        ""
      ],
      "execution_count": null,
      "outputs": []
    }
  ]
}