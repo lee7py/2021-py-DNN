{
  "nbformat": 4,
  "nbformat_minor": 0,
  "metadata": {
    "colab": {
      "name": "2-3 mydnn_3.1_pandas_dataframe.ipynb",
      "provenance": [],
      "collapsed_sections": [],
      "include_colab_link": true
    },
    "kernelspec": {
      "name": "python3",
      "display_name": "Python 3"
    }
  },
  "cells": [
    {
      "cell_type": "markdown",
      "metadata": {
        "id": "view-in-github",
        "colab_type": "text"
      },
      "source": [
        "<a href=\"https://colab.research.google.com/github/lee7py/2021-py-DNN/blob/main/code/2-3%20mydnn_3_1_pandas_dataframe.ipynb\" target=\"_parent\"><img src=\"https://colab.research.google.com/assets/colab-badge.svg\" alt=\"Open In Colab\"/></a>"
      ]
    },
    {
      "cell_type": "markdown",
      "metadata": {
        "id": "dKt-2GJ2JaL7"
      },
      "source": [
        "- pandas 라이브러리 불러오기"
      ]
    },
    {
      "cell_type": "code",
      "metadata": {
        "id": "S95cMTUE9hGm",
        "colab": {
          "base_uri": "https://localhost:8080/"
        },
        "outputId": "6ed5c450-e043-44a8-87e0-dcaa5a3febd7"
      },
      "source": [
        "import pandas as pd\n",
        "print(pd.__version__)"
      ],
      "execution_count": null,
      "outputs": [
        {
          "output_type": "stream",
          "text": [
            "1.1.5\n"
          ],
          "name": "stdout"
        }
      ]
    },
    {
      "cell_type": "markdown",
      "metadata": {
        "id": "i-wB6Hrp_kbR"
      },
      "source": [
        "- 문자열을 원소로 갖는 1차원 배열 - 리스트"
      ]
    },
    {
      "cell_type": "code",
      "metadata": {
        "id": "mb5z2suo9hKG",
        "colab": {
          "base_uri": "https://localhost:8080/"
        },
        "outputId": "07e9a08f-ee28-4c03-f10b-cb754e2a8b20"
      },
      "source": [
        "data1 = ['a', 'b', 'c', 'd', 'e']\n",
        "print(data1)\n",
        "print(\"자료형: \", type(data1))"
      ],
      "execution_count": null,
      "outputs": [
        {
          "output_type": "stream",
          "text": [
            "['a', 'b', 'c', 'd', 'e']\n",
            "자료형:  <class 'list'>\n"
          ],
          "name": "stdout"
        }
      ]
    },
    {
      "cell_type": "markdown",
      "metadata": {
        "id": "uqj0CiNs_rns"
      },
      "source": [
        "- 리스트를 판다스 시리즈로 변환"
      ]
    },
    {
      "cell_type": "code",
      "metadata": {
        "id": "icc-vQYL-Tnf",
        "colab": {
          "base_uri": "https://localhost:8080/"
        },
        "outputId": "f2c8e5ef-16b3-4b9d-bd15-eab4115649f1"
      },
      "source": [
        "sr1 = pd.Series(data1)\n",
        "print(\"자료형: \", type(sr1))"
      ],
      "execution_count": null,
      "outputs": [
        {
          "output_type": "stream",
          "text": [
            "자료형:  <class 'pandas.core.series.Series'>\n"
          ],
          "name": "stdout"
        }
      ]
    },
    {
      "cell_type": "code",
      "metadata": {
        "id": "rRFrN-et_3Sr",
        "colab": {
          "base_uri": "https://localhost:8080/"
        },
        "outputId": "cf877d0e-1d01-4822-8ac0-64cc2907296e"
      },
      "source": [
        "print(sr1)"
      ],
      "execution_count": null,
      "outputs": [
        {
          "output_type": "stream",
          "text": [
            "0    a\n",
            "1    b\n",
            "2    c\n",
            "3    d\n",
            "4    e\n",
            "dtype: object\n"
          ],
          "name": "stdout"
        }
      ]
    },
    {
      "cell_type": "code",
      "metadata": {
        "id": "r7k5Ire0Fjvb",
        "colab": {
          "base_uri": "https://localhost:8080/",
          "height": 35
        },
        "outputId": "f65bec9d-5184-4a01-d512-69a01d960ed3"
      },
      "source": [
        "sr1.loc[0]"
      ],
      "execution_count": null,
      "outputs": [
        {
          "output_type": "execute_result",
          "data": {
            "application/vnd.google.colaboratory.intrinsic+json": {
              "type": "string"
            },
            "text/plain": [
              "'a'"
            ]
          },
          "metadata": {
            "tags": []
          },
          "execution_count": 5
        }
      ]
    },
    {
      "cell_type": "code",
      "metadata": {
        "id": "ZTr1nC6oG8Ti",
        "colab": {
          "base_uri": "https://localhost:8080/"
        },
        "outputId": "8c44e3b7-54a3-42a3-c8ae-633233708f8a"
      },
      "source": [
        "sr1.loc[1:3]"
      ],
      "execution_count": null,
      "outputs": [
        {
          "output_type": "execute_result",
          "data": {
            "text/plain": [
              "1    b\n",
              "2    c\n",
              "3    d\n",
              "dtype: object"
            ]
          },
          "metadata": {
            "tags": []
          },
          "execution_count": 6
        }
      ]
    },
    {
      "cell_type": "markdown",
      "metadata": {
        "id": "nYOem-4H_mPY"
      },
      "source": [
        "- 투플을 판다스 시리즈로 변환"
      ]
    },
    {
      "cell_type": "code",
      "metadata": {
        "id": "egD69Vac9_8m",
        "colab": {
          "base_uri": "https://localhost:8080/"
        },
        "outputId": "10857041-9128-4fcc-a2f1-24856336fc86"
      },
      "source": [
        "data2 = (1, 2, 3.14, 100, -10)\n",
        "sr2 = pd.Series(data2)\n",
        "print(sr2)"
      ],
      "execution_count": null,
      "outputs": [
        {
          "output_type": "stream",
          "text": [
            "0      1.00\n",
            "1      2.00\n",
            "2      3.14\n",
            "3    100.00\n",
            "4    -10.00\n",
            "dtype: float64\n"
          ],
          "name": "stdout"
        }
      ]
    },
    {
      "cell_type": "markdown",
      "metadata": {
        "id": "MrVPWqbWAQ3n"
      },
      "source": [
        "- 시리즈를 결합하여 데이터프레임으로 변환"
      ]
    },
    {
      "cell_type": "code",
      "metadata": {
        "id": "b4vcBb_4A1y7",
        "colab": {
          "base_uri": "https://localhost:8080/",
          "height": 205
        },
        "outputId": "9f862c20-623c-4393-a96a-dc204dd4d442"
      },
      "source": [
        "dict_data = {'c0':sr1, 'c1':sr2} \n",
        "df1 = pd.DataFrame(dict_data)  \n",
        "df1"
      ],
      "execution_count": null,
      "outputs": [
        {
          "output_type": "execute_result",
          "data": {
            "text/html": [
              "<div>\n",
              "<style scoped>\n",
              "    .dataframe tbody tr th:only-of-type {\n",
              "        vertical-align: middle;\n",
              "    }\n",
              "\n",
              "    .dataframe tbody tr th {\n",
              "        vertical-align: top;\n",
              "    }\n",
              "\n",
              "    .dataframe thead th {\n",
              "        text-align: right;\n",
              "    }\n",
              "</style>\n",
              "<table border=\"1\" class=\"dataframe\">\n",
              "  <thead>\n",
              "    <tr style=\"text-align: right;\">\n",
              "      <th></th>\n",
              "      <th>c0</th>\n",
              "      <th>c1</th>\n",
              "    </tr>\n",
              "  </thead>\n",
              "  <tbody>\n",
              "    <tr>\n",
              "      <th>0</th>\n",
              "      <td>a</td>\n",
              "      <td>1.00</td>\n",
              "    </tr>\n",
              "    <tr>\n",
              "      <th>1</th>\n",
              "      <td>b</td>\n",
              "      <td>2.00</td>\n",
              "    </tr>\n",
              "    <tr>\n",
              "      <th>2</th>\n",
              "      <td>c</td>\n",
              "      <td>3.14</td>\n",
              "    </tr>\n",
              "    <tr>\n",
              "      <th>3</th>\n",
              "      <td>d</td>\n",
              "      <td>100.00</td>\n",
              "    </tr>\n",
              "    <tr>\n",
              "      <th>4</th>\n",
              "      <td>e</td>\n",
              "      <td>-10.00</td>\n",
              "    </tr>\n",
              "  </tbody>\n",
              "</table>\n",
              "</div>"
            ],
            "text/plain": [
              "  c0      c1\n",
              "0  a    1.00\n",
              "1  b    2.00\n",
              "2  c    3.14\n",
              "3  d  100.00\n",
              "4  e  -10.00"
            ]
          },
          "metadata": {
            "tags": []
          },
          "execution_count": 8
        }
      ]
    },
    {
      "cell_type": "code",
      "metadata": {
        "id": "ePv5QsIwASUM",
        "colab": {
          "base_uri": "https://localhost:8080/"
        },
        "outputId": "1efa1c57-d108-44c8-f917-7e0037df34c2"
      },
      "source": [
        "type(df1)"
      ],
      "execution_count": null,
      "outputs": [
        {
          "output_type": "execute_result",
          "data": {
            "text/plain": [
              "pandas.core.frame.DataFrame"
            ]
          },
          "metadata": {
            "tags": []
          },
          "execution_count": 9
        }
      ]
    },
    {
      "cell_type": "markdown",
      "metadata": {
        "id": "qAvBarZSAM3S"
      },
      "source": [
        "- 데이터프레임의 열(column)"
      ]
    },
    {
      "cell_type": "code",
      "metadata": {
        "id": "z4seu0Re9hTX",
        "colab": {
          "base_uri": "https://localhost:8080/"
        },
        "outputId": "57de249a-e61e-4326-cec6-fdf45aa32ca6"
      },
      "source": [
        "df1.columns\n"
      ],
      "execution_count": null,
      "outputs": [
        {
          "output_type": "execute_result",
          "data": {
            "text/plain": [
              "Index(['c0', 'c1'], dtype='object')"
            ]
          },
          "metadata": {
            "tags": []
          },
          "execution_count": 10
        }
      ]
    },
    {
      "cell_type": "code",
      "metadata": {
        "id": "15hPQe2b9hQU",
        "colab": {
          "base_uri": "https://localhost:8080/",
          "height": 205
        },
        "outputId": "434a98d7-5c29-4446-f048-e7591a9bcc37"
      },
      "source": [
        "df1.columns = ['string', 'number']\n",
        "df1"
      ],
      "execution_count": null,
      "outputs": [
        {
          "output_type": "execute_result",
          "data": {
            "text/html": [
              "<div>\n",
              "<style scoped>\n",
              "    .dataframe tbody tr th:only-of-type {\n",
              "        vertical-align: middle;\n",
              "    }\n",
              "\n",
              "    .dataframe tbody tr th {\n",
              "        vertical-align: top;\n",
              "    }\n",
              "\n",
              "    .dataframe thead th {\n",
              "        text-align: right;\n",
              "    }\n",
              "</style>\n",
              "<table border=\"1\" class=\"dataframe\">\n",
              "  <thead>\n",
              "    <tr style=\"text-align: right;\">\n",
              "      <th></th>\n",
              "      <th>string</th>\n",
              "      <th>number</th>\n",
              "    </tr>\n",
              "  </thead>\n",
              "  <tbody>\n",
              "    <tr>\n",
              "      <th>0</th>\n",
              "      <td>a</td>\n",
              "      <td>1.00</td>\n",
              "    </tr>\n",
              "    <tr>\n",
              "      <th>1</th>\n",
              "      <td>b</td>\n",
              "      <td>2.00</td>\n",
              "    </tr>\n",
              "    <tr>\n",
              "      <th>2</th>\n",
              "      <td>c</td>\n",
              "      <td>3.14</td>\n",
              "    </tr>\n",
              "    <tr>\n",
              "      <th>3</th>\n",
              "      <td>d</td>\n",
              "      <td>100.00</td>\n",
              "    </tr>\n",
              "    <tr>\n",
              "      <th>4</th>\n",
              "      <td>e</td>\n",
              "      <td>-10.00</td>\n",
              "    </tr>\n",
              "  </tbody>\n",
              "</table>\n",
              "</div>"
            ],
            "text/plain": [
              "  string  number\n",
              "0      a    1.00\n",
              "1      b    2.00\n",
              "2      c    3.14\n",
              "3      d  100.00\n",
              "4      e  -10.00"
            ]
          },
          "metadata": {
            "tags": []
          },
          "execution_count": 11
        }
      ]
    },
    {
      "cell_type": "markdown",
      "metadata": {
        "id": "duqThg_TBab1"
      },
      "source": [
        "- 데이터프레임의 행 인덱스(row index)"
      ]
    },
    {
      "cell_type": "code",
      "metadata": {
        "id": "1HcJLnzw9hO7",
        "colab": {
          "base_uri": "https://localhost:8080/"
        },
        "outputId": "1802776f-f3f9-4a23-efc8-1e9f26090f52"
      },
      "source": [
        "df1.index"
      ],
      "execution_count": null,
      "outputs": [
        {
          "output_type": "execute_result",
          "data": {
            "text/plain": [
              "RangeIndex(start=0, stop=5, step=1)"
            ]
          },
          "metadata": {
            "tags": []
          },
          "execution_count": 12
        }
      ]
    },
    {
      "cell_type": "code",
      "metadata": {
        "id": "woSDhiB3BfT7",
        "colab": {
          "base_uri": "https://localhost:8080/",
          "height": 205
        },
        "outputId": "6ffa0456-1fda-4c34-8a38-b1a83f9bee60"
      },
      "source": [
        "df1.index = ['r0', 'r1', 'r2', 'r3', 'r4']\n",
        "df1"
      ],
      "execution_count": null,
      "outputs": [
        {
          "output_type": "execute_result",
          "data": {
            "text/html": [
              "<div>\n",
              "<style scoped>\n",
              "    .dataframe tbody tr th:only-of-type {\n",
              "        vertical-align: middle;\n",
              "    }\n",
              "\n",
              "    .dataframe tbody tr th {\n",
              "        vertical-align: top;\n",
              "    }\n",
              "\n",
              "    .dataframe thead th {\n",
              "        text-align: right;\n",
              "    }\n",
              "</style>\n",
              "<table border=\"1\" class=\"dataframe\">\n",
              "  <thead>\n",
              "    <tr style=\"text-align: right;\">\n",
              "      <th></th>\n",
              "      <th>string</th>\n",
              "      <th>number</th>\n",
              "    </tr>\n",
              "  </thead>\n",
              "  <tbody>\n",
              "    <tr>\n",
              "      <th>r0</th>\n",
              "      <td>a</td>\n",
              "      <td>1.00</td>\n",
              "    </tr>\n",
              "    <tr>\n",
              "      <th>r1</th>\n",
              "      <td>b</td>\n",
              "      <td>2.00</td>\n",
              "    </tr>\n",
              "    <tr>\n",
              "      <th>r2</th>\n",
              "      <td>c</td>\n",
              "      <td>3.14</td>\n",
              "    </tr>\n",
              "    <tr>\n",
              "      <th>r3</th>\n",
              "      <td>d</td>\n",
              "      <td>100.00</td>\n",
              "    </tr>\n",
              "    <tr>\n",
              "      <th>r4</th>\n",
              "      <td>e</td>\n",
              "      <td>-10.00</td>\n",
              "    </tr>\n",
              "  </tbody>\n",
              "</table>\n",
              "</div>"
            ],
            "text/plain": [
              "   string  number\n",
              "r0      a    1.00\n",
              "r1      b    2.00\n",
              "r2      c    3.14\n",
              "r3      d  100.00\n",
              "r4      e  -10.00"
            ]
          },
          "metadata": {
            "tags": []
          },
          "execution_count": 13
        }
      ]
    },
    {
      "cell_type": "markdown",
      "metadata": {
        "id": "V-95SemHMsgH"
      },
      "source": [
        "- 데이터프레임의 원소 선택"
      ]
    },
    {
      "cell_type": "code",
      "metadata": {
        "id": "3kN4R6LPL9ru",
        "colab": {
          "base_uri": "https://localhost:8080/"
        },
        "outputId": "8834c6d6-d9d8-44c4-dfff-0c56f0c55d33"
      },
      "source": [
        "df1.loc['r2', 'number']"
      ],
      "execution_count": null,
      "outputs": [
        {
          "output_type": "execute_result",
          "data": {
            "text/plain": [
              "3.14"
            ]
          },
          "metadata": {
            "tags": []
          },
          "execution_count": 14
        }
      ]
    },
    {
      "cell_type": "markdown",
      "metadata": {
        "id": "VZ6LIxOUM0ks"
      },
      "source": [
        "- 데이터프레임의 부분 추출"
      ]
    },
    {
      "cell_type": "code",
      "metadata": {
        "id": "q1w7s9O8MzUV",
        "colab": {
          "base_uri": "https://localhost:8080/",
          "height": 111
        },
        "outputId": "63e76beb-c145-4f29-c56c-c32e0f7cb539"
      },
      "source": [
        "df1.loc['r2':'r3', 'string':'number']"
      ],
      "execution_count": null,
      "outputs": [
        {
          "output_type": "execute_result",
          "data": {
            "text/html": [
              "<div>\n",
              "<style scoped>\n",
              "    .dataframe tbody tr th:only-of-type {\n",
              "        vertical-align: middle;\n",
              "    }\n",
              "\n",
              "    .dataframe tbody tr th {\n",
              "        vertical-align: top;\n",
              "    }\n",
              "\n",
              "    .dataframe thead th {\n",
              "        text-align: right;\n",
              "    }\n",
              "</style>\n",
              "<table border=\"1\" class=\"dataframe\">\n",
              "  <thead>\n",
              "    <tr style=\"text-align: right;\">\n",
              "      <th></th>\n",
              "      <th>string</th>\n",
              "      <th>number</th>\n",
              "    </tr>\n",
              "  </thead>\n",
              "  <tbody>\n",
              "    <tr>\n",
              "      <th>r2</th>\n",
              "      <td>c</td>\n",
              "      <td>3.14</td>\n",
              "    </tr>\n",
              "    <tr>\n",
              "      <th>r3</th>\n",
              "      <td>d</td>\n",
              "      <td>100.00</td>\n",
              "    </tr>\n",
              "  </tbody>\n",
              "</table>\n",
              "</div>"
            ],
            "text/plain": [
              "   string  number\n",
              "r2      c    3.14\n",
              "r3      d  100.00"
            ]
          },
          "metadata": {
            "tags": []
          },
          "execution_count": 15
        }
      ]
    },
    {
      "cell_type": "code",
      "metadata": {
        "id": "sh_OP4LiNBU1",
        "colab": {
          "base_uri": "https://localhost:8080/"
        },
        "outputId": "f44ce003-5af4-40bb-f753-302440f95314"
      },
      "source": [
        "df1.loc['r2':'r3', 'number']"
      ],
      "execution_count": null,
      "outputs": [
        {
          "output_type": "execute_result",
          "data": {
            "text/plain": [
              "r2      3.14\n",
              "r3    100.00\n",
              "Name: number, dtype: float64"
            ]
          },
          "metadata": {
            "tags": []
          },
          "execution_count": 16
        }
      ]
    },
    {
      "cell_type": "code",
      "metadata": {
        "id": "5l2lHx6YNEtl",
        "colab": {
          "base_uri": "https://localhost:8080/"
        },
        "outputId": "ff001236-8eab-4d42-aac5-c109c58f9da0"
      },
      "source": [
        "df1.loc['r2', 'string':'number']"
      ],
      "execution_count": null,
      "outputs": [
        {
          "output_type": "execute_result",
          "data": {
            "text/plain": [
              "string       c\n",
              "number    3.14\n",
              "Name: r2, dtype: object"
            ]
          },
          "metadata": {
            "tags": []
          },
          "execution_count": 17
        }
      ]
    },
    {
      "cell_type": "code",
      "metadata": {
        "id": "V2WWU0P9NILl",
        "colab": {
          "base_uri": "https://localhost:8080/"
        },
        "outputId": "32249bad-44ff-4bbd-a6db-a9440e0acb99"
      },
      "source": [
        "df1.loc[:, 'string']"
      ],
      "execution_count": null,
      "outputs": [
        {
          "output_type": "execute_result",
          "data": {
            "text/plain": [
              "r0    a\n",
              "r1    b\n",
              "r2    c\n",
              "r3    d\n",
              "r4    e\n",
              "Name: string, dtype: object"
            ]
          },
          "metadata": {
            "tags": []
          },
          "execution_count": 18
        }
      ]
    },
    {
      "cell_type": "code",
      "metadata": {
        "id": "2wtwv9dbNPAf",
        "colab": {
          "base_uri": "https://localhost:8080/",
          "height": 111
        },
        "outputId": "9c256c01-586e-410a-9ba6-a44e5b22539e"
      },
      "source": [
        "df1.loc['r2':'r3', :]"
      ],
      "execution_count": null,
      "outputs": [
        {
          "output_type": "execute_result",
          "data": {
            "text/html": [
              "<div>\n",
              "<style scoped>\n",
              "    .dataframe tbody tr th:only-of-type {\n",
              "        vertical-align: middle;\n",
              "    }\n",
              "\n",
              "    .dataframe tbody tr th {\n",
              "        vertical-align: top;\n",
              "    }\n",
              "\n",
              "    .dataframe thead th {\n",
              "        text-align: right;\n",
              "    }\n",
              "</style>\n",
              "<table border=\"1\" class=\"dataframe\">\n",
              "  <thead>\n",
              "    <tr style=\"text-align: right;\">\n",
              "      <th></th>\n",
              "      <th>string</th>\n",
              "      <th>number</th>\n",
              "    </tr>\n",
              "  </thead>\n",
              "  <tbody>\n",
              "    <tr>\n",
              "      <th>r2</th>\n",
              "      <td>c</td>\n",
              "      <td>3.14</td>\n",
              "    </tr>\n",
              "    <tr>\n",
              "      <th>r3</th>\n",
              "      <td>d</td>\n",
              "      <td>100.00</td>\n",
              "    </tr>\n",
              "  </tbody>\n",
              "</table>\n",
              "</div>"
            ],
            "text/plain": [
              "   string  number\n",
              "r2      c    3.14\n",
              "r3      d  100.00"
            ]
          },
          "metadata": {
            "tags": []
          },
          "execution_count": 19
        }
      ]
    },
    {
      "cell_type": "code",
      "metadata": {
        "id": "NZEXCHfkyS6C"
      },
      "source": [
        ""
      ],
      "execution_count": null,
      "outputs": []
    }
  ]
}