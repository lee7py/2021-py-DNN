{
  "nbformat": 4,
  "nbformat_minor": 0,
  "metadata": {
    "colab": {
      "name": "seaborn_annotate.ipynb",
      "private_outputs": true,
      "provenance": [],
      "collapsed_sections": []
    },
    "kernelspec": {
      "display_name": "Python 3",
      "language": "python",
      "name": "python3"
    },
    "language_info": {
      "codemirror_mode": {
        "name": "ipython",
        "version": 3
      },
      "file_extension": ".py",
      "mimetype": "text/x-python",
      "name": "python",
      "nbconvert_exporter": "python",
      "pygments_lexer": "ipython3",
      "version": "3.6.1"
    },
    "varInspector": {
      "cols": {
        "lenName": 16,
        "lenType": 16,
        "lenVar": 40
      },
      "kernels_config": {
        "python": {
          "delete_cmd_postfix": "",
          "delete_cmd_prefix": "del ",
          "library": "var_list.py",
          "varRefreshCmd": "print(var_dic_list())"
        },
        "r": {
          "delete_cmd_postfix": ") ",
          "delete_cmd_prefix": "rm(",
          "library": "var_list.r",
          "varRefreshCmd": "cat(var_dic_list()) "
        }
      },
      "types_to_exclude": [
        "module",
        "function",
        "builtin_function_or_method",
        "instance",
        "_Feature"
      ],
      "window_display": false
    }
  },
  "cells": [
    {
      "cell_type": "markdown",
      "metadata": {
        "id": "xTkweQoUmEcQ"
      },
      "source": [
        "## Seaborn에서 annotate 사용하기\n",
        "* seaborn 에서 annotate로 원하는 텍스트를 찍고자 하면 matplotlib을 함께 사용해야 합니다."
      ]
    },
    {
      "cell_type": "code",
      "metadata": {
        "id": "3A1DkMs1W22P"
      },
      "source": [
        "# 필요한 라이브러리 로드\n",
        "import pandas as pd\n",
        "import matplotlib.pyplot as plt\n",
        "import seaborn as sns\n",
        "\n",
        "%matplotlib inline"
      ],
      "execution_count": null,
      "outputs": []
    },
    {
      "cell_type": "code",
      "metadata": {
        "id": "ddnhAn83XexP"
      },
      "source": [
        "# seaborn에 내장되어 있는 데이터셋을 불러옵니다.\n",
        "mpg = sns.load_dataset('mpg')\n",
        "# 불러온 데이터셋을 확인합니다.\n",
        "mpg.sample()"
      ],
      "execution_count": null,
      "outputs": []
    },
    {
      "cell_type": "code",
      "metadata": {
        "id": "5B3lA0obYQy9"
      },
      "source": [
        "mpg.info()"
      ],
      "execution_count": null,
      "outputs": []
    },
    {
      "cell_type": "code",
      "metadata": {
        "id": "65XW_XkNlyey"
      },
      "source": [
        "# countplot으로 origin에 해당되는 데이터의 수를 세어서 그래프로 시각화 합니다.\n",
        "# 여기에 각 데이터의 값을 그래프에 표현할 예정입니다.\n",
        "sns.countplot(data=mpg, x=\"origin\")"
      ],
      "execution_count": null,
      "outputs": []
    },
    {
      "cell_type": "code",
      "metadata": {
        "id": "MCB1xq6Ml0nd"
      },
      "source": [
        "# origin 별로 갯수를 집계한 결과를 재사용하기 위해 변수에 담습니다.\n",
        "mpg_origin = mpg[\"origin\"].value_counts()\n",
        "mpg_origin"
      ],
      "execution_count": null,
      "outputs": []
    },
    {
      "cell_type": "code",
      "metadata": {
        "id": "VEIzm4Qdl2lN"
      },
      "source": [
        "# mpg_origin_count에 담겨진 series 에서 원하는 데이터를 가져옵니다.\n",
        "mpg_origin[\"usa\"]"
      ],
      "execution_count": null,
      "outputs": []
    },
    {
      "cell_type": "code",
      "metadata": {
        "id": "_nSsJ8Fwl5qU"
      },
      "source": [
        "# 인덱스 번호로 가져올 수도 있습니다.\n",
        "# 반복된 작업을 피하기 위해 여기에서는 인덱스 번호를 사용할 예정입니다.\n",
        "mpg_origin[0]"
      ],
      "execution_count": null,
      "outputs": []
    },
    {
      "cell_type": "code",
      "metadata": {
        "id": "g_svSZXwZCRR"
      },
      "source": [
        "mpg_origin"
      ],
      "execution_count": null,
      "outputs": []
    },
    {
      "cell_type": "code",
      "metadata": {
        "id": "k8GMFnGrl9gy"
      },
      "source": [
        "g = sns.countplot(data=mpg, x=\"origin\")\n",
        "for i in range(mpg_origin.shape[0]):\n",
        "    g.text(x=i, y=mpg_origin[i], s=mpg_origin[i], \n",
        "           horizontalalignment='center')"
      ],
      "execution_count": null,
      "outputs": []
    },
    {
      "cell_type": "markdown",
      "metadata": {
        "id": "tQ4Df7KBrlkx"
      },
      "source": [
        "## regplot으로 그려보기"
      ]
    },
    {
      "cell_type": "code",
      "metadata": {
        "id": "fa-AggngX3vz"
      },
      "source": [
        "g = sns.regplot(data=mpg, x=\"horsepower\", y=\"acceleration\", fit_reg=False)\n",
        "\n",
        "g.text(x=200, y=20, s=\"200\", horizontalalignment='left', size='medium', color='black', weight='semibold')"
      ],
      "execution_count": null,
      "outputs": []
    },
    {
      "cell_type": "code",
      "metadata": {
        "id": "fOvtxg6ng8H-"
      },
      "source": [
        "mpg_xy = mpg[[\"horsepower\", \"acceleration\"]].copy()\n",
        "mpg_xy.columns = [\"x\", \"y\"]\n",
        "mpg_xy.sample()"
      ],
      "execution_count": null,
      "outputs": []
    },
    {
      "cell_type": "code",
      "metadata": {
        "id": "Omj3bYn4YEs_"
      },
      "source": [
        "mpg_row_count = mpg_xy.shape[0]\n",
        "mpg_row_count"
      ],
      "execution_count": null,
      "outputs": []
    },
    {
      "cell_type": "code",
      "metadata": {
        "id": "hz6NNfJoZma0"
      },
      "source": [
        "g = sns.regplot(data=mpg, x=\"horsepower\", y=\"acceleration\", fit_reg=False)\n",
        "for mpg_row_no in range(mpg_row_count):\n",
        "    # 매번 다 찍으면 너무 많기 때문에 10개에 하나씩만 찍도록\n",
        "    if mpg_row_no % 10 == 0:\n",
        "        g.text(x=mpg_xy.loc[mpg_row_no, \"x\"], \n",
        "               y=mpg_xy.loc[mpg_row_no, \"y\"], \n",
        "               s=mpg_xy.loc[mpg_row_no, \"x\"], \n",
        "               size='medium')"
      ],
      "execution_count": null,
      "outputs": []
    },
    {
      "cell_type": "code",
      "metadata": {
        "id": "hAj8U7GJYEs_"
      },
      "source": [
        ""
      ],
      "execution_count": null,
      "outputs": []
    }
  ]
}